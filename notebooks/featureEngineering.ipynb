{
 "cells": [
  {
   "cell_type": "markdown",
   "metadata": {
    "collapsed": true,
    "pycharm": {
     "name": "#%% md\n"
    }
   },
   "source": [
    "# Feature engineering"
   ]
  },
  {
   "cell_type": "markdown",
   "source": [
    "The goal of this part is to find useful features to improve our predictions using the libraries featuretools or autofeat"
   ],
   "metadata": {
    "collapsed": false,
    "pycharm": {
     "name": "#%% md\n"
    }
   }
  },
  {
   "cell_type": "code",
   "execution_count": 1,
   "outputs": [],
   "source": [
    "# import numpy as np\n",
    "import pandas as pd\n",
    "from autofeat import AutoFeatClassifier\n",
    "import joblib\n",
    "from sklearn.impute import SimpleImputer\n",
    "from sklearn.preprocessing import OrdinalEncoder\n",
    "from sklearn.preprocessing import OneHotEncoder"
   ],
   "metadata": {
    "collapsed": false,
    "pycharm": {
     "name": "#%%\n"
    }
   }
  },
  {
   "cell_type": "code",
   "execution_count": 2,
   "outputs": [],
   "source": [
    "def numerical_impute(data, numerical_list):\n",
    "    imputer_numerical = SimpleImputer(strategy='constant', fill_value=-1, missing_values=np.nan)\n",
    "    data_numerical = data.loc[:, numerical_list]\n",
    "    data_numerical_imputed = imputer_numerical.fit_transform(data_numerical)\n",
    "    data_numerical_imputed = pd.DataFrame(data_numerical_imputed, columns=numerical_list)\n",
    "    return data_numerical_imputed\n",
    "\n",
    "def categorical_impute_encode1(data, categorical_list):\n",
    "    # Imputing\n",
    "    imputer_categorical = SimpleImputer(strategy='constant', fill_value='missing', missing_values=np.nan)\n",
    "    data_categorical = data.loc[:, categorical_list]\n",
    "    data_categorical = imputer_categorical.fit_transform(data_categorical)\n",
    "    data_categorical = pd.DataFrame(data_categorical, columns=categorical_list)\n",
    "\n",
    "    # Ordinal encoding\n",
    "    ordinal_encoder = OrdinalEncoder()\n",
    "    data_categorical_encoded = ordinal_encoder.fit_transform(data_categorical)\n",
    "    data_categorical_encoded = pd.DataFrame(data_categorical_encoded, columns=categorical_list)\n",
    "    return data_categorical_encoded\n",
    "\n",
    "def categorical_impute_encode2(data, categorical_list_one_hot, categorical_list_ordinal):\n",
    "    # Imputing\n",
    "    imputer_categorical = SimpleImputer(strategy='constant', fill_value='missing', missing_values=np.nan)\n",
    "    data_categorical = data.loc[:, categorical_list_one_hot + categorical_list_ordinal]\n",
    "    data_categorical = imputer_categorical.fit_transform(data_categorical)\n",
    "    data_categorical = pd.DataFrame(data_categorical, columns=categorical_list_one_hot + categorical_list_ordinal)\n",
    "\n",
    "    # Ordinal encoding\n",
    "    ordinal_encoder = OrdinalEncoder()\n",
    "    data_categorical_ordinal = ordinal_encoder.fit_transform(data_categorical.loc[:, categorical_list_ordinal])\n",
    "    data_categorical_ordinal = pd.DataFrame(data_categorical_ordinal, columns=categorical_list_ordinal)\n",
    "\n",
    "    # One hot encoding\n",
    "    data_categorical_one_hot = pd.get_dummies(data_categorical.loc[:, categorical_list_one_hot])\n",
    "\n",
    "    data_categorical_encoded = pd.merge(data_categorical_ordinal, data_categorical_one_hot, left_index=True, right_index=True)\n",
    "\n",
    "    return data_categorical_encoded\n",
    "\n",
    "def data_clean(data, numerical_list, categorical_list_one_hot, categorical_list_ordinal):\n",
    "    # Changer les listes de features et les fonctions correspondantes\n",
    "    data = data.drop(\"respondent_id\", axis=1)\n",
    "    data_categorical_encoded = categorical_impute_encode2(data, categorical_list_one_hot, categorical_list_ordinal)\n",
    "    data_numerical_imputed = numerical_impute(data, numerical_list)\n",
    "    data_imputed_encoded = pd.merge(data_numerical_imputed, data_categorical_encoded, left_index=True, right_index=True)\n",
    "\n",
    "    return data_imputed_encoded"
   ],
   "metadata": {
    "collapsed": false,
    "pycharm": {
     "name": "#%%\n"
    }
   }
  },
  {
   "cell_type": "markdown",
   "source": [
    "Import des données\n",
    "========="
   ],
   "metadata": {
    "collapsed": false,
    "pycharm": {
     "name": "#%% md\n"
    }
   }
  },
  {
   "cell_type": "code",
   "execution_count": 3,
   "outputs": [],
   "source": [
    "FEATURES_TRAINING_PATH = \"training_set_features.csv\"\n",
    "LABELS_TRAINING_PATH = \"training_set_labels.csv\""
   ],
   "metadata": {
    "collapsed": false,
    "pycharm": {
     "name": "#%%\n"
    }
   }
  },
  {
   "cell_type": "code",
   "execution_count": 4,
   "outputs": [],
   "source": [
    "features = pd.read_csv(FEATURES_TRAINING_PATH, sep=\",\", header=0)\n",
    "labels = pd.read_csv(LABELS_TRAINING_PATH, sep=\",\", header=0)\n",
    "data_original = pd.merge(features, labels, on=\"respondent_id\")\n",
    "respondent_id = data_original['respondent_id']"
   ],
   "metadata": {
    "collapsed": false,
    "pycharm": {
     "name": "#%%\n"
    }
   }
  },
  {
   "cell_type": "code",
   "execution_count": 5,
   "outputs": [],
   "source": [
    "data = data_original.copy()"
   ],
   "metadata": {
    "collapsed": false,
    "pycharm": {
     "name": "#%%\n"
    }
   }
  },
  {
   "cell_type": "code",
   "execution_count": 6,
   "outputs": [],
   "source": [
    "arg_list = list(data.keys())\n",
    "features_list = arg_list.copy()\n",
    "features_list.remove(\"h1n1_vaccine\")\n",
    "features_list.remove(\"seasonal_vaccine\")\n",
    "features_list.remove(\"respondent_id\")\n",
    "\n",
    "labels_list = ['h1n1_vaccine', 'seasonal_vaccine']\n",
    "\n",
    "categorical_list = ['age_group', 'education', 'race', 'sex', 'income_poverty', 'marital_status', 'rent_or_own', 'employment_status', 'hhs_geo_region', 'census_msa','employment_industry', 'employment_occupation']\n",
    "\n",
    "categorical_list_one_hot = ['race', 'sex', 'marital_status', 'rent_or_own', 'employment_status', 'hhs_geo_region', 'census_msa', 'employment_industry', 'employment_occupation']\n",
    "\n",
    "categorical_list_ordinal = [k for k in categorical_list if k not in categorical_list_one_hot]\n",
    "\n",
    "numerical_list = [k for k in features_list if k not in categorical_list]"
   ],
   "metadata": {
    "collapsed": false,
    "pycharm": {
     "name": "#%%\n"
    }
   }
  },
  {
   "cell_type": "code",
   "execution_count": 8,
   "outputs": [],
   "source": [
    "data = data_clean(data, numerical_list, categorical_list_one_hot, categorical_list_ordinal)"
   ],
   "metadata": {
    "collapsed": false,
    "pycharm": {
     "name": "#%%\n"
    }
   }
  },
  {
   "cell_type": "code",
   "execution_count": 28,
   "outputs": [
    {
     "name": "stdout",
     "output_type": "stream",
     "text": [
      "<class 'pandas.core.frame.DataFrame'>\n",
      "Int64Index: 26707 entries, 0 to 26706\n",
      "Data columns (total 38 columns):\n",
      " #   Column                       Non-Null Count  Dtype  \n",
      "---  ------                       --------------  -----  \n",
      " 0   respondent_id                26707 non-null  int64  \n",
      " 1   h1n1_concern                 26615 non-null  float64\n",
      " 2   h1n1_knowledge               26591 non-null  float64\n",
      " 3   behavioral_antiviral_meds    26636 non-null  float64\n",
      " 4   behavioral_avoidance         26499 non-null  float64\n",
      " 5   behavioral_face_mask         26688 non-null  float64\n",
      " 6   behavioral_wash_hands        26665 non-null  float64\n",
      " 7   behavioral_large_gatherings  26620 non-null  float64\n",
      " 8   behavioral_outside_home      26625 non-null  float64\n",
      " 9   behavioral_touch_face        26579 non-null  float64\n",
      " 10  doctor_recc_h1n1             24547 non-null  float64\n",
      " 11  doctor_recc_seasonal         24547 non-null  float64\n",
      " 12  chronic_med_condition        25736 non-null  float64\n",
      " 13  child_under_6_months         25887 non-null  float64\n",
      " 14  health_worker                25903 non-null  float64\n",
      " 15  health_insurance             14433 non-null  float64\n",
      " 16  opinion_h1n1_vacc_effective  26316 non-null  float64\n",
      " 17  opinion_h1n1_risk            26319 non-null  float64\n",
      " 18  opinion_h1n1_sick_from_vacc  26312 non-null  float64\n",
      " 19  opinion_seas_vacc_effective  26245 non-null  float64\n",
      " 20  opinion_seas_risk            26193 non-null  float64\n",
      " 21  opinion_seas_sick_from_vacc  26170 non-null  float64\n",
      " 22  age_group                    26707 non-null  object \n",
      " 23  education                    25300 non-null  object \n",
      " 24  race                         26707 non-null  object \n",
      " 25  sex                          26707 non-null  object \n",
      " 26  income_poverty               22284 non-null  object \n",
      " 27  marital_status               25299 non-null  object \n",
      " 28  rent_or_own                  24665 non-null  object \n",
      " 29  employment_status            25244 non-null  object \n",
      " 30  hhs_geo_region               26707 non-null  object \n",
      " 31  census_msa                   26707 non-null  object \n",
      " 32  household_adults             26458 non-null  float64\n",
      " 33  household_children           26458 non-null  float64\n",
      " 34  employment_industry          13377 non-null  object \n",
      " 35  employment_occupation        13237 non-null  object \n",
      " 36  h1n1_vaccine                 26707 non-null  int64  \n",
      " 37  seasonal_vaccine             26707 non-null  int64  \n",
      "dtypes: float64(23), int64(3), object(12)\n",
      "memory usage: 9.0+ MB\n"
     ]
    }
   ],
   "source": [
    "data.info()"
   ],
   "metadata": {
    "collapsed": false,
    "pycharm": {
     "name": "#%%\n"
    }
   }
  },
  {
   "cell_type": "code",
   "execution_count": 17,
   "outputs": [
    {
     "data": {
      "text/plain": "   respondent_id  h1n1_concern  h1n1_knowledge  behavioral_antiviral_meds  \\\n0              0           1.0             0.0                        0.0   \n1              1           3.0             2.0                        0.0   \n2              2           1.0             1.0                        0.0   \n3              3           1.0             1.0                        0.0   \n4              4           2.0             1.0                        0.0   \n\n   behavioral_avoidance  behavioral_face_mask  behavioral_wash_hands  \\\n0                   0.0                   0.0                    0.0   \n1                   1.0                   0.0                    1.0   \n2                   1.0                   0.0                    0.0   \n3                   1.0                   0.0                    1.0   \n4                   1.0                   0.0                    1.0   \n\n   behavioral_large_gatherings  behavioral_outside_home  \\\n0                          0.0                      1.0   \n1                          0.0                      1.0   \n2                          0.0                      0.0   \n3                          1.0                      0.0   \n4                          1.0                      0.0   \n\n   behavioral_touch_face  ...  employment_occupation_qxajmpny  \\\n0                    1.0  ...                               0   \n1                    1.0  ...                               0   \n2                    0.0  ...                               0   \n3                    0.0  ...                               0   \n4                    1.0  ...                               0   \n\n   employment_occupation_rcertsgn  employment_occupation_tfqavkke  \\\n0                               0                               0   \n1                               0                               0   \n2                               0                               0   \n3                               0                               0   \n4                               0                               0   \n\n   employment_occupation_ukymxvdu  employment_occupation_uqqtjvyb  \\\n0                               0                               0   \n1                               0                               0   \n2                               0                               0   \n3                               0                               0   \n4                               0                               0   \n\n   employment_occupation_vlluhbov  employment_occupation_xgwztkwe  \\\n0                               0                               0   \n1                               0                               1   \n2                               0                               0   \n3                               0                               0   \n4                               0                               0   \n\n   employment_occupation_xqwwgdyp  employment_occupation_xtkaffoo  \\\n0                               0                               0   \n1                               0                               0   \n2                               0                               1   \n3                               0                               0   \n4                               0                               0   \n\n   employment_occupation_xzmlyyjv  \n0                               0  \n1                               0  \n2                               0  \n3                               0  \n4                               0  \n\n[5 rows x 102 columns]",
      "text/html": "<div>\n<style scoped>\n    .dataframe tbody tr th:only-of-type {\n        vertical-align: middle;\n    }\n\n    .dataframe tbody tr th {\n        vertical-align: top;\n    }\n\n    .dataframe thead th {\n        text-align: right;\n    }\n</style>\n<table border=\"1\" class=\"dataframe\">\n  <thead>\n    <tr style=\"text-align: right;\">\n      <th></th>\n      <th>respondent_id</th>\n      <th>h1n1_concern</th>\n      <th>h1n1_knowledge</th>\n      <th>behavioral_antiviral_meds</th>\n      <th>behavioral_avoidance</th>\n      <th>behavioral_face_mask</th>\n      <th>behavioral_wash_hands</th>\n      <th>behavioral_large_gatherings</th>\n      <th>behavioral_outside_home</th>\n      <th>behavioral_touch_face</th>\n      <th>...</th>\n      <th>employment_occupation_qxajmpny</th>\n      <th>employment_occupation_rcertsgn</th>\n      <th>employment_occupation_tfqavkke</th>\n      <th>employment_occupation_ukymxvdu</th>\n      <th>employment_occupation_uqqtjvyb</th>\n      <th>employment_occupation_vlluhbov</th>\n      <th>employment_occupation_xgwztkwe</th>\n      <th>employment_occupation_xqwwgdyp</th>\n      <th>employment_occupation_xtkaffoo</th>\n      <th>employment_occupation_xzmlyyjv</th>\n    </tr>\n  </thead>\n  <tbody>\n    <tr>\n      <th>0</th>\n      <td>0</td>\n      <td>1.0</td>\n      <td>0.0</td>\n      <td>0.0</td>\n      <td>0.0</td>\n      <td>0.0</td>\n      <td>0.0</td>\n      <td>0.0</td>\n      <td>1.0</td>\n      <td>1.0</td>\n      <td>...</td>\n      <td>0</td>\n      <td>0</td>\n      <td>0</td>\n      <td>0</td>\n      <td>0</td>\n      <td>0</td>\n      <td>0</td>\n      <td>0</td>\n      <td>0</td>\n      <td>0</td>\n    </tr>\n    <tr>\n      <th>1</th>\n      <td>1</td>\n      <td>3.0</td>\n      <td>2.0</td>\n      <td>0.0</td>\n      <td>1.0</td>\n      <td>0.0</td>\n      <td>1.0</td>\n      <td>0.0</td>\n      <td>1.0</td>\n      <td>1.0</td>\n      <td>...</td>\n      <td>0</td>\n      <td>0</td>\n      <td>0</td>\n      <td>0</td>\n      <td>0</td>\n      <td>0</td>\n      <td>1</td>\n      <td>0</td>\n      <td>0</td>\n      <td>0</td>\n    </tr>\n    <tr>\n      <th>2</th>\n      <td>2</td>\n      <td>1.0</td>\n      <td>1.0</td>\n      <td>0.0</td>\n      <td>1.0</td>\n      <td>0.0</td>\n      <td>0.0</td>\n      <td>0.0</td>\n      <td>0.0</td>\n      <td>0.0</td>\n      <td>...</td>\n      <td>0</td>\n      <td>0</td>\n      <td>0</td>\n      <td>0</td>\n      <td>0</td>\n      <td>0</td>\n      <td>0</td>\n      <td>0</td>\n      <td>1</td>\n      <td>0</td>\n    </tr>\n    <tr>\n      <th>3</th>\n      <td>3</td>\n      <td>1.0</td>\n      <td>1.0</td>\n      <td>0.0</td>\n      <td>1.0</td>\n      <td>0.0</td>\n      <td>1.0</td>\n      <td>1.0</td>\n      <td>0.0</td>\n      <td>0.0</td>\n      <td>...</td>\n      <td>0</td>\n      <td>0</td>\n      <td>0</td>\n      <td>0</td>\n      <td>0</td>\n      <td>0</td>\n      <td>0</td>\n      <td>0</td>\n      <td>0</td>\n      <td>0</td>\n    </tr>\n    <tr>\n      <th>4</th>\n      <td>4</td>\n      <td>2.0</td>\n      <td>1.0</td>\n      <td>0.0</td>\n      <td>1.0</td>\n      <td>0.0</td>\n      <td>1.0</td>\n      <td>1.0</td>\n      <td>0.0</td>\n      <td>1.0</td>\n      <td>...</td>\n      <td>0</td>\n      <td>0</td>\n      <td>0</td>\n      <td>0</td>\n      <td>0</td>\n      <td>0</td>\n      <td>0</td>\n      <td>0</td>\n      <td>0</td>\n      <td>0</td>\n    </tr>\n  </tbody>\n</table>\n<p>5 rows × 102 columns</p>\n</div>"
     },
     "execution_count": 17,
     "metadata": {},
     "output_type": "execute_result"
    }
   ],
   "source": [
    "data = pd.merge(respondent_id, data, right_index=True, left_index=True) # On remet respondent_id pour un test avec featuretools"
   ],
   "metadata": {
    "collapsed": false,
    "pycharm": {
     "name": "#%%\n"
    }
   }
  },
  {
   "cell_type": "markdown",
   "source": [
    "Featuretools\n",
    "======="
   ],
   "metadata": {
    "collapsed": false,
    "pycharm": {
     "name": "#%% md\n"
    }
   }
  },
  {
   "cell_type": "code",
   "execution_count": 24,
   "outputs": [],
   "source": [
    "es = ft.EntitySet(id=\"dataset\")"
   ],
   "metadata": {
    "collapsed": false,
    "pycharm": {
     "name": "#%%\n"
    }
   }
  },
  {
   "cell_type": "code",
   "execution_count": 25,
   "outputs": [
    {
     "name": "stderr",
     "output_type": "stream",
     "text": [
      "c:\\users\\romai\\documents\\projets\\lib\\site-packages\\featuretools\\entityset\\entityset.py:660: UserWarning: A Woodwork-initialized DataFrame was provided, so the following parameters were ignored: index\n",
      "  warnings.warn(\"A Woodwork-initialized DataFrame was provided, so the following parameters were ignored: \" + \", \".join(extra_params))\n"
     ]
    }
   ],
   "source": [
    "es = es.add_dataframe(dataframe_name=\"data\", dataframe=data, index=\"respondent_id\")"
   ],
   "metadata": {
    "collapsed": false,
    "pycharm": {
     "name": "#%%\n"
    }
   }
  },
  {
   "cell_type": "code",
   "execution_count": 23,
   "outputs": [
    {
     "ename": "ValueError",
     "evalue": "'index' must be different from the index column of the base dataframe",
     "output_type": "error",
     "traceback": [
      "\u001B[1;31m---------------------------------------------------------------------------\u001B[0m",
      "\u001B[1;31mValueError\u001B[0m                                Traceback (most recent call last)",
      "\u001B[1;32m~\\AppData\\Local\\Temp/ipykernel_4472/746019648.py\u001B[0m in \u001B[0;36m<module>\u001B[1;34m\u001B[0m\n\u001B[1;32m----> 1\u001B[1;33m \u001B[0mes\u001B[0m \u001B[1;33m=\u001B[0m \u001B[0mes\u001B[0m\u001B[1;33m.\u001B[0m\u001B[0mnormalize_dataframe\u001B[0m\u001B[1;33m(\u001B[0m\u001B[0mbase_dataframe_name\u001B[0m\u001B[1;33m=\u001B[0m\u001B[1;34m\"data\"\u001B[0m\u001B[1;33m,\u001B[0m \u001B[0mnew_dataframe_name\u001B[0m\u001B[1;33m=\u001B[0m\u001B[1;34m\"respondent\"\u001B[0m\u001B[1;33m,\u001B[0m \u001B[0mindex\u001B[0m\u001B[1;33m=\u001B[0m\u001B[1;34m\"respondent_id\"\u001B[0m\u001B[1;33m)\u001B[0m\u001B[1;33m\u001B[0m\u001B[1;33m\u001B[0m\u001B[0m\n\u001B[0m",
      "\u001B[1;32mc:\\users\\romai\\documents\\projets\\lib\\site-packages\\featuretools\\entityset\\entityset.py\u001B[0m in \u001B[0;36mnormalize_dataframe\u001B[1;34m(self, base_dataframe_name, new_dataframe_name, index, additional_columns, copy_columns, make_time_index, make_secondary_time_index, new_dataframe_time_index, new_dataframe_secondary_time_index)\u001B[0m\n\u001B[0;32m    736\u001B[0m                 \u001B[1;32mraise\u001B[0m \u001B[0mValueError\u001B[0m\u001B[1;33m(\u001B[0m\u001B[1;34m\"'make_time_index' must be specified in 'additional_columns' or 'copy_columns'\"\u001B[0m\u001B[1;33m)\u001B[0m\u001B[1;33m\u001B[0m\u001B[1;33m\u001B[0m\u001B[0m\n\u001B[0;32m    737\u001B[0m         \u001B[1;32mif\u001B[0m \u001B[0mindex\u001B[0m \u001B[1;33m==\u001B[0m \u001B[0mbase_dataframe\u001B[0m\u001B[1;33m.\u001B[0m\u001B[0mww\u001B[0m\u001B[1;33m.\u001B[0m\u001B[0mindex\u001B[0m\u001B[1;33m:\u001B[0m\u001B[1;33m\u001B[0m\u001B[1;33m\u001B[0m\u001B[0m\n\u001B[1;32m--> 738\u001B[1;33m             \u001B[1;32mraise\u001B[0m \u001B[0mValueError\u001B[0m\u001B[1;33m(\u001B[0m\u001B[1;34m\"'index' must be different from the index column of the base dataframe\"\u001B[0m\u001B[1;33m)\u001B[0m\u001B[1;33m\u001B[0m\u001B[1;33m\u001B[0m\u001B[0m\n\u001B[0m\u001B[0;32m    739\u001B[0m \u001B[1;33m\u001B[0m\u001B[0m\n\u001B[0;32m    740\u001B[0m         \u001B[0mtransfer_types\u001B[0m \u001B[1;33m=\u001B[0m \u001B[1;33m{\u001B[0m\u001B[1;33m}\u001B[0m\u001B[1;33m\u001B[0m\u001B[1;33m\u001B[0m\u001B[0m\n",
      "\u001B[1;31mValueError\u001B[0m: 'index' must be different from the index column of the base dataframe"
     ]
    }
   ],
   "source": [
    "# es = es.normalize_dataframe(base_dataframe_name=\"data\", new_dataframe_name=\"respondent\", index=\"respondent_id\")"
   ],
   "metadata": {
    "collapsed": false,
    "pycharm": {
     "name": "#%%\n"
    }
   }
  },
  {
   "cell_type": "code",
   "execution_count": 26,
   "outputs": [],
   "source": [
    "default_agg_primitives =  [\"sum\", \"std\", \"max\", \"skew\", \"min\", \"mean\", \"count\", \"percent_true\", \"num_unique\", \"mode\"]"
   ],
   "metadata": {
    "collapsed": false,
    "pycharm": {
     "name": "#%%\n"
    }
   }
  },
  {
   "cell_type": "code",
   "execution_count": null,
   "outputs": [],
   "source": [
    "best_trans_primitives = ['add_numeric', 'multiply_numeric', 'less_than_scalar', 'divide_numeric', 'greater_than_scalar', 'rolling_std', 'cum_mean', 'cum_count']"
   ],
   "metadata": {
    "collapsed": false,
    "pycharm": {
     "name": "#%%\n"
    }
   }
  },
  {
   "cell_type": "code",
   "execution_count": 28,
   "outputs": [
    {
     "name": "stderr",
     "output_type": "stream",
     "text": [
      "c:\\users\\romai\\documents\\projets\\lib\\site-packages\\featuretools\\synthesis\\deep_feature_synthesis.py:156: UserWarning: Only one dataframe in entityset, changing max_depth to 1 since deeper features cannot be created\n",
      "  warnings.warn(\"Only one dataframe in entityset, changing max_depth to \"\n",
      "c:\\users\\romai\\documents\\projets\\lib\\site-packages\\featuretools\\synthesis\\dfs.py:309: UnusedPrimitiveWarning: Some specified primitives were not used during DFS:\n",
      "  agg_primitives: ['count', 'max', 'mean', 'min', 'mode', 'num_unique', 'percent_true', 'skew', 'std', 'sum']\n",
      "This may be caused by a using a value of max_depth that is too small, not setting interesting values, or it may indicate no compatible columns for the primitive were found in the data.\n",
      "  warnings.warn(warning_msg, UnusedPrimitiveWarning)\n"
     ]
    },
    {
     "data": {
      "text/plain": "[<Feature: h1n1_concern>,\n <Feature: h1n1_knowledge>,\n <Feature: behavioral_antiviral_meds>,\n <Feature: behavioral_avoidance>,\n <Feature: behavioral_face_mask>,\n <Feature: behavioral_wash_hands>,\n <Feature: behavioral_large_gatherings>,\n <Feature: behavioral_outside_home>,\n <Feature: behavioral_touch_face>,\n <Feature: doctor_recc_h1n1>,\n <Feature: doctor_recc_seasonal>,\n <Feature: chronic_med_condition>,\n <Feature: child_under_6_months>,\n <Feature: health_worker>,\n <Feature: health_insurance>,\n <Feature: opinion_h1n1_vacc_effective>,\n <Feature: opinion_h1n1_risk>,\n <Feature: opinion_h1n1_sick_from_vacc>,\n <Feature: opinion_seas_vacc_effective>,\n <Feature: opinion_seas_risk>,\n <Feature: opinion_seas_sick_from_vacc>,\n <Feature: household_adults>,\n <Feature: household_children>,\n <Feature: age_group>,\n <Feature: education>,\n <Feature: income_poverty>,\n <Feature: race_Black>,\n <Feature: race_Hispanic>,\n <Feature: race_Other or Multiple>,\n <Feature: race_White>,\n <Feature: sex_Female>,\n <Feature: sex_Male>,\n <Feature: marital_status_Married>,\n <Feature: marital_status_Not Married>,\n <Feature: marital_status_missing>,\n <Feature: rent_or_own_Own>,\n <Feature: rent_or_own_Rent>,\n <Feature: rent_or_own_missing>,\n <Feature: employment_status_Employed>,\n <Feature: employment_status_Not in Labor Force>,\n <Feature: employment_status_Unemployed>,\n <Feature: employment_status_missing>,\n <Feature: hhs_geo_region_atmpeygn>,\n <Feature: hhs_geo_region_bhuqouqj>,\n <Feature: hhs_geo_region_dqpwygqj>,\n <Feature: hhs_geo_region_fpwskwrf>,\n <Feature: hhs_geo_region_kbazzjca>,\n <Feature: hhs_geo_region_lrircsnp>,\n <Feature: hhs_geo_region_lzgpxyit>,\n <Feature: hhs_geo_region_mlyzmhmf>,\n <Feature: hhs_geo_region_oxchjgsf>,\n <Feature: hhs_geo_region_qufhixun>,\n <Feature: census_msa_MSA, Not Principle  City>,\n <Feature: census_msa_MSA, Principle City>,\n <Feature: census_msa_Non-MSA>,\n <Feature: employment_industry_arjwrbjb>,\n <Feature: employment_industry_atmlpfrs>,\n <Feature: employment_industry_cfqqtusy>,\n <Feature: employment_industry_dotnnunm>,\n <Feature: employment_industry_fcxhlnwr>,\n <Feature: employment_industry_haxffmxo>,\n <Feature: employment_industry_ldnlellj>,\n <Feature: employment_industry_mcubkhph>,\n <Feature: employment_industry_mfikgejo>,\n <Feature: employment_industry_missing>,\n <Feature: employment_industry_msuufmds>,\n <Feature: employment_industry_nduyfdeo>,\n <Feature: employment_industry_phxvnwax>,\n <Feature: employment_industry_pxcmvdjn>,\n <Feature: employment_industry_qnlwzans>,\n <Feature: employment_industry_rucpziij>,\n <Feature: employment_industry_saaquncn>,\n <Feature: employment_industry_vjjrobsf>,\n <Feature: employment_industry_wlfvacwt>,\n <Feature: employment_industry_wxleyezf>,\n <Feature: employment_industry_xicduogh>,\n <Feature: employment_industry_xqicxuve>,\n <Feature: employment_occupation_bxpfxfdn>,\n <Feature: employment_occupation_ccgxvspp>,\n <Feature: employment_occupation_cmhcxjea>,\n <Feature: employment_occupation_dcjcmpih>,\n <Feature: employment_occupation_dlvbwzss>,\n <Feature: employment_occupation_emcorrxb>,\n <Feature: employment_occupation_haliazsg>,\n <Feature: employment_occupation_hfxkjkmi>,\n <Feature: employment_occupation_hodpvpew>,\n <Feature: employment_occupation_kldqjyjy>,\n <Feature: employment_occupation_missing>,\n <Feature: employment_occupation_mxkfnird>,\n <Feature: employment_occupation_oijqvulv>,\n <Feature: employment_occupation_pvmttkik>,\n <Feature: employment_occupation_qxajmpny>,\n <Feature: employment_occupation_rcertsgn>,\n <Feature: employment_occupation_tfqavkke>,\n <Feature: employment_occupation_ukymxvdu>,\n <Feature: employment_occupation_uqqtjvyb>,\n <Feature: employment_occupation_vlluhbov>,\n <Feature: employment_occupation_xgwztkwe>,\n <Feature: employment_occupation_xqwwgdyp>,\n <Feature: employment_occupation_xtkaffoo>,\n <Feature: employment_occupation_xzmlyyjv>]"
     },
     "execution_count": 28,
     "metadata": {},
     "output_type": "execute_result"
    }
   ],
   "source": [
    "feature_names = ft.dfs(\n",
    "    entityset=es,\n",
    "    target_dataframe_name=\"data\",\n",
    "    max_depth=2,\n",
    "    trans_primitives=default_agg_primitives,\n",
    "    features_only=True,\n",
    ")\n",
    "feature_names"
   ],
   "metadata": {
    "collapsed": false,
    "pycharm": {
     "name": "#%%\n"
    }
   }
  },
  {
   "cell_type": "code",
   "execution_count": 29,
   "outputs": [
    {
     "data": {
      "text/plain": "                         name       type  dask_compatible  koalas_compatible  \\\n22  less_than_equal_to_scalar  transform             True               True   \n23              url_to_domain  transform            False              False   \n24                   absolute  transform             True               True   \n25             num_characters  transform             True               True   \n26           less_than_scalar  transform             True               True   \n..                        ...        ...              ...                ...   \n85                 url_to_tld  transform            False              False   \n86                       week  transform             True               True   \n87          divide_by_feature  transform             True               True   \n88               rolling_mean  transform            False              False   \n89      modulo_numeric_scalar  transform             True               True   \n\n                                          description  \\\n22  Determines if values are less than or equal to...   \n23                    Determines the domain of a url.   \n24           Computes the absolute value of a number.   \n25   Calculates the number of characters in a string.   \n26  Determines if values are less than a given sca...   \n..                                                ...   \n85          Determines the top level domain of a url.   \n86   Determines the week of the year from a datetime.   \n87         Divide a scalar by each value in the list.   \n88  Calculates the mean of entries over a given wi...   \n89  Return the modulo of each element in the list ...   \n\n                                         valid_inputs return_type  \n22  <ColumnSchema (Logical Type = Ordinal)>, <Colu...        None  \n23                <ColumnSchema (Logical Type = URL)>        None  \n24       <ColumnSchema (Semantic Tags = ['numeric'])>        None  \n25    <ColumnSchema (Logical Type = NaturalLanguage)>        None  \n26  <ColumnSchema (Logical Type = Ordinal)>, <Colu...        None  \n..                                                ...         ...  \n85                <ColumnSchema (Logical Type = URL)>        None  \n86           <ColumnSchema (Logical Type = Datetime)>        None  \n87       <ColumnSchema (Semantic Tags = ['numeric'])>        None  \n88  <ColumnSchema (Logical Type = Datetime) (Seman...        None  \n89       <ColumnSchema (Semantic Tags = ['numeric'])>        None  \n\n[68 rows x 7 columns]",
      "text/html": "<div>\n<style scoped>\n    .dataframe tbody tr th:only-of-type {\n        vertical-align: middle;\n    }\n\n    .dataframe tbody tr th {\n        vertical-align: top;\n    }\n\n    .dataframe thead th {\n        text-align: right;\n    }\n</style>\n<table border=\"1\" class=\"dataframe\">\n  <thead>\n    <tr style=\"text-align: right;\">\n      <th></th>\n      <th>name</th>\n      <th>type</th>\n      <th>dask_compatible</th>\n      <th>koalas_compatible</th>\n      <th>description</th>\n      <th>valid_inputs</th>\n      <th>return_type</th>\n    </tr>\n  </thead>\n  <tbody>\n    <tr>\n      <th>22</th>\n      <td>less_than_equal_to_scalar</td>\n      <td>transform</td>\n      <td>True</td>\n      <td>True</td>\n      <td>Determines if values are less than or equal to...</td>\n      <td>&lt;ColumnSchema (Logical Type = Ordinal)&gt;, &lt;Colu...</td>\n      <td>None</td>\n    </tr>\n    <tr>\n      <th>23</th>\n      <td>url_to_domain</td>\n      <td>transform</td>\n      <td>False</td>\n      <td>False</td>\n      <td>Determines the domain of a url.</td>\n      <td>&lt;ColumnSchema (Logical Type = URL)&gt;</td>\n      <td>None</td>\n    </tr>\n    <tr>\n      <th>24</th>\n      <td>absolute</td>\n      <td>transform</td>\n      <td>True</td>\n      <td>True</td>\n      <td>Computes the absolute value of a number.</td>\n      <td>&lt;ColumnSchema (Semantic Tags = ['numeric'])&gt;</td>\n      <td>None</td>\n    </tr>\n    <tr>\n      <th>25</th>\n      <td>num_characters</td>\n      <td>transform</td>\n      <td>True</td>\n      <td>True</td>\n      <td>Calculates the number of characters in a string.</td>\n      <td>&lt;ColumnSchema (Logical Type = NaturalLanguage)&gt;</td>\n      <td>None</td>\n    </tr>\n    <tr>\n      <th>26</th>\n      <td>less_than_scalar</td>\n      <td>transform</td>\n      <td>True</td>\n      <td>True</td>\n      <td>Determines if values are less than a given sca...</td>\n      <td>&lt;ColumnSchema (Logical Type = Ordinal)&gt;, &lt;Colu...</td>\n      <td>None</td>\n    </tr>\n    <tr>\n      <th>...</th>\n      <td>...</td>\n      <td>...</td>\n      <td>...</td>\n      <td>...</td>\n      <td>...</td>\n      <td>...</td>\n      <td>...</td>\n    </tr>\n    <tr>\n      <th>85</th>\n      <td>url_to_tld</td>\n      <td>transform</td>\n      <td>False</td>\n      <td>False</td>\n      <td>Determines the top level domain of a url.</td>\n      <td>&lt;ColumnSchema (Logical Type = URL)&gt;</td>\n      <td>None</td>\n    </tr>\n    <tr>\n      <th>86</th>\n      <td>week</td>\n      <td>transform</td>\n      <td>True</td>\n      <td>True</td>\n      <td>Determines the week of the year from a datetime.</td>\n      <td>&lt;ColumnSchema (Logical Type = Datetime)&gt;</td>\n      <td>None</td>\n    </tr>\n    <tr>\n      <th>87</th>\n      <td>divide_by_feature</td>\n      <td>transform</td>\n      <td>True</td>\n      <td>True</td>\n      <td>Divide a scalar by each value in the list.</td>\n      <td>&lt;ColumnSchema (Semantic Tags = ['numeric'])&gt;</td>\n      <td>None</td>\n    </tr>\n    <tr>\n      <th>88</th>\n      <td>rolling_mean</td>\n      <td>transform</td>\n      <td>False</td>\n      <td>False</td>\n      <td>Calculates the mean of entries over a given wi...</td>\n      <td>&lt;ColumnSchema (Logical Type = Datetime) (Seman...</td>\n      <td>None</td>\n    </tr>\n    <tr>\n      <th>89</th>\n      <td>modulo_numeric_scalar</td>\n      <td>transform</td>\n      <td>True</td>\n      <td>True</td>\n      <td>Return the modulo of each element in the list ...</td>\n      <td>&lt;ColumnSchema (Semantic Tags = ['numeric'])&gt;</td>\n      <td>None</td>\n    </tr>\n  </tbody>\n</table>\n<p>68 rows × 7 columns</p>\n</div>"
     },
     "execution_count": 29,
     "metadata": {},
     "output_type": "execute_result"
    }
   ],
   "source": [
    "ft.primitives.list_primitives()[ft.primitives.list_primitives()['type'] == 'transform']"
   ],
   "metadata": {
    "collapsed": false,
    "pycharm": {
     "name": "#%%\n"
    }
   }
  },
  {
   "cell_type": "code",
   "execution_count": 45,
   "outputs": [
    {
     "data": {
      "text/plain": "                name         type  dask_compatible  koalas_compatible  \\\n0                std  aggregation             True               True   \n1               mean  aggregation             True               True   \n2                max  aggregation             True               True   \n3       percent_true  aggregation             True              False   \n4   time_since_first  aggregation            False              False   \n5                any  aggregation             True              False   \n6                sum  aggregation             True               True   \n7         num_unique  aggregation             True               True   \n8               last  aggregation            False              False   \n9                all  aggregation             True              False   \n10           entropy  aggregation            False              False   \n11               min  aggregation             True               True   \n12             first  aggregation            False              False   \n13     n_most_common  aggregation            False              False   \n14            median  aggregation            False              False   \n15              skew  aggregation            False              False   \n16   time_since_last  aggregation            False              False   \n17             count  aggregation             True               True   \n18              mode  aggregation            False              False   \n19          num_true  aggregation             True              False   \n20  avg_time_between  aggregation            False              False   \n21             trend  aggregation            False              False   \n\n                                          description  \\\n0   Computes the dispersion relative to the mean v...   \n1          Computes the average for a list of values.   \n2   Calculates the highest value, ignoring `NaN` v...   \n3            Determines the percent of `True` values.   \n4   Calculates the time elapsed since the first da...   \n5        Determines if any value is 'True' in a list.   \n6      Calculates the total addition, ignoring `NaN`.   \n7   Determines the number of distinct values, igno...   \n8                Determines the last value in a list.   \n9      Calculates if all values are 'True' in a list.   \n10    Calculates the entropy for a categorical column   \n11  Calculates the smallest value, ignoring `NaN` ...   \n12              Determines the first value in a list.   \n13           Determines the `n` most common elements.   \n14  Determines the middlemost number in a list of ...   \n15  Computes the extent to which a distribution di...   \n16  Calculates the time elapsed since the last dat...   \n17  Determines the total number of values, excludi...   \n18       Determines the most commonly repeated value.   \n19                Counts the number of `True` values.   \n20  Computes the average number of seconds between...   \n21        Calculates the trend of a column over time.   \n\n                                         valid_inputs return_type  \n0        <ColumnSchema (Semantic Tags = ['numeric'])>        None  \n1        <ColumnSchema (Semantic Tags = ['numeric'])>        None  \n2        <ColumnSchema (Semantic Tags = ['numeric'])>        None  \n3   <ColumnSchema (Logical Type = BooleanNullable)...        None  \n4   <ColumnSchema (Logical Type = Datetime) (Seman...        None  \n5   <ColumnSchema (Logical Type = BooleanNullable)...        None  \n6        <ColumnSchema (Semantic Tags = ['numeric'])>        None  \n7       <ColumnSchema (Semantic Tags = ['category'])>        None  \n8                                      <ColumnSchema>        None  \n9   <ColumnSchema (Logical Type = BooleanNullable)...        None  \n10      <ColumnSchema (Semantic Tags = ['category'])>        None  \n11       <ColumnSchema (Semantic Tags = ['numeric'])>        None  \n12                                     <ColumnSchema>        None  \n13      <ColumnSchema (Semantic Tags = ['category'])>        None  \n14       <ColumnSchema (Semantic Tags = ['numeric'])>        None  \n15       <ColumnSchema (Semantic Tags = ['numeric'])>        None  \n16  <ColumnSchema (Logical Type = Datetime) (Seman...        None  \n17         <ColumnSchema (Semantic Tags = ['index'])>        None  \n18      <ColumnSchema (Semantic Tags = ['category'])>        None  \n19  <ColumnSchema (Logical Type = BooleanNullable)...        None  \n20  <ColumnSchema (Logical Type = Datetime) (Seman...        None  \n21  <ColumnSchema (Logical Type = Datetime) (Seman...        None  ",
      "text/html": "<div>\n<style scoped>\n    .dataframe tbody tr th:only-of-type {\n        vertical-align: middle;\n    }\n\n    .dataframe tbody tr th {\n        vertical-align: top;\n    }\n\n    .dataframe thead th {\n        text-align: right;\n    }\n</style>\n<table border=\"1\" class=\"dataframe\">\n  <thead>\n    <tr style=\"text-align: right;\">\n      <th></th>\n      <th>name</th>\n      <th>type</th>\n      <th>dask_compatible</th>\n      <th>koalas_compatible</th>\n      <th>description</th>\n      <th>valid_inputs</th>\n      <th>return_type</th>\n    </tr>\n  </thead>\n  <tbody>\n    <tr>\n      <th>0</th>\n      <td>std</td>\n      <td>aggregation</td>\n      <td>True</td>\n      <td>True</td>\n      <td>Computes the dispersion relative to the mean v...</td>\n      <td>&lt;ColumnSchema (Semantic Tags = ['numeric'])&gt;</td>\n      <td>None</td>\n    </tr>\n    <tr>\n      <th>1</th>\n      <td>mean</td>\n      <td>aggregation</td>\n      <td>True</td>\n      <td>True</td>\n      <td>Computes the average for a list of values.</td>\n      <td>&lt;ColumnSchema (Semantic Tags = ['numeric'])&gt;</td>\n      <td>None</td>\n    </tr>\n    <tr>\n      <th>2</th>\n      <td>max</td>\n      <td>aggregation</td>\n      <td>True</td>\n      <td>True</td>\n      <td>Calculates the highest value, ignoring `NaN` v...</td>\n      <td>&lt;ColumnSchema (Semantic Tags = ['numeric'])&gt;</td>\n      <td>None</td>\n    </tr>\n    <tr>\n      <th>3</th>\n      <td>percent_true</td>\n      <td>aggregation</td>\n      <td>True</td>\n      <td>False</td>\n      <td>Determines the percent of `True` values.</td>\n      <td>&lt;ColumnSchema (Logical Type = BooleanNullable)...</td>\n      <td>None</td>\n    </tr>\n    <tr>\n      <th>4</th>\n      <td>time_since_first</td>\n      <td>aggregation</td>\n      <td>False</td>\n      <td>False</td>\n      <td>Calculates the time elapsed since the first da...</td>\n      <td>&lt;ColumnSchema (Logical Type = Datetime) (Seman...</td>\n      <td>None</td>\n    </tr>\n    <tr>\n      <th>5</th>\n      <td>any</td>\n      <td>aggregation</td>\n      <td>True</td>\n      <td>False</td>\n      <td>Determines if any value is 'True' in a list.</td>\n      <td>&lt;ColumnSchema (Logical Type = BooleanNullable)...</td>\n      <td>None</td>\n    </tr>\n    <tr>\n      <th>6</th>\n      <td>sum</td>\n      <td>aggregation</td>\n      <td>True</td>\n      <td>True</td>\n      <td>Calculates the total addition, ignoring `NaN`.</td>\n      <td>&lt;ColumnSchema (Semantic Tags = ['numeric'])&gt;</td>\n      <td>None</td>\n    </tr>\n    <tr>\n      <th>7</th>\n      <td>num_unique</td>\n      <td>aggregation</td>\n      <td>True</td>\n      <td>True</td>\n      <td>Determines the number of distinct values, igno...</td>\n      <td>&lt;ColumnSchema (Semantic Tags = ['category'])&gt;</td>\n      <td>None</td>\n    </tr>\n    <tr>\n      <th>8</th>\n      <td>last</td>\n      <td>aggregation</td>\n      <td>False</td>\n      <td>False</td>\n      <td>Determines the last value in a list.</td>\n      <td>&lt;ColumnSchema&gt;</td>\n      <td>None</td>\n    </tr>\n    <tr>\n      <th>9</th>\n      <td>all</td>\n      <td>aggregation</td>\n      <td>True</td>\n      <td>False</td>\n      <td>Calculates if all values are 'True' in a list.</td>\n      <td>&lt;ColumnSchema (Logical Type = BooleanNullable)...</td>\n      <td>None</td>\n    </tr>\n    <tr>\n      <th>10</th>\n      <td>entropy</td>\n      <td>aggregation</td>\n      <td>False</td>\n      <td>False</td>\n      <td>Calculates the entropy for a categorical column</td>\n      <td>&lt;ColumnSchema (Semantic Tags = ['category'])&gt;</td>\n      <td>None</td>\n    </tr>\n    <tr>\n      <th>11</th>\n      <td>min</td>\n      <td>aggregation</td>\n      <td>True</td>\n      <td>True</td>\n      <td>Calculates the smallest value, ignoring `NaN` ...</td>\n      <td>&lt;ColumnSchema (Semantic Tags = ['numeric'])&gt;</td>\n      <td>None</td>\n    </tr>\n    <tr>\n      <th>12</th>\n      <td>first</td>\n      <td>aggregation</td>\n      <td>False</td>\n      <td>False</td>\n      <td>Determines the first value in a list.</td>\n      <td>&lt;ColumnSchema&gt;</td>\n      <td>None</td>\n    </tr>\n    <tr>\n      <th>13</th>\n      <td>n_most_common</td>\n      <td>aggregation</td>\n      <td>False</td>\n      <td>False</td>\n      <td>Determines the `n` most common elements.</td>\n      <td>&lt;ColumnSchema (Semantic Tags = ['category'])&gt;</td>\n      <td>None</td>\n    </tr>\n    <tr>\n      <th>14</th>\n      <td>median</td>\n      <td>aggregation</td>\n      <td>False</td>\n      <td>False</td>\n      <td>Determines the middlemost number in a list of ...</td>\n      <td>&lt;ColumnSchema (Semantic Tags = ['numeric'])&gt;</td>\n      <td>None</td>\n    </tr>\n    <tr>\n      <th>15</th>\n      <td>skew</td>\n      <td>aggregation</td>\n      <td>False</td>\n      <td>False</td>\n      <td>Computes the extent to which a distribution di...</td>\n      <td>&lt;ColumnSchema (Semantic Tags = ['numeric'])&gt;</td>\n      <td>None</td>\n    </tr>\n    <tr>\n      <th>16</th>\n      <td>time_since_last</td>\n      <td>aggregation</td>\n      <td>False</td>\n      <td>False</td>\n      <td>Calculates the time elapsed since the last dat...</td>\n      <td>&lt;ColumnSchema (Logical Type = Datetime) (Seman...</td>\n      <td>None</td>\n    </tr>\n    <tr>\n      <th>17</th>\n      <td>count</td>\n      <td>aggregation</td>\n      <td>True</td>\n      <td>True</td>\n      <td>Determines the total number of values, excludi...</td>\n      <td>&lt;ColumnSchema (Semantic Tags = ['index'])&gt;</td>\n      <td>None</td>\n    </tr>\n    <tr>\n      <th>18</th>\n      <td>mode</td>\n      <td>aggregation</td>\n      <td>False</td>\n      <td>False</td>\n      <td>Determines the most commonly repeated value.</td>\n      <td>&lt;ColumnSchema (Semantic Tags = ['category'])&gt;</td>\n      <td>None</td>\n    </tr>\n    <tr>\n      <th>19</th>\n      <td>num_true</td>\n      <td>aggregation</td>\n      <td>True</td>\n      <td>False</td>\n      <td>Counts the number of `True` values.</td>\n      <td>&lt;ColumnSchema (Logical Type = BooleanNullable)...</td>\n      <td>None</td>\n    </tr>\n    <tr>\n      <th>20</th>\n      <td>avg_time_between</td>\n      <td>aggregation</td>\n      <td>False</td>\n      <td>False</td>\n      <td>Computes the average number of seconds between...</td>\n      <td>&lt;ColumnSchema (Logical Type = Datetime) (Seman...</td>\n      <td>None</td>\n    </tr>\n    <tr>\n      <th>21</th>\n      <td>trend</td>\n      <td>aggregation</td>\n      <td>False</td>\n      <td>False</td>\n      <td>Calculates the trend of a column over time.</td>\n      <td>&lt;ColumnSchema (Logical Type = Datetime) (Seman...</td>\n      <td>None</td>\n    </tr>\n  </tbody>\n</table>\n</div>"
     },
     "execution_count": 45,
     "metadata": {},
     "output_type": "execute_result"
    }
   ],
   "source": [
    "ft.primitives.list_primitives()[ft.primitives.list_primitives()['type'] == 'aggregation']"
   ],
   "metadata": {
    "collapsed": false,
    "pycharm": {
     "name": "#%%\n"
    }
   }
  },
  {
   "cell_type": "markdown",
   "source": [
    "Autofeat\n",
    "======"
   ],
   "metadata": {
    "collapsed": false,
    "pycharm": {
     "name": "#%% md\n"
    }
   }
  },
  {
   "cell_type": "code",
   "execution_count": 7,
   "outputs": [],
   "source": [
    "from autofeat import AutoFeatClassifier\n",
    "import numpy as np\n",
    "from sklearn.model_selection import train_test_split\n",
    "from sklearn.preprocessing import StandardScaler\n",
    "from sklearn.metrics import roc_auc_score"
   ],
   "metadata": {
    "collapsed": false,
    "pycharm": {
     "name": "#%%\n"
    }
   }
  },
  {
   "cell_type": "code",
   "execution_count": null,
   "outputs": [],
   "source": [
    "def categorical_imputing(data, categorical_list):\n",
    "    # Imputing\n",
    "    imputer_categorical = SimpleImputer(strategy='constant', fill_value='missing', missing_values=np.nan)\n",
    "    data_categorical = data.loc[:, categorical_list]\n",
    "    data_categorical = imputer_categorical.fit_transform(data_categorical)\n",
    "    data_categorical_imputed = pd.DataFrame(data_categorical, columns=categorical_list)\n",
    "    return data_categorical_imputed\n",
    "\n",
    "def autofeat_test(data, labels, numerical_list, categorical_list, featen_steps=2):\n",
    "\n",
    "    data = data.drop(\"respondent_id\", axis=1)\n",
    "    labels = labels.to_numpy()\n",
    "\n",
    "    # Imputing data\n",
    "    data_numerical_imputed = numerical_impute(data, numerical_list)\n",
    "    data_categorical_imputed = categorical_imputing(data, categorical_list)\n",
    "\n",
    "    #Scaling numerical data\n",
    "    scaler = StandardScaler()\n",
    "    data_numerical_scaled = scaler.fit_transform(data_numerical_imputed.to_numpy())\n",
    "    data_numerical_scaled = pd.DataFrame(data_numerical_scaled, columns=numerical_list)\n",
    "\n",
    "    # Merging data\n",
    "    data_imputed_scaled = pd.merge(data_numerical_scaled, data_categorical_imputed, left_index=True, right_index=True)\n",
    "\n",
    "    # Splitting data\n",
    "    X_train, X_test, y_train, y_test = train_test_split(data_imputed_scaled, labels, test_size=0.2, random_state=1)\n",
    "\n",
    "    # Autofeat classifier\n",
    "    model = AutoFeatClassifier(categorical_cols=categorical_list, feateng_steps=featen_steps, verbose=1)\n",
    "    X_train_tf = model.fit_transform(X_train, np.ravel(y_train))\n",
    "    X_test_tf = model.transform(X_test)\n",
    "\n",
    "    X_test_tf.to_csv(\"new_features.csv\", sep=',', header=True, index=False)\n",
    "\n",
    "    # On sauvegarde le modèle permettant de générer les nouvelles features ainsi que les colonnes générées\n",
    "    joblib.dump(model, \"save_model_test.pkl\")\n",
    "    dic_model = {\n",
    "        'model' : model,\n",
    "        'columns' : X_train_tf.columns\n",
    "    }\n",
    "    joblib.dump(dic_model, \"save_model_and_dict_test.pkl\")\n",
    "\n",
    "    return X_test_tf"
   ],
   "metadata": {
    "collapsed": false,
    "pycharm": {
     "name": "#%%\n"
    }
   }
  },
  {
   "cell_type": "code",
   "execution_count": 9,
   "outputs": [],
   "source": [
    "# Data with labels included\n",
    "data_feat = data_original.copy()\n",
    "labels = data_feat.loc[:, ['h1n1_vaccine']]\n",
    "data_feat.drop(labels_list, inplace=True, axis=1)"
   ],
   "metadata": {
    "collapsed": false,
    "pycharm": {
     "name": "#%%\n"
    }
   }
  },
  {
   "cell_type": "code",
   "execution_count": 27,
   "outputs": [
    {
     "name": "stdout",
     "output_type": "stream",
     "text": [
      "[AutoFeat] The 2 step feature engineering process could generate up to 2016 features.\n",
      "[AutoFeat] With 80 data points this new feature matrix would use about 0.00 gb of space.\n",
      "[feateng] Step 1: transformation of original features\n",
      "[feateng] Generated 10 transformed features from 9 original features - done.\n",
      "[feateng] Step 2: first combination of features\n",
      "[feateng] Generated 152 feature combinations from 171 original feature tuples - done.\n",
      "[feateng] Generated altogether 174 new features in 2 steps\n",
      "[feateng] Removing correlated features, as well as additions at the highest level\n",
      "[feateng] Generated a total of 147 additional features\n",
      "[featsel] Scaling data...done.\n",
      "[featsel] Feature selection run 1/5\n",
      "[featsel] Feature selection run 2/5\n",
      "[featsel] Feature selection run 3/5\n",
      "[featsel] Feature selection run 4/5\n",
      "[featsel] Feature selection run 5/5\n",
      "[featsel] 0 features after noise filtering\n",
      "[featsel] WARNING: Not a single good features was found...\n",
      "[AutoFeat] Final dataframe with 9 feature columns (5 new).\n",
      "[AutoFeat] Training final classification model.\n",
      "[AutoFeat] Trained model: largest coefficients:\n",
      "[-0.00039558]\n",
      "0.000475 * h1n1_concern\n",
      "0.000336 * h1n1_knowledge\n",
      "0.000249 * cat_age_group_'65+ Years'\n",
      "0.000238 * cat_age_group_'55 - 64 Years'\n",
      "0.000157 * cat_age_group_'35 - 44 Years'\n",
      "0.000100 * cat_age_group_'45 - 54 Years'\n",
      "0.000068 * cat_age_group_'18 - 34 Years'\n",
      "0.000043 * cat_sex_'Female'\n",
      "0.000043 * cat_sex_'Male'\n",
      "[AutoFeat] Final score: 0.6375\n"
     ]
    }
   ],
   "source": [
    "X_new = autofeat_test(data_feat.iloc[:100], labels[:100], ['h1n1_concern', 'h1n1_knowledge'], ['age_group', 'sex'])"
   ],
   "metadata": {
    "collapsed": false,
    "pycharm": {
     "name": "#%%\n"
    }
   }
  },
  {
   "cell_type": "markdown",
   "source": [
    "Résultat du test avec autofeat :\n",
    "* Avec 2 de profondeur : 307 720 nouvelles features possibles\n",
    "* Probablement des heures de calcule sur la sélection des features : faire tourner sur zeus avec un script python"
   ],
   "metadata": {
    "collapsed": false,
    "pycharm": {
     "name": "#%% md\n"
    }
   }
  },
  {
   "cell_type": "code",
   "execution_count": 17,
   "outputs": [],
   "source": [
    "def train_data_transform(model, data, numerical_list, categorical_list):\n",
    "\n",
    "    data = data.drop(\"respondent_id\", axis=1)\n",
    "\n",
    "    # Imputing data\n",
    "    data_numerical_imputed = numerical_impute(data, numerical_list)\n",
    "    data_categorical_imputed = categorical_imputing(data, categorical_list)\n",
    "\n",
    "    #Scaling numerical data\n",
    "    scaler = StandardScaler()\n",
    "    data_numerical_scaled = scaler.fit_transform(data_numerical_imputed.to_numpy())\n",
    "    data_numerical_scaled = pd.DataFrame(data_numerical_scaled, columns=numerical_list)\n",
    "\n",
    "    # Merging data\n",
    "    data_imputed_scaled = pd.merge(data_numerical_scaled, data_categorical_imputed, left_index=True, right_index=True)\n",
    "\n",
    "    # Autofeat classifier\n",
    "    X = model.transform(data_imputed_scaled)\n",
    "\n",
    "    return X"
   ],
   "metadata": {
    "collapsed": false,
    "pycharm": {
     "name": "#%%\n"
    }
   }
  },
  {
   "cell_type": "code",
   "execution_count": 10,
   "outputs": [],
   "source": [
    "af_clf = joblib.load(\"autoFeatModel.save\")"
   ],
   "metadata": {
    "collapsed": false,
    "pycharm": {
     "name": "#%%\n"
    }
   }
  },
  {
   "cell_type": "code",
   "execution_count": 12,
   "outputs": [],
   "source": [
    "data_test_tf = data_original.copy()"
   ],
   "metadata": {
    "collapsed": false,
    "pycharm": {
     "name": "#%%\n"
    }
   }
  },
  {
   "cell_type": "code",
   "execution_count": 15,
   "outputs": [],
   "source": [
    "label = data_test_tf.loc[:, ['h1n1_vaccine']]"
   ],
   "metadata": {
    "collapsed": false,
    "pycharm": {
     "name": "#%%\n"
    }
   }
  },
  {
   "cell_type": "code",
   "execution_count": 18,
   "outputs": [
    {
     "name": "stdout",
     "output_type": "stream",
     "text": [
      "[AutoFeat] Computing 41 new features.\n",
      "[AutoFeat]    41/   41 new features ...done.\n"
     ]
    }
   ],
   "source": [
    "new_data_test = train_data_transform(af_clf, data_test_tf, numerical_list, categorical_list)"
   ],
   "metadata": {
    "collapsed": false,
    "pycharm": {
     "name": "#%%\n"
    }
   }
  },
  {
   "cell_type": "code",
   "execution_count": 20,
   "outputs": [],
   "source": [
    "pred = af_clf.predict(new_data_test)"
   ],
   "metadata": {
    "collapsed": false,
    "pycharm": {
     "name": "#%%\n"
    }
   }
  },
  {
   "cell_type": "code",
   "execution_count": 23,
   "outputs": [],
   "source": [
    "new_data_test.to_csv(\"new_features_train.csv\", sep=\",\", header=True, index=False)"
   ],
   "metadata": {
    "collapsed": false,
    "pycharm": {
     "name": "#%%\n"
    }
   }
  },
  {
   "cell_type": "code",
   "execution_count": 29,
   "outputs": [],
   "source": [
    "from sklearn.ensemble import RandomForestClassifier\n",
    "from xgboost import XGBClassifier\n",
    "from sklearn.ensemble import AdaBoostClassifier\n",
    "from sklearn.linear_model import LogisticRegression\n",
    "from catboost import CatBoostClassifier\n",
    "from sklearn.svm import SVC\n",
    "from sklearn.ensemble import VotingClassifier\n",
    "from autofeat import AutoFeatClassifier"
   ],
   "metadata": {
    "collapsed": false,
    "pycharm": {
     "name": "#%%\n"
    }
   }
  },
  {
   "cell_type": "code",
   "execution_count": 25,
   "outputs": [],
   "source": [
    "X_train, X_test, Y_train, Y_test = train_test_split(new_data_test, label, train_size=0.2, random_state=1)"
   ],
   "metadata": {
    "collapsed": false,
    "pycharm": {
     "name": "#%%\n"
    }
   }
  },
  {
   "cell_type": "code",
   "execution_count": 26,
   "outputs": [
    {
     "name": "stdout",
     "output_type": "stream",
     "text": [
      "Learning rate set to 0.021068\n",
      "0:\tlearn: 0.6763968\ttotal: 171ms\tremaining: 2m 50s\n",
      "1:\tlearn: 0.6607216\ttotal: 181ms\tremaining: 1m 30s\n",
      "2:\tlearn: 0.6456015\ttotal: 190ms\tremaining: 1m 3s\n",
      "3:\tlearn: 0.6313420\ttotal: 201ms\tremaining: 49.9s\n",
      "4:\tlearn: 0.6179313\ttotal: 211ms\tremaining: 42s\n",
      "5:\tlearn: 0.6051167\ttotal: 220ms\tremaining: 36.4s\n",
      "6:\tlearn: 0.5927792\ttotal: 227ms\tremaining: 32.2s\n",
      "7:\tlearn: 0.5825314\ttotal: 235ms\tremaining: 29.2s\n",
      "8:\tlearn: 0.5716520\ttotal: 243ms\tremaining: 26.8s\n",
      "9:\tlearn: 0.5612392\ttotal: 249ms\tremaining: 24.6s\n",
      "10:\tlearn: 0.5505252\ttotal: 254ms\tremaining: 22.9s\n",
      "11:\tlearn: 0.5413016\ttotal: 259ms\tremaining: 21.3s\n",
      "12:\tlearn: 0.5326230\ttotal: 263ms\tremaining: 20s\n",
      "13:\tlearn: 0.5252001\ttotal: 268ms\tremaining: 18.9s\n",
      "14:\tlearn: 0.5169910\ttotal: 273ms\tremaining: 18s\n",
      "15:\tlearn: 0.5086724\ttotal: 278ms\tremaining: 17.1s\n",
      "16:\tlearn: 0.5008929\ttotal: 283ms\tremaining: 16.3s\n",
      "17:\tlearn: 0.4937468\ttotal: 287ms\tremaining: 15.7s\n",
      "18:\tlearn: 0.4873717\ttotal: 292ms\tremaining: 15.1s\n",
      "19:\tlearn: 0.4812097\ttotal: 297ms\tremaining: 14.5s\n",
      "20:\tlearn: 0.4748435\ttotal: 301ms\tremaining: 14s\n",
      "21:\tlearn: 0.4691737\ttotal: 305ms\tremaining: 13.5s\n",
      "22:\tlearn: 0.4634128\ttotal: 309ms\tremaining: 13.1s\n",
      "23:\tlearn: 0.4580351\ttotal: 313ms\tremaining: 12.7s\n",
      "24:\tlearn: 0.4534586\ttotal: 317ms\tremaining: 12.4s\n",
      "25:\tlearn: 0.4488464\ttotal: 321ms\tremaining: 12s\n",
      "26:\tlearn: 0.4441310\ttotal: 325ms\tremaining: 11.7s\n",
      "27:\tlearn: 0.4397396\ttotal: 329ms\tremaining: 11.4s\n",
      "28:\tlearn: 0.4355965\ttotal: 334ms\tremaining: 11.2s\n",
      "29:\tlearn: 0.4321319\ttotal: 338ms\tremaining: 10.9s\n",
      "30:\tlearn: 0.4284539\ttotal: 343ms\tremaining: 10.7s\n",
      "31:\tlearn: 0.4254217\ttotal: 347ms\tremaining: 10.5s\n",
      "32:\tlearn: 0.4225096\ttotal: 351ms\tremaining: 10.3s\n",
      "33:\tlearn: 0.4191030\ttotal: 356ms\tremaining: 10.1s\n",
      "34:\tlearn: 0.4160829\ttotal: 360ms\tremaining: 9.92s\n",
      "35:\tlearn: 0.4130041\ttotal: 364ms\tremaining: 9.74s\n",
      "36:\tlearn: 0.4101012\ttotal: 368ms\tremaining: 9.58s\n",
      "37:\tlearn: 0.4076373\ttotal: 372ms\tremaining: 9.42s\n",
      "38:\tlearn: 0.4052767\ttotal: 377ms\tremaining: 9.28s\n",
      "39:\tlearn: 0.4028916\ttotal: 381ms\tremaining: 9.15s\n",
      "40:\tlearn: 0.4006563\ttotal: 386ms\tremaining: 9.03s\n",
      "41:\tlearn: 0.3988517\ttotal: 391ms\tremaining: 8.92s\n",
      "42:\tlearn: 0.3970220\ttotal: 397ms\tremaining: 8.84s\n",
      "43:\tlearn: 0.3951192\ttotal: 403ms\tremaining: 8.75s\n",
      "44:\tlearn: 0.3931743\ttotal: 407ms\tremaining: 8.64s\n",
      "45:\tlearn: 0.3913679\ttotal: 411ms\tremaining: 8.53s\n",
      "46:\tlearn: 0.3892516\ttotal: 415ms\tremaining: 8.42s\n",
      "47:\tlearn: 0.3873597\ttotal: 420ms\tremaining: 8.33s\n",
      "48:\tlearn: 0.3854897\ttotal: 425ms\tremaining: 8.24s\n",
      "49:\tlearn: 0.3838296\ttotal: 429ms\tremaining: 8.15s\n",
      "50:\tlearn: 0.3821726\ttotal: 433ms\tremaining: 8.06s\n",
      "51:\tlearn: 0.3804876\ttotal: 438ms\tremaining: 7.98s\n",
      "52:\tlearn: 0.3794894\ttotal: 442ms\tremaining: 7.9s\n",
      "53:\tlearn: 0.3781768\ttotal: 447ms\tremaining: 7.82s\n",
      "54:\tlearn: 0.3768691\ttotal: 451ms\tremaining: 7.75s\n",
      "55:\tlearn: 0.3756235\ttotal: 455ms\tremaining: 7.67s\n",
      "56:\tlearn: 0.3744453\ttotal: 460ms\tremaining: 7.6s\n",
      "57:\tlearn: 0.3732504\ttotal: 464ms\tremaining: 7.54s\n",
      "58:\tlearn: 0.3719920\ttotal: 469ms\tremaining: 7.48s\n",
      "59:\tlearn: 0.3710225\ttotal: 474ms\tremaining: 7.42s\n",
      "60:\tlearn: 0.3697782\ttotal: 479ms\tremaining: 7.38s\n",
      "61:\tlearn: 0.3684733\ttotal: 486ms\tremaining: 7.35s\n",
      "62:\tlearn: 0.3674459\ttotal: 491ms\tremaining: 7.3s\n",
      "63:\tlearn: 0.3664185\ttotal: 496ms\tremaining: 7.26s\n",
      "64:\tlearn: 0.3654428\ttotal: 501ms\tremaining: 7.21s\n",
      "65:\tlearn: 0.3645639\ttotal: 505ms\tremaining: 7.15s\n",
      "66:\tlearn: 0.3636878\ttotal: 509ms\tremaining: 7.09s\n",
      "67:\tlearn: 0.3625045\ttotal: 513ms\tremaining: 7.04s\n",
      "68:\tlearn: 0.3617723\ttotal: 517ms\tremaining: 6.98s\n",
      "69:\tlearn: 0.3610352\ttotal: 521ms\tremaining: 6.92s\n",
      "70:\tlearn: 0.3604156\ttotal: 526ms\tremaining: 6.88s\n",
      "71:\tlearn: 0.3596904\ttotal: 531ms\tremaining: 6.84s\n",
      "72:\tlearn: 0.3588991\ttotal: 537ms\tremaining: 6.82s\n",
      "73:\tlearn: 0.3580928\ttotal: 542ms\tremaining: 6.78s\n",
      "74:\tlearn: 0.3574294\ttotal: 546ms\tremaining: 6.73s\n",
      "75:\tlearn: 0.3566693\ttotal: 550ms\tremaining: 6.69s\n",
      "76:\tlearn: 0.3557499\ttotal: 554ms\tremaining: 6.64s\n",
      "77:\tlearn: 0.3548292\ttotal: 558ms\tremaining: 6.6s\n",
      "78:\tlearn: 0.3541625\ttotal: 562ms\tremaining: 6.56s\n",
      "79:\tlearn: 0.3535240\ttotal: 566ms\tremaining: 6.51s\n",
      "80:\tlearn: 0.3527217\ttotal: 570ms\tremaining: 6.47s\n",
      "81:\tlearn: 0.3521760\ttotal: 574ms\tremaining: 6.43s\n",
      "82:\tlearn: 0.3514964\ttotal: 579ms\tremaining: 6.39s\n",
      "83:\tlearn: 0.3508957\ttotal: 583ms\tremaining: 6.35s\n",
      "84:\tlearn: 0.3502305\ttotal: 587ms\tremaining: 6.32s\n",
      "85:\tlearn: 0.3494497\ttotal: 592ms\tremaining: 6.29s\n",
      "86:\tlearn: 0.3488779\ttotal: 596ms\tremaining: 6.26s\n",
      "87:\tlearn: 0.3482267\ttotal: 600ms\tremaining: 6.22s\n",
      "88:\tlearn: 0.3475807\ttotal: 604ms\tremaining: 6.19s\n",
      "89:\tlearn: 0.3469735\ttotal: 609ms\tremaining: 6.15s\n",
      "90:\tlearn: 0.3463868\ttotal: 613ms\tremaining: 6.12s\n",
      "91:\tlearn: 0.3458031\ttotal: 617ms\tremaining: 6.09s\n",
      "92:\tlearn: 0.3452734\ttotal: 621ms\tremaining: 6.06s\n",
      "93:\tlearn: 0.3446499\ttotal: 625ms\tremaining: 6.03s\n",
      "94:\tlearn: 0.3443072\ttotal: 630ms\tremaining: 6s\n",
      "95:\tlearn: 0.3438326\ttotal: 634ms\tremaining: 5.97s\n",
      "96:\tlearn: 0.3433434\ttotal: 638ms\tremaining: 5.94s\n",
      "97:\tlearn: 0.3428685\ttotal: 643ms\tremaining: 5.92s\n",
      "98:\tlearn: 0.3425255\ttotal: 648ms\tremaining: 5.9s\n",
      "99:\tlearn: 0.3422218\ttotal: 653ms\tremaining: 5.88s\n",
      "100:\tlearn: 0.3418524\ttotal: 658ms\tremaining: 5.86s\n",
      "101:\tlearn: 0.3414704\ttotal: 662ms\tremaining: 5.83s\n",
      "102:\tlearn: 0.3410779\ttotal: 666ms\tremaining: 5.8s\n",
      "103:\tlearn: 0.3406266\ttotal: 671ms\tremaining: 5.78s\n",
      "104:\tlearn: 0.3402384\ttotal: 675ms\tremaining: 5.75s\n",
      "105:\tlearn: 0.3398829\ttotal: 679ms\tremaining: 5.73s\n",
      "106:\tlearn: 0.3394126\ttotal: 683ms\tremaining: 5.7s\n",
      "107:\tlearn: 0.3389341\ttotal: 688ms\tremaining: 5.68s\n",
      "108:\tlearn: 0.3386074\ttotal: 693ms\tremaining: 5.66s\n",
      "109:\tlearn: 0.3382373\ttotal: 697ms\tremaining: 5.64s\n",
      "110:\tlearn: 0.3378778\ttotal: 702ms\tremaining: 5.62s\n",
      "111:\tlearn: 0.3373772\ttotal: 706ms\tremaining: 5.6s\n",
      "112:\tlearn: 0.3369809\ttotal: 710ms\tremaining: 5.58s\n",
      "113:\tlearn: 0.3365778\ttotal: 715ms\tremaining: 5.55s\n",
      "114:\tlearn: 0.3362393\ttotal: 720ms\tremaining: 5.54s\n",
      "115:\tlearn: 0.3358358\ttotal: 723ms\tremaining: 5.51s\n",
      "116:\tlearn: 0.3353200\ttotal: 727ms\tremaining: 5.49s\n",
      "117:\tlearn: 0.3350028\ttotal: 731ms\tremaining: 5.47s\n",
      "118:\tlearn: 0.3347140\ttotal: 736ms\tremaining: 5.45s\n",
      "119:\tlearn: 0.3342834\ttotal: 740ms\tremaining: 5.43s\n",
      "120:\tlearn: 0.3340449\ttotal: 744ms\tremaining: 5.4s\n",
      "121:\tlearn: 0.3335518\ttotal: 748ms\tremaining: 5.38s\n",
      "122:\tlearn: 0.3333104\ttotal: 754ms\tremaining: 5.38s\n",
      "123:\tlearn: 0.3329301\ttotal: 759ms\tremaining: 5.36s\n",
      "124:\tlearn: 0.3325997\ttotal: 763ms\tremaining: 5.34s\n",
      "125:\tlearn: 0.3323194\ttotal: 768ms\tremaining: 5.33s\n",
      "126:\tlearn: 0.3320596\ttotal: 772ms\tremaining: 5.31s\n",
      "127:\tlearn: 0.3317197\ttotal: 777ms\tremaining: 5.29s\n",
      "128:\tlearn: 0.3313970\ttotal: 781ms\tremaining: 5.28s\n",
      "129:\tlearn: 0.3310029\ttotal: 786ms\tremaining: 5.26s\n",
      "130:\tlearn: 0.3307120\ttotal: 790ms\tremaining: 5.24s\n",
      "131:\tlearn: 0.3302917\ttotal: 795ms\tremaining: 5.22s\n",
      "132:\tlearn: 0.3299274\ttotal: 799ms\tremaining: 5.21s\n",
      "133:\tlearn: 0.3296360\ttotal: 803ms\tremaining: 5.19s\n",
      "134:\tlearn: 0.3293300\ttotal: 807ms\tremaining: 5.17s\n",
      "135:\tlearn: 0.3291681\ttotal: 811ms\tremaining: 5.16s\n",
      "136:\tlearn: 0.3287758\ttotal: 816ms\tremaining: 5.14s\n",
      "137:\tlearn: 0.3283400\ttotal: 820ms\tremaining: 5.12s\n",
      "138:\tlearn: 0.3280683\ttotal: 824ms\tremaining: 5.1s\n",
      "139:\tlearn: 0.3277387\ttotal: 828ms\tremaining: 5.09s\n",
      "140:\tlearn: 0.3273466\ttotal: 832ms\tremaining: 5.07s\n",
      "141:\tlearn: 0.3270638\ttotal: 836ms\tremaining: 5.05s\n",
      "142:\tlearn: 0.3268602\ttotal: 840ms\tremaining: 5.03s\n",
      "143:\tlearn: 0.3265708\ttotal: 844ms\tremaining: 5.02s\n",
      "144:\tlearn: 0.3263054\ttotal: 848ms\tremaining: 5s\n",
      "145:\tlearn: 0.3260630\ttotal: 853ms\tremaining: 4.99s\n",
      "146:\tlearn: 0.3257865\ttotal: 857ms\tremaining: 4.97s\n",
      "147:\tlearn: 0.3254079\ttotal: 861ms\tremaining: 4.96s\n",
      "148:\tlearn: 0.3251321\ttotal: 865ms\tremaining: 4.94s\n",
      "149:\tlearn: 0.3247851\ttotal: 869ms\tremaining: 4.92s\n",
      "150:\tlearn: 0.3244862\ttotal: 874ms\tremaining: 4.91s\n",
      "151:\tlearn: 0.3241941\ttotal: 878ms\tremaining: 4.9s\n",
      "152:\tlearn: 0.3238279\ttotal: 883ms\tremaining: 4.89s\n",
      "153:\tlearn: 0.3235981\ttotal: 887ms\tremaining: 4.87s\n",
      "154:\tlearn: 0.3234118\ttotal: 892ms\tremaining: 4.86s\n",
      "155:\tlearn: 0.3231024\ttotal: 897ms\tremaining: 4.85s\n",
      "156:\tlearn: 0.3229230\ttotal: 901ms\tremaining: 4.84s\n",
      "157:\tlearn: 0.3227085\ttotal: 904ms\tremaining: 4.82s\n",
      "158:\tlearn: 0.3223056\ttotal: 909ms\tremaining: 4.81s\n",
      "159:\tlearn: 0.3220099\ttotal: 913ms\tremaining: 4.79s\n",
      "160:\tlearn: 0.3217816\ttotal: 918ms\tremaining: 4.78s\n",
      "161:\tlearn: 0.3215897\ttotal: 922ms\tremaining: 4.77s\n",
      "162:\tlearn: 0.3212528\ttotal: 926ms\tremaining: 4.75s\n",
      "163:\tlearn: 0.3210287\ttotal: 930ms\tremaining: 4.74s\n",
      "164:\tlearn: 0.3208267\ttotal: 935ms\tremaining: 4.73s\n",
      "165:\tlearn: 0.3205940\ttotal: 940ms\tremaining: 4.72s\n",
      "166:\tlearn: 0.3203339\ttotal: 944ms\tremaining: 4.71s\n",
      "167:\tlearn: 0.3201431\ttotal: 949ms\tremaining: 4.7s\n",
      "168:\tlearn: 0.3198361\ttotal: 953ms\tremaining: 4.68s\n",
      "169:\tlearn: 0.3195910\ttotal: 957ms\tremaining: 4.67s\n",
      "170:\tlearn: 0.3194640\ttotal: 961ms\tremaining: 4.66s\n",
      "171:\tlearn: 0.3192437\ttotal: 966ms\tremaining: 4.65s\n",
      "172:\tlearn: 0.3190138\ttotal: 970ms\tremaining: 4.64s\n",
      "173:\tlearn: 0.3187499\ttotal: 975ms\tremaining: 4.63s\n",
      "174:\tlearn: 0.3185812\ttotal: 980ms\tremaining: 4.62s\n",
      "175:\tlearn: 0.3184650\ttotal: 984ms\tremaining: 4.61s\n",
      "176:\tlearn: 0.3182328\ttotal: 988ms\tremaining: 4.59s\n",
      "177:\tlearn: 0.3179926\ttotal: 993ms\tremaining: 4.58s\n",
      "178:\tlearn: 0.3177486\ttotal: 997ms\tremaining: 4.57s\n",
      "179:\tlearn: 0.3174727\ttotal: 1s\tremaining: 4.56s\n",
      "180:\tlearn: 0.3172461\ttotal: 1s\tremaining: 4.55s\n",
      "181:\tlearn: 0.3170414\ttotal: 1.01s\tremaining: 4.54s\n",
      "182:\tlearn: 0.3168178\ttotal: 1.01s\tremaining: 4.53s\n",
      "183:\tlearn: 0.3166077\ttotal: 1.02s\tremaining: 4.51s\n",
      "184:\tlearn: 0.3162257\ttotal: 1.02s\tremaining: 4.5s\n",
      "185:\tlearn: 0.3160429\ttotal: 1.03s\tremaining: 4.49s\n",
      "186:\tlearn: 0.3158865\ttotal: 1.03s\tremaining: 4.48s\n",
      "187:\tlearn: 0.3157119\ttotal: 1.03s\tremaining: 4.47s\n",
      "188:\tlearn: 0.3155206\ttotal: 1.04s\tremaining: 4.46s\n",
      "189:\tlearn: 0.3153887\ttotal: 1.04s\tremaining: 4.45s\n",
      "190:\tlearn: 0.3150652\ttotal: 1.05s\tremaining: 4.44s\n",
      "191:\tlearn: 0.3149101\ttotal: 1.05s\tremaining: 4.43s\n",
      "192:\tlearn: 0.3147607\ttotal: 1.06s\tremaining: 4.42s\n",
      "193:\tlearn: 0.3144520\ttotal: 1.06s\tremaining: 4.41s\n",
      "194:\tlearn: 0.3140748\ttotal: 1.07s\tremaining: 4.41s\n",
      "195:\tlearn: 0.3138194\ttotal: 1.07s\tremaining: 4.4s\n",
      "196:\tlearn: 0.3136202\ttotal: 1.08s\tremaining: 4.39s\n",
      "197:\tlearn: 0.3134059\ttotal: 1.08s\tremaining: 4.39s\n",
      "198:\tlearn: 0.3131947\ttotal: 1.09s\tremaining: 4.39s\n",
      "199:\tlearn: 0.3129628\ttotal: 1.09s\tremaining: 4.38s\n",
      "200:\tlearn: 0.3128142\ttotal: 1.1s\tremaining: 4.37s\n",
      "201:\tlearn: 0.3125675\ttotal: 1.1s\tremaining: 4.36s\n",
      "202:\tlearn: 0.3123081\ttotal: 1.11s\tremaining: 4.36s\n",
      "203:\tlearn: 0.3121709\ttotal: 1.11s\tremaining: 4.35s\n",
      "204:\tlearn: 0.3119679\ttotal: 1.12s\tremaining: 4.34s\n",
      "205:\tlearn: 0.3118141\ttotal: 1.12s\tremaining: 4.33s\n",
      "206:\tlearn: 0.3116508\ttotal: 1.13s\tremaining: 4.32s\n",
      "207:\tlearn: 0.3114221\ttotal: 1.13s\tremaining: 4.31s\n",
      "208:\tlearn: 0.3112992\ttotal: 1.14s\tremaining: 4.3s\n",
      "209:\tlearn: 0.3111274\ttotal: 1.14s\tremaining: 4.29s\n",
      "210:\tlearn: 0.3109302\ttotal: 1.15s\tremaining: 4.29s\n",
      "211:\tlearn: 0.3106752\ttotal: 1.15s\tremaining: 4.28s\n",
      "212:\tlearn: 0.3103901\ttotal: 1.16s\tremaining: 4.27s\n",
      "213:\tlearn: 0.3101064\ttotal: 1.16s\tremaining: 4.26s\n",
      "214:\tlearn: 0.3100045\ttotal: 1.16s\tremaining: 4.25s\n",
      "215:\tlearn: 0.3098878\ttotal: 1.17s\tremaining: 4.24s\n",
      "216:\tlearn: 0.3097422\ttotal: 1.17s\tremaining: 4.23s\n",
      "217:\tlearn: 0.3095248\ttotal: 1.18s\tremaining: 4.22s\n",
      "218:\tlearn: 0.3092992\ttotal: 1.18s\tremaining: 4.21s\n",
      "219:\tlearn: 0.3090654\ttotal: 1.19s\tremaining: 4.2s\n",
      "220:\tlearn: 0.3088339\ttotal: 1.19s\tremaining: 4.19s\n",
      "221:\tlearn: 0.3086940\ttotal: 1.19s\tremaining: 4.18s\n",
      "222:\tlearn: 0.3084895\ttotal: 1.2s\tremaining: 4.18s\n",
      "223:\tlearn: 0.3083036\ttotal: 1.2s\tremaining: 4.17s\n",
      "224:\tlearn: 0.3080939\ttotal: 1.21s\tremaining: 4.16s\n",
      "225:\tlearn: 0.3078498\ttotal: 1.21s\tremaining: 4.15s\n",
      "226:\tlearn: 0.3077130\ttotal: 1.22s\tremaining: 4.14s\n",
      "227:\tlearn: 0.3075382\ttotal: 1.22s\tremaining: 4.13s\n",
      "228:\tlearn: 0.3073972\ttotal: 1.22s\tremaining: 4.12s\n",
      "229:\tlearn: 0.3071813\ttotal: 1.23s\tremaining: 4.11s\n",
      "230:\tlearn: 0.3068024\ttotal: 1.23s\tremaining: 4.11s\n",
      "231:\tlearn: 0.3066045\ttotal: 1.24s\tremaining: 4.1s\n",
      "232:\tlearn: 0.3065110\ttotal: 1.24s\tremaining: 4.09s\n",
      "233:\tlearn: 0.3062405\ttotal: 1.25s\tremaining: 4.08s\n",
      "234:\tlearn: 0.3060400\ttotal: 1.25s\tremaining: 4.07s\n",
      "235:\tlearn: 0.3058396\ttotal: 1.25s\tremaining: 4.06s\n",
      "236:\tlearn: 0.3057154\ttotal: 1.26s\tremaining: 4.06s\n",
      "237:\tlearn: 0.3055871\ttotal: 1.26s\tremaining: 4.05s\n",
      "238:\tlearn: 0.3054068\ttotal: 1.27s\tremaining: 4.04s\n",
      "239:\tlearn: 0.3050990\ttotal: 1.27s\tremaining: 4.03s\n",
      "240:\tlearn: 0.3048441\ttotal: 1.28s\tremaining: 4.02s\n",
      "241:\tlearn: 0.3047022\ttotal: 1.28s\tremaining: 4.01s\n",
      "242:\tlearn: 0.3046014\ttotal: 1.29s\tremaining: 4.01s\n",
      "243:\tlearn: 0.3043757\ttotal: 1.29s\tremaining: 4s\n",
      "244:\tlearn: 0.3041286\ttotal: 1.3s\tremaining: 4s\n",
      "245:\tlearn: 0.3039521\ttotal: 1.3s\tremaining: 3.99s\n",
      "246:\tlearn: 0.3037835\ttotal: 1.3s\tremaining: 3.98s\n",
      "247:\tlearn: 0.3036698\ttotal: 1.31s\tremaining: 3.97s\n",
      "248:\tlearn: 0.3035259\ttotal: 1.31s\tremaining: 3.96s\n",
      "249:\tlearn: 0.3032265\ttotal: 1.32s\tremaining: 3.95s\n",
      "250:\tlearn: 0.3030949\ttotal: 1.32s\tremaining: 3.94s\n",
      "251:\tlearn: 0.3028859\ttotal: 1.33s\tremaining: 3.94s\n",
      "252:\tlearn: 0.3027377\ttotal: 1.33s\tremaining: 3.93s\n",
      "253:\tlearn: 0.3025663\ttotal: 1.33s\tremaining: 3.92s\n",
      "254:\tlearn: 0.3023448\ttotal: 1.34s\tremaining: 3.91s\n",
      "255:\tlearn: 0.3022469\ttotal: 1.34s\tremaining: 3.9s\n",
      "256:\tlearn: 0.3020069\ttotal: 1.35s\tremaining: 3.9s\n",
      "257:\tlearn: 0.3018824\ttotal: 1.35s\tremaining: 3.89s\n",
      "258:\tlearn: 0.3016582\ttotal: 1.36s\tremaining: 3.88s\n",
      "259:\tlearn: 0.3015286\ttotal: 1.36s\tremaining: 3.87s\n",
      "260:\tlearn: 0.3012505\ttotal: 1.36s\tremaining: 3.87s\n",
      "261:\tlearn: 0.3009551\ttotal: 1.37s\tremaining: 3.86s\n",
      "262:\tlearn: 0.3006674\ttotal: 1.37s\tremaining: 3.85s\n",
      "263:\tlearn: 0.3005194\ttotal: 1.38s\tremaining: 3.84s\n",
      "264:\tlearn: 0.3003067\ttotal: 1.38s\tremaining: 3.83s\n",
      "265:\tlearn: 0.2999212\ttotal: 1.39s\tremaining: 3.83s\n",
      "266:\tlearn: 0.2996836\ttotal: 1.39s\tremaining: 3.82s\n",
      "267:\tlearn: 0.2993886\ttotal: 1.4s\tremaining: 3.81s\n",
      "268:\tlearn: 0.2991590\ttotal: 1.4s\tremaining: 3.8s\n",
      "269:\tlearn: 0.2990479\ttotal: 1.4s\tremaining: 3.8s\n",
      "270:\tlearn: 0.2989109\ttotal: 1.42s\tremaining: 3.82s\n",
      "271:\tlearn: 0.2986669\ttotal: 1.42s\tremaining: 3.81s\n",
      "272:\tlearn: 0.2985034\ttotal: 1.43s\tremaining: 3.8s\n",
      "273:\tlearn: 0.2982419\ttotal: 1.43s\tremaining: 3.79s\n",
      "274:\tlearn: 0.2980040\ttotal: 1.44s\tremaining: 3.79s\n",
      "275:\tlearn: 0.2978651\ttotal: 1.44s\tremaining: 3.78s\n",
      "276:\tlearn: 0.2977677\ttotal: 1.44s\tremaining: 3.77s\n",
      "277:\tlearn: 0.2975606\ttotal: 1.45s\tremaining: 3.76s\n",
      "278:\tlearn: 0.2972875\ttotal: 1.45s\tremaining: 3.75s\n",
      "279:\tlearn: 0.2971167\ttotal: 1.46s\tremaining: 3.75s\n",
      "280:\tlearn: 0.2969517\ttotal: 1.46s\tremaining: 3.74s\n",
      "281:\tlearn: 0.2967735\ttotal: 1.47s\tremaining: 3.73s\n",
      "282:\tlearn: 0.2966060\ttotal: 1.47s\tremaining: 3.73s\n",
      "283:\tlearn: 0.2963929\ttotal: 1.47s\tremaining: 3.72s\n",
      "284:\tlearn: 0.2962204\ttotal: 1.48s\tremaining: 3.71s\n",
      "285:\tlearn: 0.2960950\ttotal: 1.48s\tremaining: 3.71s\n",
      "286:\tlearn: 0.2958887\ttotal: 1.49s\tremaining: 3.7s\n",
      "287:\tlearn: 0.2956445\ttotal: 1.49s\tremaining: 3.69s\n",
      "288:\tlearn: 0.2954691\ttotal: 1.5s\tremaining: 3.69s\n",
      "289:\tlearn: 0.2953552\ttotal: 1.5s\tremaining: 3.68s\n",
      "290:\tlearn: 0.2952101\ttotal: 1.51s\tremaining: 3.67s\n",
      "291:\tlearn: 0.2950132\ttotal: 1.51s\tremaining: 3.66s\n",
      "292:\tlearn: 0.2949211\ttotal: 1.51s\tremaining: 3.65s\n",
      "293:\tlearn: 0.2947706\ttotal: 1.52s\tremaining: 3.65s\n",
      "294:\tlearn: 0.2946506\ttotal: 1.52s\tremaining: 3.64s\n",
      "295:\tlearn: 0.2944176\ttotal: 1.53s\tremaining: 3.63s\n",
      "296:\tlearn: 0.2943324\ttotal: 1.53s\tremaining: 3.63s\n",
      "297:\tlearn: 0.2942376\ttotal: 1.53s\tremaining: 3.62s\n",
      "298:\tlearn: 0.2940567\ttotal: 1.54s\tremaining: 3.61s\n",
      "299:\tlearn: 0.2939044\ttotal: 1.54s\tremaining: 3.6s\n",
      "300:\tlearn: 0.2937163\ttotal: 1.55s\tremaining: 3.59s\n",
      "301:\tlearn: 0.2935908\ttotal: 1.55s\tremaining: 3.59s\n",
      "302:\tlearn: 0.2934116\ttotal: 1.56s\tremaining: 3.58s\n",
      "303:\tlearn: 0.2932065\ttotal: 1.56s\tremaining: 3.57s\n",
      "304:\tlearn: 0.2930695\ttotal: 1.56s\tremaining: 3.56s\n",
      "305:\tlearn: 0.2928941\ttotal: 1.57s\tremaining: 3.56s\n",
      "306:\tlearn: 0.2927755\ttotal: 1.57s\tremaining: 3.55s\n",
      "307:\tlearn: 0.2925091\ttotal: 1.58s\tremaining: 3.54s\n",
      "308:\tlearn: 0.2923430\ttotal: 1.58s\tremaining: 3.54s\n",
      "309:\tlearn: 0.2921999\ttotal: 1.58s\tremaining: 3.53s\n",
      "310:\tlearn: 0.2919387\ttotal: 1.59s\tremaining: 3.52s\n",
      "311:\tlearn: 0.2917175\ttotal: 1.59s\tremaining: 3.51s\n",
      "312:\tlearn: 0.2915209\ttotal: 1.6s\tremaining: 3.51s\n",
      "313:\tlearn: 0.2913602\ttotal: 1.6s\tremaining: 3.5s\n",
      "314:\tlearn: 0.2912000\ttotal: 1.61s\tremaining: 3.49s\n",
      "315:\tlearn: 0.2910553\ttotal: 1.61s\tremaining: 3.49s\n",
      "316:\tlearn: 0.2909072\ttotal: 1.61s\tremaining: 3.48s\n",
      "317:\tlearn: 0.2906163\ttotal: 1.62s\tremaining: 3.47s\n",
      "318:\tlearn: 0.2904029\ttotal: 1.62s\tremaining: 3.47s\n",
      "319:\tlearn: 0.2902058\ttotal: 1.63s\tremaining: 3.46s\n",
      "320:\tlearn: 0.2901000\ttotal: 1.63s\tremaining: 3.45s\n",
      "321:\tlearn: 0.2899273\ttotal: 1.64s\tremaining: 3.44s\n",
      "322:\tlearn: 0.2898438\ttotal: 1.64s\tremaining: 3.44s\n",
      "323:\tlearn: 0.2897402\ttotal: 1.65s\tremaining: 3.43s\n",
      "324:\tlearn: 0.2895683\ttotal: 1.65s\tremaining: 3.43s\n",
      "325:\tlearn: 0.2894173\ttotal: 1.66s\tremaining: 3.42s\n",
      "326:\tlearn: 0.2892456\ttotal: 1.66s\tremaining: 3.42s\n",
      "327:\tlearn: 0.2891313\ttotal: 1.67s\tremaining: 3.41s\n",
      "328:\tlearn: 0.2890616\ttotal: 1.67s\tremaining: 3.4s\n",
      "329:\tlearn: 0.2888906\ttotal: 1.67s\tremaining: 3.4s\n",
      "330:\tlearn: 0.2887698\ttotal: 1.68s\tremaining: 3.39s\n",
      "331:\tlearn: 0.2885706\ttotal: 1.68s\tremaining: 3.38s\n",
      "332:\tlearn: 0.2884806\ttotal: 1.69s\tremaining: 3.38s\n",
      "333:\tlearn: 0.2882819\ttotal: 1.69s\tremaining: 3.37s\n",
      "334:\tlearn: 0.2880732\ttotal: 1.7s\tremaining: 3.37s\n",
      "335:\tlearn: 0.2880065\ttotal: 1.7s\tremaining: 3.36s\n",
      "336:\tlearn: 0.2878369\ttotal: 1.7s\tremaining: 3.35s\n",
      "337:\tlearn: 0.2875394\ttotal: 1.71s\tremaining: 3.35s\n",
      "338:\tlearn: 0.2873760\ttotal: 1.71s\tremaining: 3.34s\n",
      "339:\tlearn: 0.2872723\ttotal: 1.72s\tremaining: 3.33s\n",
      "340:\tlearn: 0.2871461\ttotal: 1.72s\tremaining: 3.33s\n",
      "341:\tlearn: 0.2870657\ttotal: 1.73s\tremaining: 3.32s\n",
      "342:\tlearn: 0.2869588\ttotal: 1.73s\tremaining: 3.31s\n",
      "343:\tlearn: 0.2868832\ttotal: 1.73s\tremaining: 3.31s\n",
      "344:\tlearn: 0.2866954\ttotal: 1.74s\tremaining: 3.3s\n",
      "345:\tlearn: 0.2864140\ttotal: 1.74s\tremaining: 3.29s\n",
      "346:\tlearn: 0.2862044\ttotal: 1.75s\tremaining: 3.29s\n",
      "347:\tlearn: 0.2859547\ttotal: 1.75s\tremaining: 3.28s\n",
      "348:\tlearn: 0.2857487\ttotal: 1.75s\tremaining: 3.27s\n",
      "349:\tlearn: 0.2856247\ttotal: 1.76s\tremaining: 3.26s\n",
      "350:\tlearn: 0.2855285\ttotal: 1.76s\tremaining: 3.26s\n",
      "351:\tlearn: 0.2852757\ttotal: 1.77s\tremaining: 3.25s\n",
      "352:\tlearn: 0.2850858\ttotal: 1.77s\tremaining: 3.24s\n",
      "353:\tlearn: 0.2849725\ttotal: 1.77s\tremaining: 3.24s\n",
      "354:\tlearn: 0.2849107\ttotal: 1.78s\tremaining: 3.23s\n",
      "355:\tlearn: 0.2846626\ttotal: 1.78s\tremaining: 3.22s\n",
      "356:\tlearn: 0.2845348\ttotal: 1.79s\tremaining: 3.22s\n",
      "357:\tlearn: 0.2843882\ttotal: 1.79s\tremaining: 3.21s\n",
      "358:\tlearn: 0.2841637\ttotal: 1.79s\tremaining: 3.2s\n",
      "359:\tlearn: 0.2840627\ttotal: 1.8s\tremaining: 3.2s\n",
      "360:\tlearn: 0.2839265\ttotal: 1.8s\tremaining: 3.19s\n",
      "361:\tlearn: 0.2837416\ttotal: 1.81s\tremaining: 3.18s\n",
      "362:\tlearn: 0.2836345\ttotal: 1.81s\tremaining: 3.18s\n",
      "363:\tlearn: 0.2835247\ttotal: 1.81s\tremaining: 3.17s\n",
      "364:\tlearn: 0.2833013\ttotal: 1.82s\tremaining: 3.17s\n",
      "365:\tlearn: 0.2830202\ttotal: 1.82s\tremaining: 3.16s\n",
      "366:\tlearn: 0.2828779\ttotal: 1.83s\tremaining: 3.16s\n",
      "367:\tlearn: 0.2826781\ttotal: 1.83s\tremaining: 3.15s\n",
      "368:\tlearn: 0.2824865\ttotal: 1.84s\tremaining: 3.14s\n",
      "369:\tlearn: 0.2822705\ttotal: 1.84s\tremaining: 3.14s\n",
      "370:\tlearn: 0.2820552\ttotal: 1.85s\tremaining: 3.13s\n",
      "371:\tlearn: 0.2818448\ttotal: 1.85s\tremaining: 3.13s\n",
      "372:\tlearn: 0.2816297\ttotal: 1.86s\tremaining: 3.12s\n",
      "373:\tlearn: 0.2814547\ttotal: 1.86s\tremaining: 3.11s\n",
      "374:\tlearn: 0.2814004\ttotal: 1.86s\tremaining: 3.11s\n",
      "375:\tlearn: 0.2812314\ttotal: 1.87s\tremaining: 3.1s\n",
      "376:\tlearn: 0.2811096\ttotal: 1.87s\tremaining: 3.09s\n",
      "377:\tlearn: 0.2809777\ttotal: 1.88s\tremaining: 3.09s\n",
      "378:\tlearn: 0.2809127\ttotal: 1.88s\tremaining: 3.08s\n",
      "379:\tlearn: 0.2807841\ttotal: 1.88s\tremaining: 3.07s\n",
      "380:\tlearn: 0.2805729\ttotal: 1.89s\tremaining: 3.07s\n",
      "381:\tlearn: 0.2804346\ttotal: 1.89s\tremaining: 3.06s\n",
      "382:\tlearn: 0.2803110\ttotal: 1.91s\tremaining: 3.08s\n",
      "383:\tlearn: 0.2801320\ttotal: 1.91s\tremaining: 3.07s\n",
      "384:\tlearn: 0.2799853\ttotal: 1.92s\tremaining: 3.06s\n",
      "385:\tlearn: 0.2799327\ttotal: 1.92s\tremaining: 3.06s\n",
      "386:\tlearn: 0.2797616\ttotal: 1.93s\tremaining: 3.05s\n",
      "387:\tlearn: 0.2796023\ttotal: 1.93s\tremaining: 3.04s\n",
      "388:\tlearn: 0.2794182\ttotal: 1.93s\tremaining: 3.04s\n",
      "389:\tlearn: 0.2792802\ttotal: 1.94s\tremaining: 3.03s\n",
      "390:\tlearn: 0.2791966\ttotal: 1.94s\tremaining: 3.02s\n",
      "391:\tlearn: 0.2789841\ttotal: 1.95s\tremaining: 3.02s\n",
      "392:\tlearn: 0.2788435\ttotal: 1.95s\tremaining: 3.01s\n",
      "393:\tlearn: 0.2787176\ttotal: 1.95s\tremaining: 3.01s\n",
      "394:\tlearn: 0.2785995\ttotal: 1.96s\tremaining: 3s\n",
      "395:\tlearn: 0.2785114\ttotal: 1.96s\tremaining: 2.99s\n",
      "396:\tlearn: 0.2784050\ttotal: 1.97s\tremaining: 2.99s\n",
      "397:\tlearn: 0.2781337\ttotal: 1.97s\tremaining: 2.98s\n",
      "398:\tlearn: 0.2779443\ttotal: 1.98s\tremaining: 2.98s\n",
      "399:\tlearn: 0.2777303\ttotal: 1.98s\tremaining: 2.97s\n",
      "400:\tlearn: 0.2775274\ttotal: 1.99s\tremaining: 2.97s\n",
      "401:\tlearn: 0.2773195\ttotal: 1.99s\tremaining: 2.96s\n",
      "402:\tlearn: 0.2771704\ttotal: 2s\tremaining: 2.96s\n",
      "403:\tlearn: 0.2769999\ttotal: 2s\tremaining: 2.95s\n",
      "404:\tlearn: 0.2768747\ttotal: 2.01s\tremaining: 2.95s\n",
      "405:\tlearn: 0.2765631\ttotal: 2.01s\tremaining: 2.95s\n",
      "406:\tlearn: 0.2764468\ttotal: 2.02s\tremaining: 2.94s\n",
      "407:\tlearn: 0.2762486\ttotal: 2.02s\tremaining: 2.94s\n",
      "408:\tlearn: 0.2759860\ttotal: 2.03s\tremaining: 2.93s\n",
      "409:\tlearn: 0.2757579\ttotal: 2.03s\tremaining: 2.93s\n",
      "410:\tlearn: 0.2756655\ttotal: 2.04s\tremaining: 2.92s\n",
      "411:\tlearn: 0.2754634\ttotal: 2.04s\tremaining: 2.92s\n",
      "412:\tlearn: 0.2752755\ttotal: 2.05s\tremaining: 2.91s\n",
      "413:\tlearn: 0.2750931\ttotal: 2.05s\tremaining: 2.9s\n",
      "414:\tlearn: 0.2749596\ttotal: 2.06s\tremaining: 2.9s\n",
      "415:\tlearn: 0.2747611\ttotal: 2.06s\tremaining: 2.89s\n",
      "416:\tlearn: 0.2746571\ttotal: 2.07s\tremaining: 2.89s\n",
      "417:\tlearn: 0.2745333\ttotal: 2.07s\tremaining: 2.88s\n",
      "418:\tlearn: 0.2743429\ttotal: 2.08s\tremaining: 2.88s\n",
      "419:\tlearn: 0.2741936\ttotal: 2.08s\tremaining: 2.87s\n",
      "420:\tlearn: 0.2739717\ttotal: 2.08s\tremaining: 2.87s\n",
      "421:\tlearn: 0.2737262\ttotal: 2.09s\tremaining: 2.86s\n",
      "422:\tlearn: 0.2736309\ttotal: 2.09s\tremaining: 2.86s\n",
      "423:\tlearn: 0.2734878\ttotal: 2.1s\tremaining: 2.85s\n",
      "424:\tlearn: 0.2733522\ttotal: 2.1s\tremaining: 2.84s\n",
      "425:\tlearn: 0.2731830\ttotal: 2.11s\tremaining: 2.84s\n",
      "426:\tlearn: 0.2730399\ttotal: 2.11s\tremaining: 2.83s\n",
      "427:\tlearn: 0.2727928\ttotal: 2.12s\tremaining: 2.83s\n",
      "428:\tlearn: 0.2726313\ttotal: 2.12s\tremaining: 2.82s\n",
      "429:\tlearn: 0.2724840\ttotal: 2.13s\tremaining: 2.82s\n",
      "430:\tlearn: 0.2723450\ttotal: 2.13s\tremaining: 2.81s\n",
      "431:\tlearn: 0.2720785\ttotal: 2.13s\tremaining: 2.81s\n",
      "432:\tlearn: 0.2718910\ttotal: 2.14s\tremaining: 2.8s\n",
      "433:\tlearn: 0.2717794\ttotal: 2.14s\tremaining: 2.8s\n",
      "434:\tlearn: 0.2716296\ttotal: 2.15s\tremaining: 2.79s\n",
      "435:\tlearn: 0.2714862\ttotal: 2.16s\tremaining: 2.79s\n",
      "436:\tlearn: 0.2712411\ttotal: 2.16s\tremaining: 2.78s\n",
      "437:\tlearn: 0.2710479\ttotal: 2.17s\tremaining: 2.78s\n",
      "438:\tlearn: 0.2709451\ttotal: 2.17s\tremaining: 2.77s\n",
      "439:\tlearn: 0.2708414\ttotal: 2.17s\tremaining: 2.77s\n",
      "440:\tlearn: 0.2705482\ttotal: 2.18s\tremaining: 2.76s\n",
      "441:\tlearn: 0.2703407\ttotal: 2.19s\tremaining: 2.76s\n",
      "442:\tlearn: 0.2701713\ttotal: 2.19s\tremaining: 2.75s\n",
      "443:\tlearn: 0.2700096\ttotal: 2.19s\tremaining: 2.75s\n",
      "444:\tlearn: 0.2698307\ttotal: 2.2s\tremaining: 2.74s\n",
      "445:\tlearn: 0.2695732\ttotal: 2.21s\tremaining: 2.74s\n",
      "446:\tlearn: 0.2694785\ttotal: 2.21s\tremaining: 2.73s\n",
      "447:\tlearn: 0.2693446\ttotal: 2.21s\tremaining: 2.73s\n",
      "448:\tlearn: 0.2692668\ttotal: 2.22s\tremaining: 2.72s\n",
      "449:\tlearn: 0.2690749\ttotal: 2.22s\tremaining: 2.72s\n",
      "450:\tlearn: 0.2689346\ttotal: 2.23s\tremaining: 2.71s\n",
      "451:\tlearn: 0.2686958\ttotal: 2.23s\tremaining: 2.71s\n",
      "452:\tlearn: 0.2685382\ttotal: 2.24s\tremaining: 2.7s\n",
      "453:\tlearn: 0.2684319\ttotal: 2.24s\tremaining: 2.7s\n",
      "454:\tlearn: 0.2683192\ttotal: 2.25s\tremaining: 2.69s\n",
      "455:\tlearn: 0.2681319\ttotal: 2.25s\tremaining: 2.68s\n",
      "456:\tlearn: 0.2679229\ttotal: 2.25s\tremaining: 2.68s\n",
      "457:\tlearn: 0.2677789\ttotal: 2.26s\tremaining: 2.67s\n",
      "458:\tlearn: 0.2676131\ttotal: 2.26s\tremaining: 2.67s\n",
      "459:\tlearn: 0.2674455\ttotal: 2.27s\tremaining: 2.66s\n",
      "460:\tlearn: 0.2672542\ttotal: 2.27s\tremaining: 2.66s\n",
      "461:\tlearn: 0.2671160\ttotal: 2.28s\tremaining: 2.65s\n",
      "462:\tlearn: 0.2669590\ttotal: 2.28s\tremaining: 2.65s\n",
      "463:\tlearn: 0.2668132\ttotal: 2.29s\tremaining: 2.64s\n",
      "464:\tlearn: 0.2667219\ttotal: 2.29s\tremaining: 2.63s\n",
      "465:\tlearn: 0.2665846\ttotal: 2.29s\tremaining: 2.63s\n",
      "466:\tlearn: 0.2664737\ttotal: 2.3s\tremaining: 2.62s\n",
      "467:\tlearn: 0.2662628\ttotal: 2.3s\tremaining: 2.62s\n",
      "468:\tlearn: 0.2660629\ttotal: 2.31s\tremaining: 2.61s\n",
      "469:\tlearn: 0.2659050\ttotal: 2.31s\tremaining: 2.6s\n",
      "470:\tlearn: 0.2657484\ttotal: 2.31s\tremaining: 2.6s\n",
      "471:\tlearn: 0.2656155\ttotal: 2.32s\tremaining: 2.59s\n",
      "472:\tlearn: 0.2654756\ttotal: 2.32s\tremaining: 2.59s\n",
      "473:\tlearn: 0.2652699\ttotal: 2.33s\tremaining: 2.58s\n",
      "474:\tlearn: 0.2650947\ttotal: 2.33s\tremaining: 2.58s\n",
      "475:\tlearn: 0.2649828\ttotal: 2.34s\tremaining: 2.57s\n",
      "476:\tlearn: 0.2649046\ttotal: 2.34s\tremaining: 2.57s\n",
      "477:\tlearn: 0.2647100\ttotal: 2.35s\tremaining: 2.56s\n",
      "478:\tlearn: 0.2645372\ttotal: 2.35s\tremaining: 2.56s\n",
      "479:\tlearn: 0.2643596\ttotal: 2.35s\tremaining: 2.55s\n",
      "480:\tlearn: 0.2640404\ttotal: 2.36s\tremaining: 2.55s\n",
      "481:\tlearn: 0.2638047\ttotal: 2.37s\tremaining: 2.54s\n",
      "482:\tlearn: 0.2635111\ttotal: 2.37s\tremaining: 2.54s\n",
      "483:\tlearn: 0.2633432\ttotal: 2.37s\tremaining: 2.53s\n",
      "484:\tlearn: 0.2630523\ttotal: 2.38s\tremaining: 2.53s\n",
      "485:\tlearn: 0.2629177\ttotal: 2.38s\tremaining: 2.52s\n",
      "486:\tlearn: 0.2627014\ttotal: 2.39s\tremaining: 2.51s\n",
      "487:\tlearn: 0.2624969\ttotal: 2.39s\tremaining: 2.51s\n",
      "488:\tlearn: 0.2623274\ttotal: 2.4s\tremaining: 2.5s\n",
      "489:\tlearn: 0.2621268\ttotal: 2.4s\tremaining: 2.5s\n",
      "490:\tlearn: 0.2618729\ttotal: 2.4s\tremaining: 2.49s\n",
      "491:\tlearn: 0.2617344\ttotal: 2.41s\tremaining: 2.49s\n",
      "492:\tlearn: 0.2615557\ttotal: 2.41s\tremaining: 2.48s\n",
      "493:\tlearn: 0.2613700\ttotal: 2.42s\tremaining: 2.48s\n",
      "494:\tlearn: 0.2612199\ttotal: 2.42s\tremaining: 2.47s\n",
      "495:\tlearn: 0.2610554\ttotal: 2.42s\tremaining: 2.46s\n",
      "496:\tlearn: 0.2608262\ttotal: 2.43s\tremaining: 2.46s\n",
      "497:\tlearn: 0.2606985\ttotal: 2.43s\tremaining: 2.45s\n",
      "498:\tlearn: 0.2605123\ttotal: 2.44s\tremaining: 2.45s\n",
      "499:\tlearn: 0.2602272\ttotal: 2.44s\tremaining: 2.44s\n",
      "500:\tlearn: 0.2600756\ttotal: 2.45s\tremaining: 2.44s\n",
      "501:\tlearn: 0.2599136\ttotal: 2.45s\tremaining: 2.43s\n",
      "502:\tlearn: 0.2596781\ttotal: 2.46s\tremaining: 2.43s\n",
      "503:\tlearn: 0.2595600\ttotal: 2.46s\tremaining: 2.42s\n",
      "504:\tlearn: 0.2593914\ttotal: 2.46s\tremaining: 2.42s\n",
      "505:\tlearn: 0.2592709\ttotal: 2.47s\tremaining: 2.41s\n",
      "506:\tlearn: 0.2591621\ttotal: 2.47s\tremaining: 2.4s\n",
      "507:\tlearn: 0.2590043\ttotal: 2.48s\tremaining: 2.4s\n",
      "508:\tlearn: 0.2588270\ttotal: 2.48s\tremaining: 2.39s\n",
      "509:\tlearn: 0.2586464\ttotal: 2.49s\tremaining: 2.39s\n",
      "510:\tlearn: 0.2585023\ttotal: 2.49s\tremaining: 2.38s\n",
      "511:\tlearn: 0.2582738\ttotal: 2.5s\tremaining: 2.38s\n",
      "512:\tlearn: 0.2581363\ttotal: 2.5s\tremaining: 2.37s\n",
      "513:\tlearn: 0.2580073\ttotal: 2.5s\tremaining: 2.37s\n",
      "514:\tlearn: 0.2577908\ttotal: 2.51s\tremaining: 2.36s\n",
      "515:\tlearn: 0.2575620\ttotal: 2.51s\tremaining: 2.35s\n",
      "516:\tlearn: 0.2574393\ttotal: 2.52s\tremaining: 2.35s\n",
      "517:\tlearn: 0.2573291\ttotal: 2.52s\tremaining: 2.34s\n",
      "518:\tlearn: 0.2571215\ttotal: 2.52s\tremaining: 2.34s\n",
      "519:\tlearn: 0.2569741\ttotal: 2.53s\tremaining: 2.33s\n",
      "520:\tlearn: 0.2568543\ttotal: 2.53s\tremaining: 2.33s\n",
      "521:\tlearn: 0.2567163\ttotal: 2.54s\tremaining: 2.32s\n",
      "522:\tlearn: 0.2565571\ttotal: 2.54s\tremaining: 2.32s\n",
      "523:\tlearn: 0.2564265\ttotal: 2.54s\tremaining: 2.31s\n",
      "524:\tlearn: 0.2563366\ttotal: 2.55s\tremaining: 2.31s\n",
      "525:\tlearn: 0.2561838\ttotal: 2.55s\tremaining: 2.3s\n",
      "526:\tlearn: 0.2560306\ttotal: 2.56s\tremaining: 2.29s\n",
      "527:\tlearn: 0.2558855\ttotal: 2.56s\tremaining: 2.29s\n",
      "528:\tlearn: 0.2557399\ttotal: 2.56s\tremaining: 2.28s\n",
      "529:\tlearn: 0.2555966\ttotal: 2.57s\tremaining: 2.28s\n",
      "530:\tlearn: 0.2554097\ttotal: 2.57s\tremaining: 2.27s\n",
      "531:\tlearn: 0.2552896\ttotal: 2.58s\tremaining: 2.27s\n",
      "532:\tlearn: 0.2551263\ttotal: 2.58s\tremaining: 2.26s\n",
      "533:\tlearn: 0.2549726\ttotal: 2.58s\tremaining: 2.26s\n",
      "534:\tlearn: 0.2548141\ttotal: 2.59s\tremaining: 2.25s\n",
      "535:\tlearn: 0.2546929\ttotal: 2.59s\tremaining: 2.25s\n",
      "536:\tlearn: 0.2546023\ttotal: 2.6s\tremaining: 2.24s\n",
      "537:\tlearn: 0.2544862\ttotal: 2.6s\tremaining: 2.23s\n",
      "538:\tlearn: 0.2543695\ttotal: 2.61s\tremaining: 2.23s\n",
      "539:\tlearn: 0.2542693\ttotal: 2.61s\tremaining: 2.22s\n",
      "540:\tlearn: 0.2541469\ttotal: 2.62s\tremaining: 2.22s\n",
      "541:\tlearn: 0.2540337\ttotal: 2.62s\tremaining: 2.21s\n",
      "542:\tlearn: 0.2539162\ttotal: 2.62s\tremaining: 2.21s\n",
      "543:\tlearn: 0.2537312\ttotal: 2.63s\tremaining: 2.2s\n",
      "544:\tlearn: 0.2536301\ttotal: 2.63s\tremaining: 2.2s\n",
      "545:\tlearn: 0.2534723\ttotal: 2.64s\tremaining: 2.19s\n",
      "546:\tlearn: 0.2533603\ttotal: 2.64s\tremaining: 2.19s\n",
      "547:\tlearn: 0.2531998\ttotal: 2.65s\tremaining: 2.18s\n",
      "548:\tlearn: 0.2530490\ttotal: 2.65s\tremaining: 2.18s\n",
      "549:\tlearn: 0.2530169\ttotal: 2.65s\tremaining: 2.17s\n",
      "550:\tlearn: 0.2528527\ttotal: 2.66s\tremaining: 2.17s\n",
      "551:\tlearn: 0.2527070\ttotal: 2.66s\tremaining: 2.16s\n",
      "552:\tlearn: 0.2525663\ttotal: 2.67s\tremaining: 2.15s\n",
      "553:\tlearn: 0.2524165\ttotal: 2.67s\tremaining: 2.15s\n",
      "554:\tlearn: 0.2522858\ttotal: 2.67s\tremaining: 2.14s\n",
      "555:\tlearn: 0.2521521\ttotal: 2.68s\tremaining: 2.14s\n",
      "556:\tlearn: 0.2520126\ttotal: 2.68s\tremaining: 2.13s\n",
      "557:\tlearn: 0.2519673\ttotal: 2.69s\tremaining: 2.13s\n",
      "558:\tlearn: 0.2517916\ttotal: 2.69s\tremaining: 2.12s\n",
      "559:\tlearn: 0.2515869\ttotal: 2.69s\tremaining: 2.12s\n",
      "560:\tlearn: 0.2514234\ttotal: 2.7s\tremaining: 2.11s\n",
      "561:\tlearn: 0.2512850\ttotal: 2.7s\tremaining: 2.11s\n",
      "562:\tlearn: 0.2510261\ttotal: 2.71s\tremaining: 2.1s\n",
      "563:\tlearn: 0.2510015\ttotal: 2.71s\tremaining: 2.1s\n",
      "564:\tlearn: 0.2508640\ttotal: 2.72s\tremaining: 2.09s\n",
      "565:\tlearn: 0.2506189\ttotal: 2.72s\tremaining: 2.09s\n",
      "566:\tlearn: 0.2505203\ttotal: 2.73s\tremaining: 2.08s\n",
      "567:\tlearn: 0.2504209\ttotal: 2.73s\tremaining: 2.08s\n",
      "568:\tlearn: 0.2503286\ttotal: 2.73s\tremaining: 2.07s\n",
      "569:\tlearn: 0.2502936\ttotal: 2.74s\tremaining: 2.06s\n",
      "570:\tlearn: 0.2502020\ttotal: 2.74s\tremaining: 2.06s\n",
      "571:\tlearn: 0.2501779\ttotal: 2.75s\tremaining: 2.05s\n",
      "572:\tlearn: 0.2500388\ttotal: 2.75s\tremaining: 2.05s\n",
      "573:\tlearn: 0.2499181\ttotal: 2.75s\tremaining: 2.04s\n",
      "574:\tlearn: 0.2497541\ttotal: 2.76s\tremaining: 2.04s\n",
      "575:\tlearn: 0.2496026\ttotal: 2.76s\tremaining: 2.03s\n",
      "576:\tlearn: 0.2495036\ttotal: 2.77s\tremaining: 2.03s\n",
      "577:\tlearn: 0.2493636\ttotal: 2.77s\tremaining: 2.02s\n",
      "578:\tlearn: 0.2492119\ttotal: 2.77s\tremaining: 2.02s\n",
      "579:\tlearn: 0.2491715\ttotal: 2.78s\tremaining: 2.01s\n",
      "580:\tlearn: 0.2490169\ttotal: 2.78s\tremaining: 2s\n",
      "581:\tlearn: 0.2489356\ttotal: 2.79s\tremaining: 2s\n",
      "582:\tlearn: 0.2487996\ttotal: 2.79s\tremaining: 1.99s\n",
      "583:\tlearn: 0.2486255\ttotal: 2.79s\tremaining: 1.99s\n",
      "584:\tlearn: 0.2484331\ttotal: 2.8s\tremaining: 1.98s\n",
      "585:\tlearn: 0.2482798\ttotal: 2.8s\tremaining: 1.98s\n",
      "586:\tlearn: 0.2481496\ttotal: 2.8s\tremaining: 1.97s\n",
      "587:\tlearn: 0.2480404\ttotal: 2.81s\tremaining: 1.97s\n",
      "588:\tlearn: 0.2478992\ttotal: 2.81s\tremaining: 1.96s\n",
      "589:\tlearn: 0.2477406\ttotal: 2.82s\tremaining: 1.96s\n",
      "590:\tlearn: 0.2476142\ttotal: 2.82s\tremaining: 1.95s\n",
      "591:\tlearn: 0.2475045\ttotal: 2.82s\tremaining: 1.95s\n",
      "592:\tlearn: 0.2473412\ttotal: 2.83s\tremaining: 1.94s\n",
      "593:\tlearn: 0.2472044\ttotal: 2.83s\tremaining: 1.94s\n",
      "594:\tlearn: 0.2470278\ttotal: 2.83s\tremaining: 1.93s\n",
      "595:\tlearn: 0.2468988\ttotal: 2.84s\tremaining: 1.92s\n",
      "596:\tlearn: 0.2466739\ttotal: 2.84s\tremaining: 1.92s\n",
      "597:\tlearn: 0.2464712\ttotal: 2.85s\tremaining: 1.91s\n",
      "598:\tlearn: 0.2462595\ttotal: 2.85s\tremaining: 1.91s\n",
      "599:\tlearn: 0.2461523\ttotal: 2.85s\tremaining: 1.9s\n",
      "600:\tlearn: 0.2459668\ttotal: 2.86s\tremaining: 1.9s\n",
      "601:\tlearn: 0.2458390\ttotal: 2.86s\tremaining: 1.89s\n",
      "602:\tlearn: 0.2455633\ttotal: 2.87s\tremaining: 1.89s\n",
      "603:\tlearn: 0.2454266\ttotal: 2.87s\tremaining: 1.88s\n",
      "604:\tlearn: 0.2453299\ttotal: 2.87s\tremaining: 1.88s\n",
      "605:\tlearn: 0.2453145\ttotal: 2.88s\tremaining: 1.87s\n",
      "606:\tlearn: 0.2453035\ttotal: 2.88s\tremaining: 1.86s\n",
      "607:\tlearn: 0.2452605\ttotal: 2.88s\tremaining: 1.86s\n",
      "608:\tlearn: 0.2450919\ttotal: 2.89s\tremaining: 1.85s\n",
      "609:\tlearn: 0.2449100\ttotal: 2.89s\tremaining: 1.85s\n",
      "610:\tlearn: 0.2447240\ttotal: 2.9s\tremaining: 1.84s\n",
      "611:\tlearn: 0.2446244\ttotal: 2.9s\tremaining: 1.84s\n",
      "612:\tlearn: 0.2444823\ttotal: 2.9s\tremaining: 1.83s\n",
      "613:\tlearn: 0.2443846\ttotal: 2.91s\tremaining: 1.83s\n",
      "614:\tlearn: 0.2442806\ttotal: 2.91s\tremaining: 1.82s\n",
      "615:\tlearn: 0.2441389\ttotal: 2.92s\tremaining: 1.82s\n",
      "616:\tlearn: 0.2441241\ttotal: 2.92s\tremaining: 1.81s\n",
      "617:\tlearn: 0.2439266\ttotal: 2.92s\tremaining: 1.81s\n",
      "618:\tlearn: 0.2437628\ttotal: 2.93s\tremaining: 1.8s\n",
      "619:\tlearn: 0.2436259\ttotal: 2.93s\tremaining: 1.8s\n",
      "620:\tlearn: 0.2434765\ttotal: 2.94s\tremaining: 1.79s\n",
      "621:\tlearn: 0.2432539\ttotal: 2.94s\tremaining: 1.79s\n",
      "622:\tlearn: 0.2431113\ttotal: 2.95s\tremaining: 1.78s\n",
      "623:\tlearn: 0.2429151\ttotal: 2.95s\tremaining: 1.78s\n",
      "624:\tlearn: 0.2428941\ttotal: 2.96s\tremaining: 1.77s\n",
      "625:\tlearn: 0.2427707\ttotal: 2.96s\tremaining: 1.77s\n",
      "626:\tlearn: 0.2426028\ttotal: 2.96s\tremaining: 1.76s\n",
      "627:\tlearn: 0.2424538\ttotal: 2.97s\tremaining: 1.76s\n",
      "628:\tlearn: 0.2422837\ttotal: 2.97s\tremaining: 1.75s\n",
      "629:\tlearn: 0.2421429\ttotal: 2.98s\tremaining: 1.75s\n",
      "630:\tlearn: 0.2419790\ttotal: 2.99s\tremaining: 1.75s\n",
      "631:\tlearn: 0.2418537\ttotal: 2.99s\tremaining: 1.74s\n",
      "632:\tlearn: 0.2417522\ttotal: 2.99s\tremaining: 1.74s\n",
      "633:\tlearn: 0.2417266\ttotal: 3s\tremaining: 1.73s\n",
      "634:\tlearn: 0.2415560\ttotal: 3s\tremaining: 1.73s\n",
      "635:\tlearn: 0.2413940\ttotal: 3.01s\tremaining: 1.72s\n",
      "636:\tlearn: 0.2412422\ttotal: 3.01s\tremaining: 1.72s\n",
      "637:\tlearn: 0.2410950\ttotal: 3.01s\tremaining: 1.71s\n",
      "638:\tlearn: 0.2410059\ttotal: 3.02s\tremaining: 1.71s\n",
      "639:\tlearn: 0.2408412\ttotal: 3.02s\tremaining: 1.7s\n",
      "640:\tlearn: 0.2406769\ttotal: 3.02s\tremaining: 1.69s\n",
      "641:\tlearn: 0.2404413\ttotal: 3.03s\tremaining: 1.69s\n",
      "642:\tlearn: 0.2403051\ttotal: 3.03s\tremaining: 1.68s\n",
      "643:\tlearn: 0.2401612\ttotal: 3.04s\tremaining: 1.68s\n",
      "644:\tlearn: 0.2399660\ttotal: 3.04s\tremaining: 1.67s\n",
      "645:\tlearn: 0.2398803\ttotal: 3.05s\tremaining: 1.67s\n",
      "646:\tlearn: 0.2397741\ttotal: 3.05s\tremaining: 1.66s\n",
      "647:\tlearn: 0.2396884\ttotal: 3.05s\tremaining: 1.66s\n",
      "648:\tlearn: 0.2395536\ttotal: 3.06s\tremaining: 1.65s\n",
      "649:\tlearn: 0.2393699\ttotal: 3.06s\tremaining: 1.65s\n",
      "650:\tlearn: 0.2392696\ttotal: 3.06s\tremaining: 1.64s\n",
      "651:\tlearn: 0.2390630\ttotal: 3.07s\tremaining: 1.64s\n",
      "652:\tlearn: 0.2389480\ttotal: 3.07s\tremaining: 1.63s\n",
      "653:\tlearn: 0.2387735\ttotal: 3.08s\tremaining: 1.63s\n",
      "654:\tlearn: 0.2386320\ttotal: 3.08s\tremaining: 1.62s\n",
      "655:\tlearn: 0.2385355\ttotal: 3.09s\tremaining: 1.62s\n",
      "656:\tlearn: 0.2385215\ttotal: 3.09s\tremaining: 1.61s\n",
      "657:\tlearn: 0.2383457\ttotal: 3.1s\tremaining: 1.61s\n",
      "658:\tlearn: 0.2381939\ttotal: 3.1s\tremaining: 1.6s\n",
      "659:\tlearn: 0.2380664\ttotal: 3.1s\tremaining: 1.6s\n",
      "660:\tlearn: 0.2379687\ttotal: 3.11s\tremaining: 1.59s\n",
      "661:\tlearn: 0.2378318\ttotal: 3.11s\tremaining: 1.59s\n",
      "662:\tlearn: 0.2377122\ttotal: 3.11s\tremaining: 1.58s\n",
      "663:\tlearn: 0.2375860\ttotal: 3.12s\tremaining: 1.58s\n",
      "664:\tlearn: 0.2374455\ttotal: 3.12s\tremaining: 1.57s\n",
      "665:\tlearn: 0.2373756\ttotal: 3.13s\tremaining: 1.57s\n",
      "666:\tlearn: 0.2373626\ttotal: 3.13s\tremaining: 1.56s\n",
      "667:\tlearn: 0.2372672\ttotal: 3.13s\tremaining: 1.56s\n",
      "668:\tlearn: 0.2370811\ttotal: 3.14s\tremaining: 1.55s\n",
      "669:\tlearn: 0.2369195\ttotal: 3.14s\tremaining: 1.55s\n",
      "670:\tlearn: 0.2369013\ttotal: 3.15s\tremaining: 1.54s\n",
      "671:\tlearn: 0.2367738\ttotal: 3.15s\tremaining: 1.54s\n",
      "672:\tlearn: 0.2366393\ttotal: 3.15s\tremaining: 1.53s\n",
      "673:\tlearn: 0.2365489\ttotal: 3.16s\tremaining: 1.53s\n",
      "674:\tlearn: 0.2364232\ttotal: 3.16s\tremaining: 1.52s\n",
      "675:\tlearn: 0.2363106\ttotal: 3.16s\tremaining: 1.52s\n",
      "676:\tlearn: 0.2362363\ttotal: 3.17s\tremaining: 1.51s\n",
      "677:\tlearn: 0.2360673\ttotal: 3.17s\tremaining: 1.51s\n",
      "678:\tlearn: 0.2359383\ttotal: 3.17s\tremaining: 1.5s\n",
      "679:\tlearn: 0.2357592\ttotal: 3.18s\tremaining: 1.5s\n",
      "680:\tlearn: 0.2356269\ttotal: 3.18s\tremaining: 1.49s\n",
      "681:\tlearn: 0.2354813\ttotal: 3.19s\tremaining: 1.49s\n",
      "682:\tlearn: 0.2353568\ttotal: 3.19s\tremaining: 1.48s\n",
      "683:\tlearn: 0.2352042\ttotal: 3.19s\tremaining: 1.48s\n",
      "684:\tlearn: 0.2351217\ttotal: 3.2s\tremaining: 1.47s\n",
      "685:\tlearn: 0.2349402\ttotal: 3.2s\tremaining: 1.47s\n",
      "686:\tlearn: 0.2348609\ttotal: 3.21s\tremaining: 1.46s\n",
      "687:\tlearn: 0.2346730\ttotal: 3.21s\tremaining: 1.46s\n",
      "688:\tlearn: 0.2345906\ttotal: 3.21s\tremaining: 1.45s\n",
      "689:\tlearn: 0.2343717\ttotal: 3.22s\tremaining: 1.45s\n",
      "690:\tlearn: 0.2342396\ttotal: 3.22s\tremaining: 1.44s\n",
      "691:\tlearn: 0.2340968\ttotal: 3.23s\tremaining: 1.44s\n",
      "692:\tlearn: 0.2339406\ttotal: 3.23s\tremaining: 1.43s\n",
      "693:\tlearn: 0.2337912\ttotal: 3.23s\tremaining: 1.43s\n",
      "694:\tlearn: 0.2336581\ttotal: 3.24s\tremaining: 1.42s\n",
      "695:\tlearn: 0.2335253\ttotal: 3.24s\tremaining: 1.42s\n",
      "696:\tlearn: 0.2333390\ttotal: 3.25s\tremaining: 1.41s\n",
      "697:\tlearn: 0.2331586\ttotal: 3.25s\tremaining: 1.41s\n",
      "698:\tlearn: 0.2329187\ttotal: 3.25s\tremaining: 1.4s\n",
      "699:\tlearn: 0.2327705\ttotal: 3.26s\tremaining: 1.4s\n",
      "700:\tlearn: 0.2325872\ttotal: 3.26s\tremaining: 1.39s\n",
      "701:\tlearn: 0.2324557\ttotal: 3.27s\tremaining: 1.39s\n",
      "702:\tlearn: 0.2324388\ttotal: 3.27s\tremaining: 1.38s\n",
      "703:\tlearn: 0.2323345\ttotal: 3.27s\tremaining: 1.38s\n",
      "704:\tlearn: 0.2321853\ttotal: 3.28s\tremaining: 1.37s\n",
      "705:\tlearn: 0.2321276\ttotal: 3.28s\tremaining: 1.37s\n",
      "706:\tlearn: 0.2318732\ttotal: 3.29s\tremaining: 1.36s\n",
      "707:\tlearn: 0.2317457\ttotal: 3.29s\tremaining: 1.36s\n",
      "708:\tlearn: 0.2315887\ttotal: 3.29s\tremaining: 1.35s\n",
      "709:\tlearn: 0.2314624\ttotal: 3.3s\tremaining: 1.35s\n",
      "710:\tlearn: 0.2314013\ttotal: 3.3s\tremaining: 1.34s\n",
      "711:\tlearn: 0.2312437\ttotal: 3.31s\tremaining: 1.34s\n",
      "712:\tlearn: 0.2310580\ttotal: 3.31s\tremaining: 1.33s\n",
      "713:\tlearn: 0.2309764\ttotal: 3.31s\tremaining: 1.33s\n",
      "714:\tlearn: 0.2308667\ttotal: 3.32s\tremaining: 1.32s\n",
      "715:\tlearn: 0.2308544\ttotal: 3.32s\tremaining: 1.32s\n",
      "716:\tlearn: 0.2307736\ttotal: 3.33s\tremaining: 1.31s\n",
      "717:\tlearn: 0.2306616\ttotal: 3.33s\tremaining: 1.31s\n",
      "718:\tlearn: 0.2305489\ttotal: 3.33s\tremaining: 1.3s\n",
      "719:\tlearn: 0.2303751\ttotal: 3.34s\tremaining: 1.3s\n",
      "720:\tlearn: 0.2302353\ttotal: 3.34s\tremaining: 1.29s\n",
      "721:\tlearn: 0.2301216\ttotal: 3.35s\tremaining: 1.29s\n",
      "722:\tlearn: 0.2299036\ttotal: 3.35s\tremaining: 1.28s\n",
      "723:\tlearn: 0.2297380\ttotal: 3.35s\tremaining: 1.28s\n",
      "724:\tlearn: 0.2296003\ttotal: 3.36s\tremaining: 1.27s\n",
      "725:\tlearn: 0.2294467\ttotal: 3.36s\tremaining: 1.27s\n",
      "726:\tlearn: 0.2292492\ttotal: 3.36s\tremaining: 1.26s\n",
      "727:\tlearn: 0.2290802\ttotal: 3.37s\tremaining: 1.26s\n",
      "728:\tlearn: 0.2289610\ttotal: 3.37s\tremaining: 1.25s\n",
      "729:\tlearn: 0.2287778\ttotal: 3.38s\tremaining: 1.25s\n",
      "730:\tlearn: 0.2286943\ttotal: 3.38s\tremaining: 1.24s\n",
      "731:\tlearn: 0.2285358\ttotal: 3.38s\tremaining: 1.24s\n",
      "732:\tlearn: 0.2284882\ttotal: 3.39s\tremaining: 1.23s\n",
      "733:\tlearn: 0.2282438\ttotal: 3.39s\tremaining: 1.23s\n",
      "734:\tlearn: 0.2280852\ttotal: 3.39s\tremaining: 1.22s\n",
      "735:\tlearn: 0.2278954\ttotal: 3.4s\tremaining: 1.22s\n",
      "736:\tlearn: 0.2277691\ttotal: 3.4s\tremaining: 1.21s\n",
      "737:\tlearn: 0.2277023\ttotal: 3.41s\tremaining: 1.21s\n",
      "738:\tlearn: 0.2276914\ttotal: 3.41s\tremaining: 1.2s\n",
      "739:\tlearn: 0.2275689\ttotal: 3.41s\tremaining: 1.2s\n",
      "740:\tlearn: 0.2275188\ttotal: 3.42s\tremaining: 1.19s\n",
      "741:\tlearn: 0.2274070\ttotal: 3.42s\tremaining: 1.19s\n",
      "742:\tlearn: 0.2273380\ttotal: 3.42s\tremaining: 1.18s\n",
      "743:\tlearn: 0.2271388\ttotal: 3.43s\tremaining: 1.18s\n",
      "744:\tlearn: 0.2270301\ttotal: 3.43s\tremaining: 1.17s\n",
      "745:\tlearn: 0.2267720\ttotal: 3.44s\tremaining: 1.17s\n",
      "746:\tlearn: 0.2266161\ttotal: 3.44s\tremaining: 1.17s\n",
      "747:\tlearn: 0.2264894\ttotal: 3.44s\tremaining: 1.16s\n",
      "748:\tlearn: 0.2263978\ttotal: 3.45s\tremaining: 1.16s\n",
      "749:\tlearn: 0.2263172\ttotal: 3.45s\tremaining: 1.15s\n",
      "750:\tlearn: 0.2261494\ttotal: 3.46s\tremaining: 1.15s\n",
      "751:\tlearn: 0.2260650\ttotal: 3.46s\tremaining: 1.14s\n",
      "752:\tlearn: 0.2258756\ttotal: 3.46s\tremaining: 1.14s\n",
      "753:\tlearn: 0.2257650\ttotal: 3.47s\tremaining: 1.13s\n",
      "754:\tlearn: 0.2255947\ttotal: 3.47s\tremaining: 1.13s\n",
      "755:\tlearn: 0.2254503\ttotal: 3.48s\tremaining: 1.12s\n",
      "756:\tlearn: 0.2253537\ttotal: 3.48s\tremaining: 1.12s\n",
      "757:\tlearn: 0.2252566\ttotal: 3.48s\tremaining: 1.11s\n",
      "758:\tlearn: 0.2251299\ttotal: 3.49s\tremaining: 1.11s\n",
      "759:\tlearn: 0.2249357\ttotal: 3.49s\tremaining: 1.1s\n",
      "760:\tlearn: 0.2249188\ttotal: 3.5s\tremaining: 1.1s\n",
      "761:\tlearn: 0.2248570\ttotal: 3.5s\tremaining: 1.09s\n",
      "762:\tlearn: 0.2247216\ttotal: 3.5s\tremaining: 1.09s\n",
      "763:\tlearn: 0.2246423\ttotal: 3.51s\tremaining: 1.08s\n",
      "764:\tlearn: 0.2245755\ttotal: 3.51s\tremaining: 1.08s\n",
      "765:\tlearn: 0.2243486\ttotal: 3.52s\tremaining: 1.07s\n",
      "766:\tlearn: 0.2241751\ttotal: 3.52s\tremaining: 1.07s\n",
      "767:\tlearn: 0.2240180\ttotal: 3.52s\tremaining: 1.06s\n",
      "768:\tlearn: 0.2238505\ttotal: 3.53s\tremaining: 1.06s\n",
      "769:\tlearn: 0.2237703\ttotal: 3.53s\tremaining: 1.05s\n",
      "770:\tlearn: 0.2236638\ttotal: 3.53s\tremaining: 1.05s\n",
      "771:\tlearn: 0.2235914\ttotal: 3.54s\tremaining: 1.04s\n",
      "772:\tlearn: 0.2234554\ttotal: 3.54s\tremaining: 1.04s\n",
      "773:\tlearn: 0.2232997\ttotal: 3.54s\tremaining: 1.03s\n",
      "774:\tlearn: 0.2230842\ttotal: 3.55s\tremaining: 1.03s\n",
      "775:\tlearn: 0.2229283\ttotal: 3.55s\tremaining: 1.02s\n",
      "776:\tlearn: 0.2227764\ttotal: 3.56s\tremaining: 1.02s\n",
      "777:\tlearn: 0.2226417\ttotal: 3.56s\tremaining: 1.01s\n",
      "778:\tlearn: 0.2224935\ttotal: 3.56s\tremaining: 1.01s\n",
      "779:\tlearn: 0.2224603\ttotal: 3.57s\tremaining: 1.01s\n",
      "780:\tlearn: 0.2222901\ttotal: 3.57s\tremaining: 1s\n",
      "781:\tlearn: 0.2221189\ttotal: 3.58s\tremaining: 997ms\n",
      "782:\tlearn: 0.2220169\ttotal: 3.58s\tremaining: 992ms\n",
      "783:\tlearn: 0.2218139\ttotal: 3.58s\tremaining: 987ms\n",
      "784:\tlearn: 0.2216517\ttotal: 3.59s\tremaining: 983ms\n",
      "785:\tlearn: 0.2214512\ttotal: 3.59s\tremaining: 978ms\n",
      "786:\tlearn: 0.2213240\ttotal: 3.59s\tremaining: 973ms\n",
      "787:\tlearn: 0.2211502\ttotal: 3.6s\tremaining: 968ms\n",
      "788:\tlearn: 0.2210349\ttotal: 3.6s\tremaining: 963ms\n",
      "789:\tlearn: 0.2208674\ttotal: 3.61s\tremaining: 959ms\n",
      "790:\tlearn: 0.2207205\ttotal: 3.61s\tremaining: 954ms\n",
      "791:\tlearn: 0.2205830\ttotal: 3.61s\tremaining: 949ms\n",
      "792:\tlearn: 0.2205213\ttotal: 3.62s\tremaining: 945ms\n",
      "793:\tlearn: 0.2203113\ttotal: 3.62s\tremaining: 940ms\n",
      "794:\tlearn: 0.2202972\ttotal: 3.63s\tremaining: 935ms\n",
      "795:\tlearn: 0.2201448\ttotal: 3.63s\tremaining: 931ms\n",
      "796:\tlearn: 0.2199980\ttotal: 3.63s\tremaining: 926ms\n",
      "797:\tlearn: 0.2198413\ttotal: 3.64s\tremaining: 921ms\n",
      "798:\tlearn: 0.2197110\ttotal: 3.64s\tremaining: 917ms\n",
      "799:\tlearn: 0.2195501\ttotal: 3.65s\tremaining: 912ms\n",
      "800:\tlearn: 0.2194276\ttotal: 3.65s\tremaining: 907ms\n",
      "801:\tlearn: 0.2192105\ttotal: 3.65s\tremaining: 902ms\n",
      "802:\tlearn: 0.2190940\ttotal: 3.66s\tremaining: 898ms\n",
      "803:\tlearn: 0.2189600\ttotal: 3.66s\tremaining: 893ms\n",
      "804:\tlearn: 0.2188271\ttotal: 3.67s\tremaining: 888ms\n",
      "805:\tlearn: 0.2187647\ttotal: 3.67s\tremaining: 884ms\n",
      "806:\tlearn: 0.2187495\ttotal: 3.67s\tremaining: 879ms\n",
      "807:\tlearn: 0.2185948\ttotal: 3.68s\tremaining: 874ms\n",
      "808:\tlearn: 0.2183504\ttotal: 3.68s\tremaining: 870ms\n",
      "809:\tlearn: 0.2181388\ttotal: 3.69s\tremaining: 865ms\n",
      "810:\tlearn: 0.2179702\ttotal: 3.69s\tremaining: 860ms\n",
      "811:\tlearn: 0.2178592\ttotal: 3.69s\tremaining: 855ms\n",
      "812:\tlearn: 0.2177029\ttotal: 3.7s\tremaining: 851ms\n",
      "813:\tlearn: 0.2175885\ttotal: 3.7s\tremaining: 846ms\n",
      "814:\tlearn: 0.2175335\ttotal: 3.71s\tremaining: 841ms\n",
      "815:\tlearn: 0.2173883\ttotal: 3.71s\tremaining: 837ms\n",
      "816:\tlearn: 0.2172151\ttotal: 3.71s\tremaining: 832ms\n",
      "817:\tlearn: 0.2170762\ttotal: 3.72s\tremaining: 827ms\n",
      "818:\tlearn: 0.2170023\ttotal: 3.72s\tremaining: 822ms\n",
      "819:\tlearn: 0.2168809\ttotal: 3.72s\tremaining: 818ms\n",
      "820:\tlearn: 0.2167796\ttotal: 3.73s\tremaining: 813ms\n",
      "821:\tlearn: 0.2166025\ttotal: 3.73s\tremaining: 808ms\n",
      "822:\tlearn: 0.2164958\ttotal: 3.74s\tremaining: 804ms\n",
      "823:\tlearn: 0.2164901\ttotal: 3.74s\tremaining: 799ms\n",
      "824:\tlearn: 0.2163740\ttotal: 3.74s\tremaining: 794ms\n",
      "825:\tlearn: 0.2162722\ttotal: 3.75s\tremaining: 789ms\n",
      "826:\tlearn: 0.2161707\ttotal: 3.75s\tremaining: 785ms\n",
      "827:\tlearn: 0.2160815\ttotal: 3.75s\tremaining: 780ms\n",
      "828:\tlearn: 0.2160426\ttotal: 3.76s\tremaining: 775ms\n",
      "829:\tlearn: 0.2159406\ttotal: 3.76s\tremaining: 771ms\n",
      "830:\tlearn: 0.2158645\ttotal: 3.77s\tremaining: 766ms\n",
      "831:\tlearn: 0.2157308\ttotal: 3.77s\tremaining: 761ms\n",
      "832:\tlearn: 0.2156258\ttotal: 3.77s\tremaining: 757ms\n",
      "833:\tlearn: 0.2155060\ttotal: 3.78s\tremaining: 752ms\n",
      "834:\tlearn: 0.2154182\ttotal: 3.78s\tremaining: 747ms\n",
      "835:\tlearn: 0.2152988\ttotal: 3.79s\tremaining: 743ms\n",
      "836:\tlearn: 0.2151805\ttotal: 3.79s\tremaining: 738ms\n",
      "837:\tlearn: 0.2151098\ttotal: 3.79s\tremaining: 734ms\n",
      "838:\tlearn: 0.2150048\ttotal: 3.8s\tremaining: 729ms\n",
      "839:\tlearn: 0.2149194\ttotal: 3.8s\tremaining: 724ms\n",
      "840:\tlearn: 0.2149108\ttotal: 3.81s\tremaining: 720ms\n",
      "841:\tlearn: 0.2148070\ttotal: 3.81s\tremaining: 715ms\n",
      "842:\tlearn: 0.2147662\ttotal: 3.81s\tremaining: 710ms\n",
      "843:\tlearn: 0.2145715\ttotal: 3.82s\tremaining: 706ms\n",
      "844:\tlearn: 0.2143990\ttotal: 3.82s\tremaining: 701ms\n",
      "845:\tlearn: 0.2141526\ttotal: 3.83s\tremaining: 697ms\n",
      "846:\tlearn: 0.2140469\ttotal: 3.83s\tremaining: 692ms\n",
      "847:\tlearn: 0.2139489\ttotal: 3.83s\tremaining: 687ms\n",
      "848:\tlearn: 0.2137494\ttotal: 3.84s\tremaining: 683ms\n",
      "849:\tlearn: 0.2136935\ttotal: 3.84s\tremaining: 678ms\n",
      "850:\tlearn: 0.2135189\ttotal: 3.85s\tremaining: 674ms\n",
      "851:\tlearn: 0.2133744\ttotal: 3.85s\tremaining: 669ms\n",
      "852:\tlearn: 0.2133001\ttotal: 3.85s\tremaining: 664ms\n",
      "853:\tlearn: 0.2132477\ttotal: 3.86s\tremaining: 660ms\n",
      "854:\tlearn: 0.2130942\ttotal: 3.86s\tremaining: 655ms\n",
      "855:\tlearn: 0.2130405\ttotal: 3.87s\tremaining: 650ms\n",
      "856:\tlearn: 0.2129678\ttotal: 3.87s\tremaining: 646ms\n",
      "857:\tlearn: 0.2127924\ttotal: 3.87s\tremaining: 641ms\n",
      "858:\tlearn: 0.2126503\ttotal: 3.88s\tremaining: 637ms\n",
      "859:\tlearn: 0.2125249\ttotal: 3.88s\tremaining: 632ms\n",
      "860:\tlearn: 0.2124309\ttotal: 3.88s\tremaining: 627ms\n",
      "861:\tlearn: 0.2122782\ttotal: 3.89s\tremaining: 623ms\n",
      "862:\tlearn: 0.2122495\ttotal: 3.89s\tremaining: 618ms\n",
      "863:\tlearn: 0.2120520\ttotal: 3.9s\tremaining: 613ms\n",
      "864:\tlearn: 0.2118982\ttotal: 3.9s\tremaining: 609ms\n",
      "865:\tlearn: 0.2118186\ttotal: 3.9s\tremaining: 604ms\n",
      "866:\tlearn: 0.2117739\ttotal: 3.91s\tremaining: 600ms\n",
      "867:\tlearn: 0.2116751\ttotal: 3.91s\tremaining: 595ms\n",
      "868:\tlearn: 0.2115254\ttotal: 3.92s\tremaining: 590ms\n",
      "869:\tlearn: 0.2114420\ttotal: 3.92s\tremaining: 586ms\n",
      "870:\tlearn: 0.2113588\ttotal: 3.92s\tremaining: 581ms\n",
      "871:\tlearn: 0.2112497\ttotal: 3.93s\tremaining: 577ms\n",
      "872:\tlearn: 0.2111457\ttotal: 3.93s\tremaining: 572ms\n",
      "873:\tlearn: 0.2110273\ttotal: 3.94s\tremaining: 568ms\n",
      "874:\tlearn: 0.2109697\ttotal: 3.94s\tremaining: 563ms\n",
      "875:\tlearn: 0.2108353\ttotal: 3.94s\tremaining: 558ms\n",
      "876:\tlearn: 0.2107031\ttotal: 3.95s\tremaining: 554ms\n",
      "877:\tlearn: 0.2105142\ttotal: 3.95s\tremaining: 549ms\n",
      "878:\tlearn: 0.2104047\ttotal: 3.96s\tremaining: 545ms\n",
      "879:\tlearn: 0.2102195\ttotal: 3.96s\tremaining: 540ms\n",
      "880:\tlearn: 0.2101530\ttotal: 3.96s\tremaining: 536ms\n",
      "881:\tlearn: 0.2099882\ttotal: 3.97s\tremaining: 531ms\n",
      "882:\tlearn: 0.2098908\ttotal: 3.97s\tremaining: 527ms\n",
      "883:\tlearn: 0.2098067\ttotal: 3.98s\tremaining: 522ms\n",
      "884:\tlearn: 0.2096572\ttotal: 3.98s\tremaining: 518ms\n",
      "885:\tlearn: 0.2095932\ttotal: 3.99s\tremaining: 513ms\n",
      "886:\tlearn: 0.2094693\ttotal: 3.99s\tremaining: 509ms\n",
      "887:\tlearn: 0.2093943\ttotal: 4s\tremaining: 504ms\n",
      "888:\tlearn: 0.2092791\ttotal: 4s\tremaining: 499ms\n",
      "889:\tlearn: 0.2091392\ttotal: 4s\tremaining: 495ms\n",
      "890:\tlearn: 0.2090310\ttotal: 4.01s\tremaining: 490ms\n",
      "891:\tlearn: 0.2089150\ttotal: 4.01s\tremaining: 486ms\n",
      "892:\tlearn: 0.2088019\ttotal: 4.01s\tremaining: 481ms\n",
      "893:\tlearn: 0.2085865\ttotal: 4.02s\tremaining: 477ms\n",
      "894:\tlearn: 0.2084007\ttotal: 4.02s\tremaining: 472ms\n",
      "895:\tlearn: 0.2082580\ttotal: 4.03s\tremaining: 468ms\n",
      "896:\tlearn: 0.2081726\ttotal: 4.03s\tremaining: 463ms\n",
      "897:\tlearn: 0.2080739\ttotal: 4.04s\tremaining: 458ms\n",
      "898:\tlearn: 0.2078877\ttotal: 4.04s\tremaining: 454ms\n",
      "899:\tlearn: 0.2077660\ttotal: 4.04s\tremaining: 449ms\n",
      "900:\tlearn: 0.2076908\ttotal: 4.05s\tremaining: 445ms\n",
      "901:\tlearn: 0.2075520\ttotal: 4.05s\tremaining: 440ms\n",
      "902:\tlearn: 0.2074429\ttotal: 4.05s\tremaining: 436ms\n",
      "903:\tlearn: 0.2073275\ttotal: 4.06s\tremaining: 431ms\n",
      "904:\tlearn: 0.2072565\ttotal: 4.06s\tremaining: 427ms\n",
      "905:\tlearn: 0.2072243\ttotal: 4.07s\tremaining: 422ms\n",
      "906:\tlearn: 0.2071419\ttotal: 4.07s\tremaining: 417ms\n",
      "907:\tlearn: 0.2070646\ttotal: 4.08s\tremaining: 413ms\n",
      "908:\tlearn: 0.2069997\ttotal: 4.08s\tremaining: 408ms\n",
      "909:\tlearn: 0.2068887\ttotal: 4.08s\tremaining: 404ms\n",
      "910:\tlearn: 0.2067475\ttotal: 4.09s\tremaining: 399ms\n",
      "911:\tlearn: 0.2066754\ttotal: 4.09s\tremaining: 395ms\n",
      "912:\tlearn: 0.2066265\ttotal: 4.09s\tremaining: 390ms\n",
      "913:\tlearn: 0.2065779\ttotal: 4.1s\tremaining: 386ms\n",
      "914:\tlearn: 0.2064729\ttotal: 4.1s\tremaining: 381ms\n",
      "915:\tlearn: 0.2064245\ttotal: 4.11s\tremaining: 377ms\n",
      "916:\tlearn: 0.2062722\ttotal: 4.11s\tremaining: 372ms\n",
      "917:\tlearn: 0.2061466\ttotal: 4.11s\tremaining: 368ms\n",
      "918:\tlearn: 0.2060843\ttotal: 4.12s\tremaining: 363ms\n",
      "919:\tlearn: 0.2060140\ttotal: 4.12s\tremaining: 358ms\n",
      "920:\tlearn: 0.2058796\ttotal: 4.13s\tremaining: 354ms\n",
      "921:\tlearn: 0.2057469\ttotal: 4.13s\tremaining: 349ms\n",
      "922:\tlearn: 0.2056688\ttotal: 4.13s\tremaining: 345ms\n",
      "923:\tlearn: 0.2055358\ttotal: 4.14s\tremaining: 340ms\n",
      "924:\tlearn: 0.2053912\ttotal: 4.14s\tremaining: 336ms\n",
      "925:\tlearn: 0.2053135\ttotal: 4.15s\tremaining: 331ms\n",
      "926:\tlearn: 0.2051714\ttotal: 4.15s\tremaining: 327ms\n",
      "927:\tlearn: 0.2050293\ttotal: 4.15s\tremaining: 322ms\n",
      "928:\tlearn: 0.2049046\ttotal: 4.16s\tremaining: 318ms\n",
      "929:\tlearn: 0.2048615\ttotal: 4.16s\tremaining: 313ms\n",
      "930:\tlearn: 0.2047677\ttotal: 4.17s\tremaining: 309ms\n",
      "931:\tlearn: 0.2046387\ttotal: 4.17s\tremaining: 304ms\n",
      "932:\tlearn: 0.2045943\ttotal: 4.17s\tremaining: 300ms\n",
      "933:\tlearn: 0.2045642\ttotal: 4.18s\tremaining: 295ms\n",
      "934:\tlearn: 0.2044721\ttotal: 4.18s\tremaining: 291ms\n",
      "935:\tlearn: 0.2043407\ttotal: 4.18s\tremaining: 286ms\n",
      "936:\tlearn: 0.2043328\ttotal: 4.19s\tremaining: 282ms\n",
      "937:\tlearn: 0.2042062\ttotal: 4.19s\tremaining: 277ms\n",
      "938:\tlearn: 0.2040476\ttotal: 4.2s\tremaining: 273ms\n",
      "939:\tlearn: 0.2039190\ttotal: 4.2s\tremaining: 268ms\n",
      "940:\tlearn: 0.2038280\ttotal: 4.2s\tremaining: 264ms\n",
      "941:\tlearn: 0.2037090\ttotal: 4.21s\tremaining: 259ms\n",
      "942:\tlearn: 0.2035490\ttotal: 4.21s\tremaining: 255ms\n",
      "943:\tlearn: 0.2033838\ttotal: 4.21s\tremaining: 250ms\n",
      "944:\tlearn: 0.2032761\ttotal: 4.22s\tremaining: 246ms\n",
      "945:\tlearn: 0.2031769\ttotal: 4.22s\tremaining: 241ms\n",
      "946:\tlearn: 0.2030367\ttotal: 4.23s\tremaining: 237ms\n",
      "947:\tlearn: 0.2029258\ttotal: 4.23s\tremaining: 232ms\n",
      "948:\tlearn: 0.2028275\ttotal: 4.23s\tremaining: 228ms\n",
      "949:\tlearn: 0.2027745\ttotal: 4.24s\tremaining: 223ms\n",
      "950:\tlearn: 0.2026200\ttotal: 4.24s\tremaining: 219ms\n",
      "951:\tlearn: 0.2024675\ttotal: 4.25s\tremaining: 214ms\n",
      "952:\tlearn: 0.2023534\ttotal: 4.25s\tremaining: 210ms\n",
      "953:\tlearn: 0.2021834\ttotal: 4.25s\tremaining: 205ms\n",
      "954:\tlearn: 0.2020477\ttotal: 4.26s\tremaining: 201ms\n",
      "955:\tlearn: 0.2020191\ttotal: 4.26s\tremaining: 196ms\n",
      "956:\tlearn: 0.2019128\ttotal: 4.26s\tremaining: 192ms\n",
      "957:\tlearn: 0.2018325\ttotal: 4.27s\tremaining: 187ms\n",
      "958:\tlearn: 0.2017276\ttotal: 4.27s\tremaining: 183ms\n",
      "959:\tlearn: 0.2015863\ttotal: 4.28s\tremaining: 178ms\n",
      "960:\tlearn: 0.2014028\ttotal: 4.28s\tremaining: 174ms\n",
      "961:\tlearn: 0.2012804\ttotal: 4.28s\tremaining: 169ms\n",
      "962:\tlearn: 0.2012017\ttotal: 4.29s\tremaining: 165ms\n",
      "963:\tlearn: 0.2010611\ttotal: 4.29s\tremaining: 160ms\n",
      "964:\tlearn: 0.2009174\ttotal: 4.29s\tremaining: 156ms\n",
      "965:\tlearn: 0.2008075\ttotal: 4.3s\tremaining: 151ms\n",
      "966:\tlearn: 0.2007033\ttotal: 4.3s\tremaining: 147ms\n",
      "967:\tlearn: 0.2006488\ttotal: 4.31s\tremaining: 142ms\n",
      "968:\tlearn: 0.2005838\ttotal: 4.31s\tremaining: 138ms\n",
      "969:\tlearn: 0.2005288\ttotal: 4.32s\tremaining: 133ms\n",
      "970:\tlearn: 0.2004628\ttotal: 4.32s\tremaining: 129ms\n",
      "971:\tlearn: 0.2003973\ttotal: 4.32s\tremaining: 125ms\n",
      "972:\tlearn: 0.2002522\ttotal: 4.33s\tremaining: 120ms\n",
      "973:\tlearn: 0.2002186\ttotal: 4.33s\tremaining: 116ms\n",
      "974:\tlearn: 0.2001382\ttotal: 4.33s\tremaining: 111ms\n",
      "975:\tlearn: 0.2001224\ttotal: 4.34s\tremaining: 107ms\n",
      "976:\tlearn: 0.2000113\ttotal: 4.34s\tremaining: 102ms\n",
      "977:\tlearn: 0.1999204\ttotal: 4.35s\tremaining: 97.8ms\n",
      "978:\tlearn: 0.1996727\ttotal: 4.35s\tremaining: 93.3ms\n",
      "979:\tlearn: 0.1996305\ttotal: 4.36s\tremaining: 88.9ms\n",
      "980:\tlearn: 0.1995059\ttotal: 4.36s\tremaining: 84.4ms\n",
      "981:\tlearn: 0.1994090\ttotal: 4.36s\tremaining: 80ms\n",
      "982:\tlearn: 0.1992535\ttotal: 4.37s\tremaining: 75.5ms\n",
      "983:\tlearn: 0.1991832\ttotal: 4.37s\tremaining: 71.1ms\n",
      "984:\tlearn: 0.1990379\ttotal: 4.37s\tremaining: 66.6ms\n",
      "985:\tlearn: 0.1989528\ttotal: 4.38s\tremaining: 62.2ms\n",
      "986:\tlearn: 0.1988536\ttotal: 4.38s\tremaining: 57.7ms\n",
      "987:\tlearn: 0.1987289\ttotal: 4.39s\tremaining: 53.3ms\n",
      "988:\tlearn: 0.1986112\ttotal: 4.39s\tremaining: 48.8ms\n",
      "989:\tlearn: 0.1984768\ttotal: 4.39s\tremaining: 44.4ms\n",
      "990:\tlearn: 0.1983918\ttotal: 4.4s\tremaining: 39.9ms\n",
      "991:\tlearn: 0.1983274\ttotal: 4.4s\tremaining: 35.5ms\n",
      "992:\tlearn: 0.1982405\ttotal: 4.41s\tremaining: 31.1ms\n",
      "993:\tlearn: 0.1981183\ttotal: 4.41s\tremaining: 26.6ms\n",
      "994:\tlearn: 0.1979643\ttotal: 4.41s\tremaining: 22.2ms\n",
      "995:\tlearn: 0.1978358\ttotal: 4.42s\tremaining: 17.7ms\n",
      "996:\tlearn: 0.1977830\ttotal: 4.42s\tremaining: 13.3ms\n",
      "997:\tlearn: 0.1976995\ttotal: 4.42s\tremaining: 8.87ms\n",
      "998:\tlearn: 0.1975967\ttotal: 4.43s\tremaining: 4.43ms\n",
      "999:\tlearn: 0.1975680\ttotal: 4.43s\tremaining: 0us\n"
     ]
    },
    {
     "data": {
      "text/plain": "<catboost.core.CatBoostClassifier at 0x1ceead1c850>"
     },
     "execution_count": 26,
     "metadata": {},
     "output_type": "execute_result"
    }
   ],
   "source": [
    "cat_clf = CatBoostClassifier()\n",
    "cat_clf.fit(X_train, Y_train)"
   ],
   "metadata": {
    "collapsed": false,
    "pycharm": {
     "name": "#%%\n"
    }
   }
  },
  {
   "cell_type": "code",
   "execution_count": 28,
   "outputs": [
    {
     "data": {
      "text/plain": "0.8610343398269936"
     },
     "execution_count": 28,
     "metadata": {},
     "output_type": "execute_result"
    }
   ],
   "source": [
    "cat_pred = cat_clf.predict_proba(X_test)[:, 1]\n",
    "roc_auc_score(Y_test, cat_pred)"
   ],
   "metadata": {
    "collapsed": false,
    "pycharm": {
     "name": "#%%\n"
    }
   }
  },
  {
   "cell_type": "code",
   "execution_count": 31,
   "outputs": [
    {
     "name": "stderr",
     "output_type": "stream",
     "text": [
      "c:\\users\\romai\\documents\\projets\\lib\\site-packages\\sklearn\\utils\\validation.py:1675: FutureWarning: Feature names only support names that are all strings. Got feature names with dtypes: ['str', 'str_']. An error will be raised in 1.2.\n",
      "  warnings.warn(\n"
     ]
    },
    {
     "data": {
      "text/plain": "RandomForestClassifier(n_estimators=300)"
     },
     "execution_count": 31,
     "metadata": {},
     "output_type": "execute_result"
    }
   ],
   "source": [
    "rnd_clf = RandomForestClassifier(n_estimators=300)\n",
    "rnd_clf.fit(X_train, np.ravel(Y_train))"
   ],
   "metadata": {
    "collapsed": false,
    "pycharm": {
     "name": "#%%\n"
    }
   }
  },
  {
   "cell_type": "code",
   "execution_count": 33,
   "outputs": [
    {
     "name": "stderr",
     "output_type": "stream",
     "text": [
      "c:\\users\\romai\\documents\\projets\\lib\\site-packages\\sklearn\\utils\\validation.py:1675: FutureWarning: Feature names only support names that are all strings. Got feature names with dtypes: ['str', 'str_']. An error will be raised in 1.2.\n",
      "  warnings.warn(\n"
     ]
    },
    {
     "data": {
      "text/plain": "0.8552646899318992"
     },
     "execution_count": 33,
     "metadata": {},
     "output_type": "execute_result"
    }
   ],
   "source": [
    "rnd_clf_pred = rnd_clf.predict_proba(X_test)[:, 1]\n",
    "roc_auc_score(Y_test, rnd_clf_pred)"
   ],
   "metadata": {
    "collapsed": false,
    "pycharm": {
     "name": "#%%\n"
    }
   }
  },
  {
   "cell_type": "code",
   "execution_count": 35,
   "outputs": [
    {
     "name": "stderr",
     "output_type": "stream",
     "text": [
      "c:\\users\\romai\\documents\\projets\\lib\\site-packages\\xgboost\\sklearn.py:1224: UserWarning: The use of label encoder in XGBClassifier is deprecated and will be removed in a future release. To remove this warning, do the following: 1) Pass option use_label_encoder=False when constructing XGBClassifier object; and 2) Encode your labels (y) as integers starting with 0, i.e. 0, 1, 2, ..., [num_class - 1].\n",
      "  warnings.warn(label_encoder_deprecation_msg, UserWarning)\n"
     ]
    },
    {
     "ename": "ValueError",
     "evalue": "DataFrame.dtypes for data must be int, float, bool or category.  When\ncategorical type is supplied, DMatrix parameter `enable_categorical` must\nbe set to `True`. Invalid columns:h1n1_concern, h1n1_knowledge, behavioral_antiviral_meds, behavioral_avoidance, behavioral_face_mask, behavioral_wash_hands, behavioral_large_gatherings, behavioral_outside_home, behavioral_touch_face, doctor_recc_h1n1, doctor_recc_seasonal, chronic_med_condition, child_under_6_months, health_worker, health_insurance, opinion_h1n1_vacc_effective, opinion_h1n1_risk, opinion_h1n1_sick_from_vacc, opinion_seas_vacc_effective, opinion_seas_risk, opinion_seas_sick_from_vacc, household_adults, household_children",
     "output_type": "error",
     "traceback": [
      "\u001B[1;31m---------------------------------------------------------------------------\u001B[0m",
      "\u001B[1;31mValueError\u001B[0m                                Traceback (most recent call last)",
      "\u001B[1;32m~\\AppData\\Local\\Temp/ipykernel_13028/1539674711.py\u001B[0m in \u001B[0;36m<module>\u001B[1;34m\u001B[0m\n\u001B[0;32m      1\u001B[0m \u001B[0mxgb_clf\u001B[0m \u001B[1;33m=\u001B[0m \u001B[0mXGBClassifier\u001B[0m\u001B[1;33m(\u001B[0m\u001B[1;33m)\u001B[0m\u001B[1;33m\u001B[0m\u001B[1;33m\u001B[0m\u001B[0m\n\u001B[1;32m----> 2\u001B[1;33m \u001B[0mxgb_clf\u001B[0m\u001B[1;33m.\u001B[0m\u001B[0mfit\u001B[0m\u001B[1;33m(\u001B[0m\u001B[0mX_train\u001B[0m\u001B[1;33m,\u001B[0m \u001B[0mnp\u001B[0m\u001B[1;33m.\u001B[0m\u001B[0mravel\u001B[0m\u001B[1;33m(\u001B[0m\u001B[0mY_train\u001B[0m\u001B[1;33m)\u001B[0m\u001B[1;33m)\u001B[0m\u001B[1;33m\u001B[0m\u001B[1;33m\u001B[0m\u001B[0m\n\u001B[0m",
      "\u001B[1;32mc:\\users\\romai\\documents\\projets\\lib\\site-packages\\xgboost\\core.py\u001B[0m in \u001B[0;36minner_f\u001B[1;34m(*args, **kwargs)\u001B[0m\n\u001B[0;32m    504\u001B[0m         \u001B[1;32mfor\u001B[0m \u001B[0mk\u001B[0m\u001B[1;33m,\u001B[0m \u001B[0marg\u001B[0m \u001B[1;32min\u001B[0m \u001B[0mzip\u001B[0m\u001B[1;33m(\u001B[0m\u001B[0msig\u001B[0m\u001B[1;33m.\u001B[0m\u001B[0mparameters\u001B[0m\u001B[1;33m,\u001B[0m \u001B[0margs\u001B[0m\u001B[1;33m)\u001B[0m\u001B[1;33m:\u001B[0m\u001B[1;33m\u001B[0m\u001B[1;33m\u001B[0m\u001B[0m\n\u001B[0;32m    505\u001B[0m             \u001B[0mkwargs\u001B[0m\u001B[1;33m[\u001B[0m\u001B[0mk\u001B[0m\u001B[1;33m]\u001B[0m \u001B[1;33m=\u001B[0m \u001B[0marg\u001B[0m\u001B[1;33m\u001B[0m\u001B[1;33m\u001B[0m\u001B[0m\n\u001B[1;32m--> 506\u001B[1;33m         \u001B[1;32mreturn\u001B[0m \u001B[0mf\u001B[0m\u001B[1;33m(\u001B[0m\u001B[1;33m**\u001B[0m\u001B[0mkwargs\u001B[0m\u001B[1;33m)\u001B[0m\u001B[1;33m\u001B[0m\u001B[1;33m\u001B[0m\u001B[0m\n\u001B[0m\u001B[0;32m    507\u001B[0m \u001B[1;33m\u001B[0m\u001B[0m\n\u001B[0;32m    508\u001B[0m     \u001B[1;32mreturn\u001B[0m \u001B[0minner_f\u001B[0m\u001B[1;33m\u001B[0m\u001B[1;33m\u001B[0m\u001B[0m\n",
      "\u001B[1;32mc:\\users\\romai\\documents\\projets\\lib\\site-packages\\xgboost\\sklearn.py\u001B[0m in \u001B[0;36mfit\u001B[1;34m(self, X, y, sample_weight, base_margin, eval_set, eval_metric, early_stopping_rounds, verbose, xgb_model, sample_weight_eval_set, base_margin_eval_set, feature_weights, callbacks)\u001B[0m\n\u001B[0;32m   1229\u001B[0m \u001B[1;33m\u001B[0m\u001B[0m\n\u001B[0;32m   1230\u001B[0m         \u001B[0mmodel\u001B[0m\u001B[1;33m,\u001B[0m \u001B[0mfeval\u001B[0m\u001B[1;33m,\u001B[0m \u001B[0mparams\u001B[0m \u001B[1;33m=\u001B[0m \u001B[0mself\u001B[0m\u001B[1;33m.\u001B[0m\u001B[0m_configure_fit\u001B[0m\u001B[1;33m(\u001B[0m\u001B[0mxgb_model\u001B[0m\u001B[1;33m,\u001B[0m \u001B[0meval_metric\u001B[0m\u001B[1;33m,\u001B[0m \u001B[0mparams\u001B[0m\u001B[1;33m)\u001B[0m\u001B[1;33m\u001B[0m\u001B[1;33m\u001B[0m\u001B[0m\n\u001B[1;32m-> 1231\u001B[1;33m         train_dmatrix, evals = _wrap_evaluation_matrices(\n\u001B[0m\u001B[0;32m   1232\u001B[0m             \u001B[0mmissing\u001B[0m\u001B[1;33m=\u001B[0m\u001B[0mself\u001B[0m\u001B[1;33m.\u001B[0m\u001B[0mmissing\u001B[0m\u001B[1;33m,\u001B[0m\u001B[1;33m\u001B[0m\u001B[1;33m\u001B[0m\u001B[0m\n\u001B[0;32m   1233\u001B[0m             \u001B[0mX\u001B[0m\u001B[1;33m=\u001B[0m\u001B[0mX\u001B[0m\u001B[1;33m,\u001B[0m\u001B[1;33m\u001B[0m\u001B[1;33m\u001B[0m\u001B[0m\n",
      "\u001B[1;32mc:\\users\\romai\\documents\\projets\\lib\\site-packages\\xgboost\\sklearn.py\u001B[0m in \u001B[0;36m_wrap_evaluation_matrices\u001B[1;34m(missing, X, y, group, qid, sample_weight, base_margin, feature_weights, eval_set, sample_weight_eval_set, base_margin_eval_set, eval_group, eval_qid, create_dmatrix, enable_categorical, label_transform)\u001B[0m\n\u001B[0;32m    284\u001B[0m \u001B[1;33m\u001B[0m\u001B[0m\n\u001B[0;32m    285\u001B[0m     \"\"\"\n\u001B[1;32m--> 286\u001B[1;33m     train_dmatrix = create_dmatrix(\n\u001B[0m\u001B[0;32m    287\u001B[0m         \u001B[0mdata\u001B[0m\u001B[1;33m=\u001B[0m\u001B[0mX\u001B[0m\u001B[1;33m,\u001B[0m\u001B[1;33m\u001B[0m\u001B[1;33m\u001B[0m\u001B[0m\n\u001B[0;32m    288\u001B[0m         \u001B[0mlabel\u001B[0m\u001B[1;33m=\u001B[0m\u001B[0mlabel_transform\u001B[0m\u001B[1;33m(\u001B[0m\u001B[0my\u001B[0m\u001B[1;33m)\u001B[0m\u001B[1;33m,\u001B[0m\u001B[1;33m\u001B[0m\u001B[1;33m\u001B[0m\u001B[0m\n",
      "\u001B[1;32mc:\\users\\romai\\documents\\projets\\lib\\site-packages\\xgboost\\sklearn.py\u001B[0m in \u001B[0;36m<lambda>\u001B[1;34m(**kwargs)\u001B[0m\n\u001B[0;32m   1243\u001B[0m             \u001B[0meval_group\u001B[0m\u001B[1;33m=\u001B[0m\u001B[1;32mNone\u001B[0m\u001B[1;33m,\u001B[0m\u001B[1;33m\u001B[0m\u001B[1;33m\u001B[0m\u001B[0m\n\u001B[0;32m   1244\u001B[0m             \u001B[0meval_qid\u001B[0m\u001B[1;33m=\u001B[0m\u001B[1;32mNone\u001B[0m\u001B[1;33m,\u001B[0m\u001B[1;33m\u001B[0m\u001B[1;33m\u001B[0m\u001B[0m\n\u001B[1;32m-> 1245\u001B[1;33m             \u001B[0mcreate_dmatrix\u001B[0m\u001B[1;33m=\u001B[0m\u001B[1;32mlambda\u001B[0m \u001B[1;33m**\u001B[0m\u001B[0mkwargs\u001B[0m\u001B[1;33m:\u001B[0m \u001B[0mDMatrix\u001B[0m\u001B[1;33m(\u001B[0m\u001B[0mnthread\u001B[0m\u001B[1;33m=\u001B[0m\u001B[0mself\u001B[0m\u001B[1;33m.\u001B[0m\u001B[0mn_jobs\u001B[0m\u001B[1;33m,\u001B[0m \u001B[1;33m**\u001B[0m\u001B[0mkwargs\u001B[0m\u001B[1;33m)\u001B[0m\u001B[1;33m,\u001B[0m\u001B[1;33m\u001B[0m\u001B[1;33m\u001B[0m\u001B[0m\n\u001B[0m\u001B[0;32m   1246\u001B[0m             \u001B[0menable_categorical\u001B[0m\u001B[1;33m=\u001B[0m\u001B[0mself\u001B[0m\u001B[1;33m.\u001B[0m\u001B[0menable_categorical\u001B[0m\u001B[1;33m,\u001B[0m\u001B[1;33m\u001B[0m\u001B[1;33m\u001B[0m\u001B[0m\n\u001B[0;32m   1247\u001B[0m             \u001B[0mlabel_transform\u001B[0m\u001B[1;33m=\u001B[0m\u001B[0mlabel_transform\u001B[0m\u001B[1;33m,\u001B[0m\u001B[1;33m\u001B[0m\u001B[1;33m\u001B[0m\u001B[0m\n",
      "\u001B[1;32mc:\\users\\romai\\documents\\projets\\lib\\site-packages\\xgboost\\core.py\u001B[0m in \u001B[0;36minner_f\u001B[1;34m(*args, **kwargs)\u001B[0m\n\u001B[0;32m    504\u001B[0m         \u001B[1;32mfor\u001B[0m \u001B[0mk\u001B[0m\u001B[1;33m,\u001B[0m \u001B[0marg\u001B[0m \u001B[1;32min\u001B[0m \u001B[0mzip\u001B[0m\u001B[1;33m(\u001B[0m\u001B[0msig\u001B[0m\u001B[1;33m.\u001B[0m\u001B[0mparameters\u001B[0m\u001B[1;33m,\u001B[0m \u001B[0margs\u001B[0m\u001B[1;33m)\u001B[0m\u001B[1;33m:\u001B[0m\u001B[1;33m\u001B[0m\u001B[1;33m\u001B[0m\u001B[0m\n\u001B[0;32m    505\u001B[0m             \u001B[0mkwargs\u001B[0m\u001B[1;33m[\u001B[0m\u001B[0mk\u001B[0m\u001B[1;33m]\u001B[0m \u001B[1;33m=\u001B[0m \u001B[0marg\u001B[0m\u001B[1;33m\u001B[0m\u001B[1;33m\u001B[0m\u001B[0m\n\u001B[1;32m--> 506\u001B[1;33m         \u001B[1;32mreturn\u001B[0m \u001B[0mf\u001B[0m\u001B[1;33m(\u001B[0m\u001B[1;33m**\u001B[0m\u001B[0mkwargs\u001B[0m\u001B[1;33m)\u001B[0m\u001B[1;33m\u001B[0m\u001B[1;33m\u001B[0m\u001B[0m\n\u001B[0m\u001B[0;32m    507\u001B[0m \u001B[1;33m\u001B[0m\u001B[0m\n\u001B[0;32m    508\u001B[0m     \u001B[1;32mreturn\u001B[0m \u001B[0minner_f\u001B[0m\u001B[1;33m\u001B[0m\u001B[1;33m\u001B[0m\u001B[0m\n",
      "\u001B[1;32mc:\\users\\romai\\documents\\projets\\lib\\site-packages\\xgboost\\core.py\u001B[0m in \u001B[0;36m__init__\u001B[1;34m(self, data, label, weight, base_margin, missing, silent, feature_names, feature_types, nthread, group, qid, label_lower_bound, label_upper_bound, feature_weights, enable_categorical)\u001B[0m\n\u001B[0;32m    614\u001B[0m             \u001B[1;32mreturn\u001B[0m\u001B[1;33m\u001B[0m\u001B[1;33m\u001B[0m\u001B[0m\n\u001B[0;32m    615\u001B[0m \u001B[1;33m\u001B[0m\u001B[0m\n\u001B[1;32m--> 616\u001B[1;33m         handle, feature_names, feature_types = dispatch_data_backend(\n\u001B[0m\u001B[0;32m    617\u001B[0m             \u001B[0mdata\u001B[0m\u001B[1;33m,\u001B[0m\u001B[1;33m\u001B[0m\u001B[1;33m\u001B[0m\u001B[0m\n\u001B[0;32m    618\u001B[0m             \u001B[0mmissing\u001B[0m\u001B[1;33m=\u001B[0m\u001B[0mself\u001B[0m\u001B[1;33m.\u001B[0m\u001B[0mmissing\u001B[0m\u001B[1;33m,\u001B[0m\u001B[1;33m\u001B[0m\u001B[1;33m\u001B[0m\u001B[0m\n",
      "\u001B[1;32mc:\\users\\romai\\documents\\projets\\lib\\site-packages\\xgboost\\data.py\u001B[0m in \u001B[0;36mdispatch_data_backend\u001B[1;34m(data, missing, threads, feature_names, feature_types, enable_categorical)\u001B[0m\n\u001B[0;32m    770\u001B[0m         \u001B[1;32mreturn\u001B[0m \u001B[0m_from_tuple\u001B[0m\u001B[1;33m(\u001B[0m\u001B[0mdata\u001B[0m\u001B[1;33m,\u001B[0m \u001B[0mmissing\u001B[0m\u001B[1;33m,\u001B[0m \u001B[0mthreads\u001B[0m\u001B[1;33m,\u001B[0m \u001B[0mfeature_names\u001B[0m\u001B[1;33m,\u001B[0m \u001B[0mfeature_types\u001B[0m\u001B[1;33m)\u001B[0m\u001B[1;33m\u001B[0m\u001B[1;33m\u001B[0m\u001B[0m\n\u001B[0;32m    771\u001B[0m     \u001B[1;32mif\u001B[0m \u001B[0m_is_pandas_df\u001B[0m\u001B[1;33m(\u001B[0m\u001B[0mdata\u001B[0m\u001B[1;33m)\u001B[0m\u001B[1;33m:\u001B[0m\u001B[1;33m\u001B[0m\u001B[1;33m\u001B[0m\u001B[0m\n\u001B[1;32m--> 772\u001B[1;33m         return _from_pandas_df(data, enable_categorical, missing, threads,\n\u001B[0m\u001B[0;32m    773\u001B[0m                                feature_names, feature_types)\n\u001B[0;32m    774\u001B[0m     \u001B[1;32mif\u001B[0m \u001B[0m_is_pandas_series\u001B[0m\u001B[1;33m(\u001B[0m\u001B[0mdata\u001B[0m\u001B[1;33m)\u001B[0m\u001B[1;33m:\u001B[0m\u001B[1;33m\u001B[0m\u001B[1;33m\u001B[0m\u001B[0m\n",
      "\u001B[1;32mc:\\users\\romai\\documents\\projets\\lib\\site-packages\\xgboost\\data.py\u001B[0m in \u001B[0;36m_from_pandas_df\u001B[1;34m(data, enable_categorical, missing, nthread, feature_names, feature_types)\u001B[0m\n\u001B[0;32m    310\u001B[0m     \u001B[0mfeature_types\u001B[0m\u001B[1;33m:\u001B[0m \u001B[0mOptional\u001B[0m\u001B[1;33m[\u001B[0m\u001B[0mList\u001B[0m\u001B[1;33m[\u001B[0m\u001B[0mstr\u001B[0m\u001B[1;33m]\u001B[0m\u001B[1;33m]\u001B[0m\u001B[1;33m,\u001B[0m\u001B[1;33m\u001B[0m\u001B[1;33m\u001B[0m\u001B[0m\n\u001B[0;32m    311\u001B[0m ):\n\u001B[1;32m--> 312\u001B[1;33m     data, feature_names, feature_types = _transform_pandas_df(\n\u001B[0m\u001B[0;32m    313\u001B[0m         data, enable_categorical, feature_names, feature_types)\n\u001B[0;32m    314\u001B[0m     return _from_numpy_array(data, missing, nthread, feature_names,\n",
      "\u001B[1;32mc:\\users\\romai\\documents\\projets\\lib\\site-packages\\xgboost\\data.py\u001B[0m in \u001B[0;36m_transform_pandas_df\u001B[1;34m(data, enable_categorical, feature_names, feature_types, meta, meta_type)\u001B[0m\n\u001B[0;32m    254\u001B[0m         \u001B[1;32mfor\u001B[0m \u001B[0mdtype\u001B[0m \u001B[1;32min\u001B[0m \u001B[0mdata\u001B[0m\u001B[1;33m.\u001B[0m\u001B[0mdtypes\u001B[0m\u001B[1;33m\u001B[0m\u001B[1;33m\u001B[0m\u001B[0m\n\u001B[0;32m    255\u001B[0m     ):\n\u001B[1;32m--> 256\u001B[1;33m         \u001B[0m_invalid_dataframe_dtype\u001B[0m\u001B[1;33m(\u001B[0m\u001B[0mdata\u001B[0m\u001B[1;33m)\u001B[0m\u001B[1;33m\u001B[0m\u001B[1;33m\u001B[0m\u001B[0m\n\u001B[0m\u001B[0;32m    257\u001B[0m \u001B[1;33m\u001B[0m\u001B[0m\n\u001B[0;32m    258\u001B[0m     \u001B[1;31m# handle feature names\u001B[0m\u001B[1;33m\u001B[0m\u001B[1;33m\u001B[0m\u001B[0m\n",
      "\u001B[1;32mc:\\users\\romai\\documents\\projets\\lib\\site-packages\\xgboost\\data.py\u001B[0m in \u001B[0;36m_invalid_dataframe_dtype\u001B[1;34m(data)\u001B[0m\n\u001B[0;32m    234\u001B[0m \u001B[0mcategorical\u001B[0m \u001B[0mtype\u001B[0m \u001B[1;32mis\u001B[0m \u001B[0msupplied\u001B[0m\u001B[1;33m,\u001B[0m \u001B[0mDMatrix\u001B[0m \u001B[0mparameter\u001B[0m\u001B[0;31m \u001B[0m\u001B[0;31m`\u001B[0m\u001B[0menable_categorical\u001B[0m\u001B[0;31m`\u001B[0m \u001B[0mmust\u001B[0m\u001B[1;33m\u001B[0m\u001B[1;33m\u001B[0m\u001B[0m\n\u001B[0;32m    235\u001B[0m be set to `True`.\"\"\" + err\n\u001B[1;32m--> 236\u001B[1;33m     \u001B[1;32mraise\u001B[0m \u001B[0mValueError\u001B[0m\u001B[1;33m(\u001B[0m\u001B[0mmsg\u001B[0m\u001B[1;33m)\u001B[0m\u001B[1;33m\u001B[0m\u001B[1;33m\u001B[0m\u001B[0m\n\u001B[0m\u001B[0;32m    237\u001B[0m \u001B[1;33m\u001B[0m\u001B[0m\n\u001B[0;32m    238\u001B[0m \u001B[1;33m\u001B[0m\u001B[0m\n",
      "\u001B[1;31mValueError\u001B[0m: DataFrame.dtypes for data must be int, float, bool or category.  When\ncategorical type is supplied, DMatrix parameter `enable_categorical` must\nbe set to `True`. Invalid columns:h1n1_concern, h1n1_knowledge, behavioral_antiviral_meds, behavioral_avoidance, behavioral_face_mask, behavioral_wash_hands, behavioral_large_gatherings, behavioral_outside_home, behavioral_touch_face, doctor_recc_h1n1, doctor_recc_seasonal, chronic_med_condition, child_under_6_months, health_worker, health_insurance, opinion_h1n1_vacc_effective, opinion_h1n1_risk, opinion_h1n1_sick_from_vacc, opinion_seas_vacc_effective, opinion_seas_risk, opinion_seas_sick_from_vacc, household_adults, household_children"
     ]
    }
   ],
   "source": [
    "xgb_clf = XGBClassifier()\n",
    "xgb_clf.fit(X_train, np.ravel(Y_train))"
   ],
   "metadata": {
    "collapsed": false,
    "pycharm": {
     "name": "#%%\n"
    }
   }
  },
  {
   "cell_type": "code",
   "execution_count": null,
   "outputs": [],
   "source": [],
   "metadata": {
    "collapsed": false,
    "pycharm": {
     "name": "#%%\n"
    }
   }
  }
 ],
 "metadata": {
  "kernelspec": {
   "display_name": "Python 3",
   "language": "python",
   "name": "python3"
  },
  "language_info": {
   "codemirror_mode": {
    "name": "ipython",
    "version": 2
   },
   "file_extension": ".py",
   "mimetype": "text/x-python",
   "name": "python",
   "nbconvert_exporter": "python",
   "pygments_lexer": "ipython2",
   "version": "2.7.6"
  }
 },
 "nbformat": 4,
 "nbformat_minor": 0
}