{
 "cells": [
  {
   "cell_type": "markdown",
   "metadata": {},
   "source": [
    "# H1N1 - Flu Shot Learning"
   ]
  },
  {
   "cell_type": "markdown",
   "metadata": {},
   "source": [
    "Imports\n",
    "----------"
   ]
  },
  {
   "cell_type": "markdown",
   "metadata": {},
   "source": [
    "Load Data\n",
    "------------"
   ]
  },
  {
   "cell_type": "code",
   "execution_count": 3,
   "metadata": {},
   "outputs": [],
   "source": [
    "import numpy as np\n",
    "import pandas as pd\n",
    "import matplotlib.pyplot as plt\n",
    "import seaborn as sns"
   ]
  },
  {
   "cell_type": "code",
   "execution_count": 4,
   "metadata": {},
   "outputs": [
    {
     "data": {
      "text/html": [
       "<div>\n",
       "<style scoped>\n",
       "    .dataframe tbody tr th:only-of-type {\n",
       "        vertical-align: middle;\n",
       "    }\n",
       "\n",
       "    .dataframe tbody tr th {\n",
       "        vertical-align: top;\n",
       "    }\n",
       "\n",
       "    .dataframe thead th {\n",
       "        text-align: right;\n",
       "    }\n",
       "</style>\n",
       "<table border=\"1\" class=\"dataframe\">\n",
       "  <thead>\n",
       "    <tr style=\"text-align: right;\">\n",
       "      <th></th>\n",
       "      <th>h1n1_concern</th>\n",
       "      <th>h1n1_knowledge</th>\n",
       "      <th>behavioral_antiviral_meds</th>\n",
       "      <th>behavioral_avoidance</th>\n",
       "      <th>behavioral_face_mask</th>\n",
       "      <th>behavioral_wash_hands</th>\n",
       "      <th>behavioral_large_gatherings</th>\n",
       "      <th>behavioral_outside_home</th>\n",
       "      <th>behavioral_touch_face</th>\n",
       "      <th>doctor_recc_h1n1</th>\n",
       "      <th>...</th>\n",
       "      <th>rent_or_own</th>\n",
       "      <th>employment_status</th>\n",
       "      <th>hhs_geo_region</th>\n",
       "      <th>census_msa</th>\n",
       "      <th>household_adults</th>\n",
       "      <th>household_children</th>\n",
       "      <th>employment_industry</th>\n",
       "      <th>employment_occupation</th>\n",
       "      <th>h1n1_vaccine</th>\n",
       "      <th>seasonal_vaccine</th>\n",
       "    </tr>\n",
       "  </thead>\n",
       "  <tbody>\n",
       "    <tr>\n",
       "      <th>count</th>\n",
       "      <td>26707</td>\n",
       "      <td>26707</td>\n",
       "      <td>26707</td>\n",
       "      <td>26707</td>\n",
       "      <td>26707</td>\n",
       "      <td>26707</td>\n",
       "      <td>26707</td>\n",
       "      <td>26707</td>\n",
       "      <td>26707</td>\n",
       "      <td>26707</td>\n",
       "      <td>...</td>\n",
       "      <td>26707</td>\n",
       "      <td>26707</td>\n",
       "      <td>26707</td>\n",
       "      <td>26707</td>\n",
       "      <td>26707</td>\n",
       "      <td>26707</td>\n",
       "      <td>26707</td>\n",
       "      <td>26707</td>\n",
       "      <td>26707</td>\n",
       "      <td>26707</td>\n",
       "    </tr>\n",
       "    <tr>\n",
       "      <th>unique</th>\n",
       "      <td>2</td>\n",
       "      <td>2</td>\n",
       "      <td>2</td>\n",
       "      <td>2</td>\n",
       "      <td>2</td>\n",
       "      <td>2</td>\n",
       "      <td>2</td>\n",
       "      <td>2</td>\n",
       "      <td>2</td>\n",
       "      <td>2</td>\n",
       "      <td>...</td>\n",
       "      <td>2</td>\n",
       "      <td>2</td>\n",
       "      <td>1</td>\n",
       "      <td>1</td>\n",
       "      <td>2</td>\n",
       "      <td>2</td>\n",
       "      <td>2</td>\n",
       "      <td>2</td>\n",
       "      <td>1</td>\n",
       "      <td>1</td>\n",
       "    </tr>\n",
       "    <tr>\n",
       "      <th>top</th>\n",
       "      <td>False</td>\n",
       "      <td>False</td>\n",
       "      <td>False</td>\n",
       "      <td>False</td>\n",
       "      <td>False</td>\n",
       "      <td>False</td>\n",
       "      <td>False</td>\n",
       "      <td>False</td>\n",
       "      <td>False</td>\n",
       "      <td>False</td>\n",
       "      <td>...</td>\n",
       "      <td>False</td>\n",
       "      <td>False</td>\n",
       "      <td>False</td>\n",
       "      <td>False</td>\n",
       "      <td>False</td>\n",
       "      <td>False</td>\n",
       "      <td>False</td>\n",
       "      <td>True</td>\n",
       "      <td>False</td>\n",
       "      <td>False</td>\n",
       "    </tr>\n",
       "    <tr>\n",
       "      <th>freq</th>\n",
       "      <td>26615</td>\n",
       "      <td>26591</td>\n",
       "      <td>26636</td>\n",
       "      <td>26499</td>\n",
       "      <td>26688</td>\n",
       "      <td>26665</td>\n",
       "      <td>26620</td>\n",
       "      <td>26625</td>\n",
       "      <td>26579</td>\n",
       "      <td>24547</td>\n",
       "      <td>...</td>\n",
       "      <td>24665</td>\n",
       "      <td>25244</td>\n",
       "      <td>26707</td>\n",
       "      <td>26707</td>\n",
       "      <td>26458</td>\n",
       "      <td>26458</td>\n",
       "      <td>13377</td>\n",
       "      <td>13470</td>\n",
       "      <td>26707</td>\n",
       "      <td>26707</td>\n",
       "    </tr>\n",
       "  </tbody>\n",
       "</table>\n",
       "<p>4 rows × 37 columns</p>\n",
       "</div>"
      ],
      "text/plain": [
       "       h1n1_concern h1n1_knowledge behavioral_antiviral_meds  \\\n",
       "count         26707          26707                     26707   \n",
       "unique            2              2                         2   \n",
       "top           False          False                     False   \n",
       "freq          26615          26591                     26636   \n",
       "\n",
       "       behavioral_avoidance behavioral_face_mask behavioral_wash_hands  \\\n",
       "count                 26707                26707                 26707   \n",
       "unique                    2                    2                     2   \n",
       "top                   False                False                 False   \n",
       "freq                  26499                26688                 26665   \n",
       "\n",
       "       behavioral_large_gatherings behavioral_outside_home  \\\n",
       "count                        26707                   26707   \n",
       "unique                           2                       2   \n",
       "top                          False                   False   \n",
       "freq                         26620                   26625   \n",
       "\n",
       "       behavioral_touch_face doctor_recc_h1n1  ... rent_or_own  \\\n",
       "count                  26707            26707  ...       26707   \n",
       "unique                     2                2  ...           2   \n",
       "top                    False            False  ...       False   \n",
       "freq                   26579            24547  ...       24665   \n",
       "\n",
       "       employment_status hhs_geo_region census_msa household_adults  \\\n",
       "count              26707          26707      26707            26707   \n",
       "unique                 2              1          1                2   \n",
       "top                False          False      False            False   \n",
       "freq               25244          26707      26707            26458   \n",
       "\n",
       "       household_children employment_industry employment_occupation  \\\n",
       "count               26707               26707                 26707   \n",
       "unique                  2                   2                     2   \n",
       "top                 False               False                  True   \n",
       "freq                26458               13377                 13470   \n",
       "\n",
       "       h1n1_vaccine seasonal_vaccine  \n",
       "count         26707            26707  \n",
       "unique            1                1  \n",
       "top           False            False  \n",
       "freq          26707            26707  \n",
       "\n",
       "[4 rows x 37 columns]"
      ]
     },
     "execution_count": 4,
     "metadata": {},
     "output_type": "execute_result"
    }
   ],
   "source": [
    "FEATURES_TRAINING_PATH = \"training_set_features.csv\"\n",
    "LABELS_TRAINING_PATH = \"training_set_labels.csv\"\n",
    "\n",
    "features = pd.read_csv(FEATURES_TRAINING_PATH, sep=\",\", header=0)\n",
    "labels = pd.read_csv(LABELS_TRAINING_PATH, sep=\",\", header=0)\n",
    "data = pd.merge(features, labels, on=\"respondent_id\")\n",
    "data.drop(\"respondent_id\", axis=1, inplace=True)\n",
    "data.isna().describe()"
   ]
  },
  {
   "cell_type": "markdown",
   "metadata": {},
   "source": [
    "# Exploration des données"
   ]
  },
  {
   "cell_type": "code",
   "execution_count": 5,
   "metadata": {},
   "outputs": [
    {
     "name": "stdout",
     "output_type": "stream",
     "text": [
      "<class 'pandas.core.frame.DataFrame'>\n",
      "Int64Index: 26707 entries, 0 to 26706\n",
      "Data columns (total 37 columns):\n",
      " #   Column                       Non-Null Count  Dtype  \n",
      "---  ------                       --------------  -----  \n",
      " 0   h1n1_concern                 26615 non-null  float64\n",
      " 1   h1n1_knowledge               26591 non-null  float64\n",
      " 2   behavioral_antiviral_meds    26636 non-null  float64\n",
      " 3   behavioral_avoidance         26499 non-null  float64\n",
      " 4   behavioral_face_mask         26688 non-null  float64\n",
      " 5   behavioral_wash_hands        26665 non-null  float64\n",
      " 6   behavioral_large_gatherings  26620 non-null  float64\n",
      " 7   behavioral_outside_home      26625 non-null  float64\n",
      " 8   behavioral_touch_face        26579 non-null  float64\n",
      " 9   doctor_recc_h1n1             24547 non-null  float64\n",
      " 10  doctor_recc_seasonal         24547 non-null  float64\n",
      " 11  chronic_med_condition        25736 non-null  float64\n",
      " 12  child_under_6_months         25887 non-null  float64\n",
      " 13  health_worker                25903 non-null  float64\n",
      " 14  health_insurance             14433 non-null  float64\n",
      " 15  opinion_h1n1_vacc_effective  26316 non-null  float64\n",
      " 16  opinion_h1n1_risk            26319 non-null  float64\n",
      " 17  opinion_h1n1_sick_from_vacc  26312 non-null  float64\n",
      " 18  opinion_seas_vacc_effective  26245 non-null  float64\n",
      " 19  opinion_seas_risk            26193 non-null  float64\n",
      " 20  opinion_seas_sick_from_vacc  26170 non-null  float64\n",
      " 21  age_group                    26707 non-null  object \n",
      " 22  education                    25300 non-null  object \n",
      " 23  race                         26707 non-null  object \n",
      " 24  sex                          26707 non-null  object \n",
      " 25  income_poverty               22284 non-null  object \n",
      " 26  marital_status               25299 non-null  object \n",
      " 27  rent_or_own                  24665 non-null  object \n",
      " 28  employment_status            25244 non-null  object \n",
      " 29  hhs_geo_region               26707 non-null  object \n",
      " 30  census_msa                   26707 non-null  object \n",
      " 31  household_adults             26458 non-null  float64\n",
      " 32  household_children           26458 non-null  float64\n",
      " 33  employment_industry          13377 non-null  object \n",
      " 34  employment_occupation        13237 non-null  object \n",
      " 35  h1n1_vaccine                 26707 non-null  int64  \n",
      " 36  seasonal_vaccine             26707 non-null  int64  \n",
      "dtypes: float64(23), int64(2), object(12)\n",
      "memory usage: 7.7+ MB\n"
     ]
    }
   ],
   "source": [
    "data.info()"
   ]
  },
  {
   "cell_type": "markdown",
   "metadata": {},
   "source": [
    "Liste des attributs\n",
    "-------------------------"
   ]
  },
  {
   "cell_type": "code",
   "execution_count": 88,
   "metadata": {},
   "outputs": [],
   "source": [
    "features_list = list(data.keys())\n",
    "features_list.remove(\"h1n1_vaccine\")\n",
    "features_list.remove(\"seasonal_vaccine\")\n",
    "\n",
    "labels_list = ['h1n1_vaccine', 'seasonal_vaccine']\n",
    "\n",
    "categorical_list = ['age_group', 'education', 'race', 'sex', 'income_poverty', 'marital_status', 'rent_or_own', 'employment_status', 'hhs_geo_region', 'census_msa','employment_industry', 'employment_occupation']\n",
    "numerical_list = [k for k in features_list if k not in categorical_list]"
   ]
  },
  {
   "cell_type": "code",
   "execution_count": 86,
   "metadata": {},
   "outputs": [
    {
     "data": {
      "text/plain": [
       "23"
      ]
     },
     "execution_count": 86,
     "metadata": {},
     "output_type": "execute_result"
    }
   ],
   "source": [
    "len(numerical_list)"
   ]
  },
  {
   "cell_type": "code",
   "execution_count": 87,
   "metadata": {},
   "outputs": [
    {
     "data": {
      "text/plain": [
       "10"
      ]
     },
     "execution_count": 87,
     "metadata": {},
     "output_type": "execute_result"
    }
   ],
   "source": [
    "len(categorical_list)"
   ]
  },
  {
   "cell_type": "code",
   "execution_count": 7,
   "metadata": {},
   "outputs": [
    {
     "data": {
      "text/html": [
       "<div>\n",
       "<style scoped>\n",
       "    .dataframe tbody tr th:only-of-type {\n",
       "        vertical-align: middle;\n",
       "    }\n",
       "\n",
       "    .dataframe tbody tr th {\n",
       "        vertical-align: top;\n",
       "    }\n",
       "\n",
       "    .dataframe thead th {\n",
       "        text-align: right;\n",
       "    }\n",
       "</style>\n",
       "<table border=\"1\" class=\"dataframe\">\n",
       "  <thead>\n",
       "    <tr style=\"text-align: right;\">\n",
       "      <th></th>\n",
       "      <th>age_group</th>\n",
       "      <th>education</th>\n",
       "      <th>race</th>\n",
       "      <th>sex</th>\n",
       "      <th>income_poverty</th>\n",
       "      <th>marital_status</th>\n",
       "      <th>rent_or_own</th>\n",
       "      <th>employment_status</th>\n",
       "      <th>hhs_geo_region</th>\n",
       "      <th>census_msa</th>\n",
       "      <th>employment_industry</th>\n",
       "      <th>employment_occupation</th>\n",
       "    </tr>\n",
       "  </thead>\n",
       "  <tbody>\n",
       "    <tr>\n",
       "      <th>count</th>\n",
       "      <td>26707</td>\n",
       "      <td>25300</td>\n",
       "      <td>26707</td>\n",
       "      <td>26707</td>\n",
       "      <td>22284</td>\n",
       "      <td>25299</td>\n",
       "      <td>24665</td>\n",
       "      <td>25244</td>\n",
       "      <td>26707</td>\n",
       "      <td>26707</td>\n",
       "      <td>13377</td>\n",
       "      <td>13237</td>\n",
       "    </tr>\n",
       "    <tr>\n",
       "      <th>unique</th>\n",
       "      <td>5</td>\n",
       "      <td>4</td>\n",
       "      <td>4</td>\n",
       "      <td>2</td>\n",
       "      <td>3</td>\n",
       "      <td>2</td>\n",
       "      <td>2</td>\n",
       "      <td>3</td>\n",
       "      <td>10</td>\n",
       "      <td>3</td>\n",
       "      <td>21</td>\n",
       "      <td>23</td>\n",
       "    </tr>\n",
       "    <tr>\n",
       "      <th>top</th>\n",
       "      <td>65+ Years</td>\n",
       "      <td>College Graduate</td>\n",
       "      <td>White</td>\n",
       "      <td>Female</td>\n",
       "      <td>&lt;= $75,000, Above Poverty</td>\n",
       "      <td>Married</td>\n",
       "      <td>Own</td>\n",
       "      <td>Employed</td>\n",
       "      <td>lzgpxyit</td>\n",
       "      <td>MSA, Not Principle  City</td>\n",
       "      <td>fcxhlnwr</td>\n",
       "      <td>xtkaffoo</td>\n",
       "    </tr>\n",
       "    <tr>\n",
       "      <th>freq</th>\n",
       "      <td>6843</td>\n",
       "      <td>10097</td>\n",
       "      <td>21222</td>\n",
       "      <td>15858</td>\n",
       "      <td>12777</td>\n",
       "      <td>13555</td>\n",
       "      <td>18736</td>\n",
       "      <td>13560</td>\n",
       "      <td>4297</td>\n",
       "      <td>11645</td>\n",
       "      <td>2468</td>\n",
       "      <td>1778</td>\n",
       "    </tr>\n",
       "  </tbody>\n",
       "</table>\n",
       "</div>"
      ],
      "text/plain": [
       "        age_group         education   race     sex             income_poverty  \\\n",
       "count       26707             25300  26707   26707                      22284   \n",
       "unique          5                 4      4       2                          3   \n",
       "top     65+ Years  College Graduate  White  Female  <= $75,000, Above Poverty   \n",
       "freq         6843             10097  21222   15858                      12777   \n",
       "\n",
       "       marital_status rent_or_own employment_status hhs_geo_region  \\\n",
       "count           25299       24665             25244          26707   \n",
       "unique              2           2                 3             10   \n",
       "top           Married         Own          Employed       lzgpxyit   \n",
       "freq            13555       18736             13560           4297   \n",
       "\n",
       "                      census_msa employment_industry employment_occupation  \n",
       "count                      26707               13377                 13237  \n",
       "unique                         3                  21                    23  \n",
       "top     MSA, Not Principle  City            fcxhlnwr              xtkaffoo  \n",
       "freq                       11645                2468                  1778  "
      ]
     },
     "execution_count": 7,
     "metadata": {},
     "output_type": "execute_result"
    }
   ],
   "source": [
    "data.loc[:,categorical_list].describe()"
   ]
  },
  {
   "cell_type": "markdown",
   "metadata": {},
   "source": [
    "On remarque dans le tableau précédent que 'employment_industry' et 'employment_occupation' sont des facteurs très limitants (on n'a pas souvent l'info), mais il faudra voir si on ne peut pas faire mieux !"
   ]
  },
  {
   "cell_type": "code",
   "execution_count": 8,
   "metadata": {},
   "outputs": [],
   "source": [
    "data.drop([\"employment_industry\", \"employment_occupation\"], inplace=True, axis=1) # On supprime les deux attributs limitants\n",
    "categorical_list.remove(\"employment_industry\")\n",
    "categorical_list.remove(\"employment_occupation\")"
   ]
  },
  {
   "cell_type": "code",
   "execution_count": 9,
   "metadata": {},
   "outputs": [
    {
     "data": {
      "text/html": [
       "<div>\n",
       "<style scoped>\n",
       "    .dataframe tbody tr th:only-of-type {\n",
       "        vertical-align: middle;\n",
       "    }\n",
       "\n",
       "    .dataframe tbody tr th {\n",
       "        vertical-align: top;\n",
       "    }\n",
       "\n",
       "    .dataframe thead th {\n",
       "        text-align: right;\n",
       "    }\n",
       "</style>\n",
       "<table border=\"1\" class=\"dataframe\">\n",
       "  <thead>\n",
       "    <tr style=\"text-align: right;\">\n",
       "      <th></th>\n",
       "      <th>h1n1_concern</th>\n",
       "      <th>h1n1_knowledge</th>\n",
       "      <th>behavioral_antiviral_meds</th>\n",
       "      <th>behavioral_avoidance</th>\n",
       "      <th>behavioral_face_mask</th>\n",
       "      <th>behavioral_wash_hands</th>\n",
       "      <th>behavioral_large_gatherings</th>\n",
       "      <th>behavioral_outside_home</th>\n",
       "      <th>behavioral_touch_face</th>\n",
       "      <th>doctor_recc_h1n1</th>\n",
       "      <th>...</th>\n",
       "      <th>income_poverty</th>\n",
       "      <th>marital_status</th>\n",
       "      <th>rent_or_own</th>\n",
       "      <th>employment_status</th>\n",
       "      <th>hhs_geo_region</th>\n",
       "      <th>census_msa</th>\n",
       "      <th>household_adults</th>\n",
       "      <th>household_children</th>\n",
       "      <th>h1n1_vaccine</th>\n",
       "      <th>seasonal_vaccine</th>\n",
       "    </tr>\n",
       "  </thead>\n",
       "  <tbody>\n",
       "    <tr>\n",
       "      <th>count</th>\n",
       "      <td>26707</td>\n",
       "      <td>26707</td>\n",
       "      <td>26707</td>\n",
       "      <td>26707</td>\n",
       "      <td>26707</td>\n",
       "      <td>26707</td>\n",
       "      <td>26707</td>\n",
       "      <td>26707</td>\n",
       "      <td>26707</td>\n",
       "      <td>26707</td>\n",
       "      <td>...</td>\n",
       "      <td>26707</td>\n",
       "      <td>26707</td>\n",
       "      <td>26707</td>\n",
       "      <td>26707</td>\n",
       "      <td>26707</td>\n",
       "      <td>26707</td>\n",
       "      <td>26707</td>\n",
       "      <td>26707</td>\n",
       "      <td>26707</td>\n",
       "      <td>26707</td>\n",
       "    </tr>\n",
       "    <tr>\n",
       "      <th>unique</th>\n",
       "      <td>2</td>\n",
       "      <td>2</td>\n",
       "      <td>2</td>\n",
       "      <td>2</td>\n",
       "      <td>2</td>\n",
       "      <td>2</td>\n",
       "      <td>2</td>\n",
       "      <td>2</td>\n",
       "      <td>2</td>\n",
       "      <td>2</td>\n",
       "      <td>...</td>\n",
       "      <td>2</td>\n",
       "      <td>2</td>\n",
       "      <td>2</td>\n",
       "      <td>2</td>\n",
       "      <td>1</td>\n",
       "      <td>1</td>\n",
       "      <td>2</td>\n",
       "      <td>2</td>\n",
       "      <td>1</td>\n",
       "      <td>1</td>\n",
       "    </tr>\n",
       "    <tr>\n",
       "      <th>top</th>\n",
       "      <td>False</td>\n",
       "      <td>False</td>\n",
       "      <td>False</td>\n",
       "      <td>False</td>\n",
       "      <td>False</td>\n",
       "      <td>False</td>\n",
       "      <td>False</td>\n",
       "      <td>False</td>\n",
       "      <td>False</td>\n",
       "      <td>False</td>\n",
       "      <td>...</td>\n",
       "      <td>False</td>\n",
       "      <td>False</td>\n",
       "      <td>False</td>\n",
       "      <td>False</td>\n",
       "      <td>False</td>\n",
       "      <td>False</td>\n",
       "      <td>False</td>\n",
       "      <td>False</td>\n",
       "      <td>False</td>\n",
       "      <td>False</td>\n",
       "    </tr>\n",
       "    <tr>\n",
       "      <th>freq</th>\n",
       "      <td>26615</td>\n",
       "      <td>26591</td>\n",
       "      <td>26636</td>\n",
       "      <td>26499</td>\n",
       "      <td>26688</td>\n",
       "      <td>26665</td>\n",
       "      <td>26620</td>\n",
       "      <td>26625</td>\n",
       "      <td>26579</td>\n",
       "      <td>24547</td>\n",
       "      <td>...</td>\n",
       "      <td>22284</td>\n",
       "      <td>25299</td>\n",
       "      <td>24665</td>\n",
       "      <td>25244</td>\n",
       "      <td>26707</td>\n",
       "      <td>26707</td>\n",
       "      <td>26458</td>\n",
       "      <td>26458</td>\n",
       "      <td>26707</td>\n",
       "      <td>26707</td>\n",
       "    </tr>\n",
       "  </tbody>\n",
       "</table>\n",
       "<p>4 rows × 35 columns</p>\n",
       "</div>"
      ],
      "text/plain": [
       "       h1n1_concern h1n1_knowledge behavioral_antiviral_meds  \\\n",
       "count         26707          26707                     26707   \n",
       "unique            2              2                         2   \n",
       "top           False          False                     False   \n",
       "freq          26615          26591                     26636   \n",
       "\n",
       "       behavioral_avoidance behavioral_face_mask behavioral_wash_hands  \\\n",
       "count                 26707                26707                 26707   \n",
       "unique                    2                    2                     2   \n",
       "top                   False                False                 False   \n",
       "freq                  26499                26688                 26665   \n",
       "\n",
       "       behavioral_large_gatherings behavioral_outside_home  \\\n",
       "count                        26707                   26707   \n",
       "unique                           2                       2   \n",
       "top                          False                   False   \n",
       "freq                         26620                   26625   \n",
       "\n",
       "       behavioral_touch_face doctor_recc_h1n1  ... income_poverty  \\\n",
       "count                  26707            26707  ...          26707   \n",
       "unique                     2                2  ...              2   \n",
       "top                    False            False  ...          False   \n",
       "freq                   26579            24547  ...          22284   \n",
       "\n",
       "       marital_status rent_or_own employment_status hhs_geo_region census_msa  \\\n",
       "count           26707       26707             26707          26707      26707   \n",
       "unique              2           2                 2              1          1   \n",
       "top             False       False             False          False      False   \n",
       "freq            25299       24665             25244          26707      26707   \n",
       "\n",
       "       household_adults household_children h1n1_vaccine seasonal_vaccine  \n",
       "count             26707              26707        26707            26707  \n",
       "unique                2                  2            1                1  \n",
       "top               False              False        False            False  \n",
       "freq              26458              26458        26707            26707  \n",
       "\n",
       "[4 rows x 35 columns]"
      ]
     },
     "execution_count": 9,
     "metadata": {},
     "output_type": "execute_result"
    }
   ],
   "source": [
    "data.isna().describe()"
   ]
  },
  {
   "cell_type": "markdown",
   "metadata": {},
   "source": [
    "On remarque qu'il manque des données un peu partout dans le set, pour l'instant on les supprime mais pour les valeurs numériques on pourrait remplacer avec médiane (utiliser simpleImputer)"
   ]
  },
  {
   "cell_type": "markdown",
   "metadata": {},
   "source": [
    "Distributions des features\n",
    "============"
   ]
  },
  {
   "cell_type": "markdown",
   "metadata": {},
   "source": [
    "On représente la distribution des features"
   ]
  },
  {
   "cell_type": "code",
   "execution_count": 114,
   "metadata": {},
   "outputs": [
    {
     "data": {
      "image/png": "[encoded data removed]",
      "text/plain": [
       "<Figure size 1440x1440 with 23 Axes>"
      ]
     },
     "metadata": {
      "needs_background": "light"
     },
     "output_type": "display_data"
    }
   ],
   "source": [
    "f = plt.figure(figsize=(20,20))\n",
    "for i in range(1, 24):\n",
    "    axes = f.add_subplot(5, 5, i)\n",
    "    sns.histplot(data=data, x=numerical_list[i-1], stat=\"percent\", discrete=True, alpha=0.7)\n",
    "f.subplots_adjust(wspace=0.2)"
   ]
  },
  {
   "cell_type": "markdown",
   "metadata": {},
   "source": [
    "On observe que certaines features ne prennent quasiment jamais certaines valeurs"
   ]
  },
  {
   "cell_type": "markdown",
   "metadata": {},
   "source": [
    "Relations entre labels et features\n",
    "=========================="
   ]
  },
  {
   "cell_type": "markdown",
   "metadata": {},
   "source": [
    "On trace les relations entre la vaccination contre la grippe h1n1 et les autres paramètres numériques (ce sont toujours des paramètres discrets)"
   ]
  },
  {
   "cell_type": "code",
   "execution_count": 72,
   "metadata": {},
   "outputs": [
    {
     "data": {
      "image/png": "[encoded data removed]",
      "text/plain": [
       "<Figure size 1440x504 with 5 Axes>"
      ]
     },
     "metadata": {
      "needs_background": "light"
     },
     "output_type": "display_data"
    }
   ],
   "source": [
    "f = plt.figure(figsize=(20,7))\n",
    "for i in range(1,6):\n",
    "    axes = f.add_subplot(1,6,i)\n",
    "    sns.barplot(data=data, x=numerical_list[i], y=\"h1n1_vaccine\")\n",
    "f.subplots_adjust(wspace=0.5)"
   ]
  },
  {
   "cell_type": "code",
   "execution_count": 73,
   "metadata": {},
   "outputs": [
    {
     "data": {
      "image/png": "[encoded data removed]",
      "text/plain": [
       "<Figure size 1440x504 with 5 Axes>"
      ]
     },
     "metadata": {
      "needs_background": "light"
     },
     "output_type": "display_data"
    }
   ],
   "source": [
    "f = plt.figure(figsize=(20,7))\n",
    "for i in range(1,6):\n",
    "    axes = f.add_subplot(1,6,i)\n",
    "    sns.barplot(data=data, x=numerical_list[i+5], y=\"h1n1_vaccine\")\n",
    "f.subplots_adjust(wspace=0.5)"
   ]
  },
  {
   "cell_type": "code",
   "execution_count": 74,
   "metadata": {},
   "outputs": [
    {
     "data": {
      "image/png": "[encoded data removed]",
      "text/plain": [
       "<Figure size 1440x504 with 5 Axes>"
      ]
     },
     "metadata": {
      "needs_background": "light"
     },
     "output_type": "display_data"
    }
   ],
   "source": [
    "f = plt.figure(figsize=(20,7))\n",
    "for i in range(1,6):\n",
    "    axes = f.add_subplot(1,6,i)\n",
    "    sns.barplot(data=data, x=numerical_list[i+10], y=\"h1n1_vaccine\")\n",
    "f.subplots_adjust(wspace=0.5)"
   ]
  },
  {
   "cell_type": "code",
   "execution_count": 85,
   "metadata": {},
   "outputs": [
    {
     "data": {
      "image/png": "[encoded data removed]",
      "text/plain": [
       "<Figure size 1440x504 with 5 Axes>"
      ]
     },
     "metadata": {
      "needs_background": "light"
     },
     "output_type": "display_data"
    }
   ],
   "source": [
    "f = plt.figure(figsize=(20,7))\n",
    "for i in range(1,6):\n",
    "    axes = f.add_subplot(1,6,i)\n",
    "    sns.barplot(data=data, x=numerical_list[i+15], y=\"h1n1_vaccine\")\n",
    "f.subplots_adjust(wspace=0.5)"
   ]
  },
  {
   "cell_type": "code",
   "execution_count": 81,
   "metadata": {},
   "outputs": [
    {
     "data": {
      "image/png": "[encoded data removed]",
      "text/plain": [
       "<Figure size 1440x504 with 2 Axes>"
      ]
     },
     "metadata": {
      "needs_background": "light"
     },
     "output_type": "display_data"
    }
   ],
   "source": [
    "f = plt.figure(figsize=(20,7))\n",
    "for i in range(1,3):\n",
    "    axes = f.add_subplot(1,2,i)\n",
    "    sns.barplot(data=data, x=numerical_list[-2 + i], y=\"h1n1_vaccine\")\n",
    "f.subplots_adjust(wspace=0.3)"
   ]
  },
  {
   "cell_type": "markdown",
   "metadata": {},
   "source": [
    "Recherche de corrélation entre les labels et features\n",
    "-----------------------------------------------------"
   ]
  },
  {
   "cell_type": "code",
   "execution_count": 13,
   "metadata": {},
   "outputs": [
    {
     "data": {
      "text/plain": [
       "h1n1_vaccine                   1.000000\n",
       "doctor_recc_h1n1               0.393890\n",
       "seasonal_vaccine               0.377143\n",
       "opinion_h1n1_risk              0.323265\n",
       "opinion_h1n1_vacc_effective    0.269347\n",
       "opinion_seas_risk              0.258571\n",
       "doctor_recc_seasonal           0.209864\n",
       "opinion_seas_vacc_effective    0.179272\n",
       "health_worker                  0.169768\n",
       "h1n1_concern                   0.121929\n",
       "health_insurance               0.121170\n",
       "h1n1_knowledge                 0.117951\n",
       "chronic_med_condition          0.095207\n",
       "opinion_h1n1_sick_from_vacc    0.075091\n",
       "behavioral_wash_hands          0.074712\n",
       "behavioral_touch_face          0.071648\n",
       "behavioral_face_mask           0.070498\n",
       "child_under_6_months           0.066962\n",
       "behavioral_avoidance           0.047690\n",
       "behavioral_antiviral_meds      0.040608\n",
       "behavioral_outside_home        0.021768\n",
       "behavioral_large_gatherings    0.017822\n",
       "opinion_seas_sick_from_vacc    0.008360\n",
       "household_adults               0.007545\n",
       "household_children            -0.003320\n",
       "Name: h1n1_vaccine, dtype: float64"
      ]
     },
     "execution_count": 13,
     "metadata": {},
     "output_type": "execute_result"
    }
   ],
   "source": [
    "corr_matrix = data.corr()\n",
    "corr_matrix['h1n1_vaccine'].sort_values(ascending=False)"
   ]
  },
  {
   "cell_type": "code",
   "execution_count": 14,
   "metadata": {},
   "outputs": [
    {
     "data": {
      "text/plain": [
       "seasonal_vaccine               1.000000\n",
       "opinion_seas_risk              0.390106\n",
       "h1n1_vaccine                   0.377143\n",
       "doctor_recc_seasonal           0.369190\n",
       "opinion_seas_vacc_effective    0.361875\n",
       "opinion_h1n1_risk              0.216625\n",
       "opinion_h1n1_vacc_effective    0.205072\n",
       "health_insurance               0.200858\n",
       "doctor_recc_h1n1               0.198607\n",
       "chronic_med_condition          0.170174\n",
       "h1n1_concern                   0.154828\n",
       "health_worker                  0.127311\n",
       "behavioral_touch_face          0.120228\n",
       "h1n1_knowledge                 0.120152\n",
       "behavioral_wash_hands          0.112414\n",
       "behavioral_avoidance           0.076395\n",
       "behavioral_large_gatherings    0.064025\n",
       "behavioral_outside_home        0.053509\n",
       "behavioral_face_mask           0.050083\n",
       "opinion_h1n1_sick_from_vacc    0.027404\n",
       "child_under_6_months           0.012097\n",
       "behavioral_antiviral_meds      0.006277\n",
       "opinion_seas_sick_from_vacc   -0.061510\n",
       "household_adults              -0.064840\n",
       "household_children            -0.114614\n",
       "Name: seasonal_vaccine, dtype: float64"
      ]
     },
     "execution_count": 14,
     "metadata": {},
     "output_type": "execute_result"
    }
   ],
   "source": [
    "corr_matrix['seasonal_vaccine'].sort_values(ascending=False)"
   ]
  },
  {
   "cell_type": "code",
   "execution_count": 15,
   "metadata": {},
   "outputs": [],
   "source": [
    "best_corr_attributes = ['opinion_seas_risk', 'doctor_recc_seasonal', 'opinion_seas_vacc_effective', 'opinion_h1n1_risk', 'opinion_h1n1_vacc_effective', 'health_insurance', 'doctor_recc_h1n1', 'health_worker']"
   ]
  },
  {
   "cell_type": "markdown",
   "metadata": {},
   "source": [
    "On trouve de bonnes corrélations (linéaires), top paramètres"
   ]
  },
  {
   "cell_type": "markdown",
   "metadata": {},
   "source": [
    "On remarque que quelqu'un qui prend un des vaccins a pas mal de chances de prendre le deuxième : comment intégrer ce lien dans les algos classiques ?"
   ]
  },
  {
   "cell_type": "markdown",
   "metadata": {},
   "source": [
    "Codage des attributs catégoriels textuels\n",
    "--------------------------"
   ]
  },
  {
   "cell_type": "code",
   "execution_count": 16,
   "metadata": {},
   "outputs": [],
   "source": [
    "from sklearn.impute import KNNImputer"
   ]
  },
  {
   "cell_type": "code",
   "execution_count": 17,
   "metadata": {
    "scrolled": true
   },
   "outputs": [],
   "source": [
    "from sklearn.preprocessing import OrdinalEncoder\n",
    "data_categorical = data.loc[:, categorical_list] # Données catégorielles\n",
    "\n",
    "ordinal_encoder = OrdinalEncoder()\n",
    "data_categorical_encoded = ordinal_encoder.fit_transform(data_categorical)\n",
    "data_categorical_encoded = pd.DataFrame(data_categorical_encoded, columns=categorical_list)"
   ]
  },
  {
   "cell_type": "code",
   "execution_count": 18,
   "metadata": {},
   "outputs": [
    {
     "data": {
      "text/html": [
       "<div>\n",
       "<style scoped>\n",
       "    .dataframe tbody tr th:only-of-type {\n",
       "        vertical-align: middle;\n",
       "    }\n",
       "\n",
       "    .dataframe tbody tr th {\n",
       "        vertical-align: top;\n",
       "    }\n",
       "\n",
       "    .dataframe thead th {\n",
       "        text-align: right;\n",
       "    }\n",
       "</style>\n",
       "<table border=\"1\" class=\"dataframe\">\n",
       "  <thead>\n",
       "    <tr style=\"text-align: right;\">\n",
       "      <th></th>\n",
       "      <th>age_group</th>\n",
       "      <th>education</th>\n",
       "      <th>race</th>\n",
       "      <th>sex</th>\n",
       "      <th>income_poverty</th>\n",
       "      <th>marital_status</th>\n",
       "      <th>rent_or_own</th>\n",
       "      <th>employment_status</th>\n",
       "      <th>hhs_geo_region</th>\n",
       "      <th>census_msa</th>\n",
       "    </tr>\n",
       "  </thead>\n",
       "  <tbody>\n",
       "    <tr>\n",
       "      <th>count</th>\n",
       "      <td>26707.000000</td>\n",
       "      <td>25300.000000</td>\n",
       "      <td>26707.000000</td>\n",
       "      <td>26707.000000</td>\n",
       "      <td>22284.000000</td>\n",
       "      <td>25299.000000</td>\n",
       "      <td>24665.000000</td>\n",
       "      <td>25244.000000</td>\n",
       "      <td>26707.000000</td>\n",
       "      <td>26707.000000</td>\n",
       "    </tr>\n",
       "    <tr>\n",
       "      <th>mean</th>\n",
       "      <td>2.186131</td>\n",
       "      <td>1.726719</td>\n",
       "      <td>2.570300</td>\n",
       "      <td>0.406223</td>\n",
       "      <td>0.547658</td>\n",
       "      <td>0.464208</td>\n",
       "      <td>0.240381</td>\n",
       "      <td>0.520401</td>\n",
       "      <td>4.829745</td>\n",
       "      <td>0.833489</td>\n",
       "    </tr>\n",
       "    <tr>\n",
       "      <th>std</th>\n",
       "      <td>1.457320</td>\n",
       "      <td>1.101665</td>\n",
       "      <td>0.923226</td>\n",
       "      <td>0.491136</td>\n",
       "      <td>0.699863</td>\n",
       "      <td>0.498727</td>\n",
       "      <td>0.427324</td>\n",
       "      <td>0.603916</td>\n",
       "      <td>2.805984</td>\n",
       "      <td>0.823313</td>\n",
       "    </tr>\n",
       "    <tr>\n",
       "      <th>min</th>\n",
       "      <td>0.000000</td>\n",
       "      <td>0.000000</td>\n",
       "      <td>0.000000</td>\n",
       "      <td>0.000000</td>\n",
       "      <td>0.000000</td>\n",
       "      <td>0.000000</td>\n",
       "      <td>0.000000</td>\n",
       "      <td>0.000000</td>\n",
       "      <td>0.000000</td>\n",
       "      <td>0.000000</td>\n",
       "    </tr>\n",
       "    <tr>\n",
       "      <th>25%</th>\n",
       "      <td>1.000000</td>\n",
       "      <td>1.000000</td>\n",
       "      <td>3.000000</td>\n",
       "      <td>0.000000</td>\n",
       "      <td>0.000000</td>\n",
       "      <td>0.000000</td>\n",
       "      <td>0.000000</td>\n",
       "      <td>0.000000</td>\n",
       "      <td>3.000000</td>\n",
       "      <td>0.000000</td>\n",
       "    </tr>\n",
       "    <tr>\n",
       "      <th>50%</th>\n",
       "      <td>2.000000</td>\n",
       "      <td>2.000000</td>\n",
       "      <td>3.000000</td>\n",
       "      <td>0.000000</td>\n",
       "      <td>0.000000</td>\n",
       "      <td>0.000000</td>\n",
       "      <td>0.000000</td>\n",
       "      <td>0.000000</td>\n",
       "      <td>5.000000</td>\n",
       "      <td>1.000000</td>\n",
       "    </tr>\n",
       "    <tr>\n",
       "      <th>75%</th>\n",
       "      <td>4.000000</td>\n",
       "      <td>3.000000</td>\n",
       "      <td>3.000000</td>\n",
       "      <td>1.000000</td>\n",
       "      <td>1.000000</td>\n",
       "      <td>1.000000</td>\n",
       "      <td>0.000000</td>\n",
       "      <td>1.000000</td>\n",
       "      <td>7.000000</td>\n",
       "      <td>2.000000</td>\n",
       "    </tr>\n",
       "    <tr>\n",
       "      <th>max</th>\n",
       "      <td>4.000000</td>\n",
       "      <td>3.000000</td>\n",
       "      <td>3.000000</td>\n",
       "      <td>1.000000</td>\n",
       "      <td>2.000000</td>\n",
       "      <td>1.000000</td>\n",
       "      <td>1.000000</td>\n",
       "      <td>2.000000</td>\n",
       "      <td>9.000000</td>\n",
       "      <td>2.000000</td>\n",
       "    </tr>\n",
       "  </tbody>\n",
       "</table>\n",
       "</div>"
      ],
      "text/plain": [
       "          age_group     education          race           sex  income_poverty  \\\n",
       "count  26707.000000  25300.000000  26707.000000  26707.000000    22284.000000   \n",
       "mean       2.186131      1.726719      2.570300      0.406223        0.547658   \n",
       "std        1.457320      1.101665      0.923226      0.491136        0.699863   \n",
       "min        0.000000      0.000000      0.000000      0.000000        0.000000   \n",
       "25%        1.000000      1.000000      3.000000      0.000000        0.000000   \n",
       "50%        2.000000      2.000000      3.000000      0.000000        0.000000   \n",
       "75%        4.000000      3.000000      3.000000      1.000000        1.000000   \n",
       "max        4.000000      3.000000      3.000000      1.000000        2.000000   \n",
       "\n",
       "       marital_status   rent_or_own  employment_status  hhs_geo_region  \\\n",
       "count    25299.000000  24665.000000       25244.000000    26707.000000   \n",
       "mean         0.464208      0.240381           0.520401        4.829745   \n",
       "std          0.498727      0.427324           0.603916        2.805984   \n",
       "min          0.000000      0.000000           0.000000        0.000000   \n",
       "25%          0.000000      0.000000           0.000000        3.000000   \n",
       "50%          0.000000      0.000000           0.000000        5.000000   \n",
       "75%          1.000000      0.000000           1.000000        7.000000   \n",
       "max          1.000000      1.000000           2.000000        9.000000   \n",
       "\n",
       "         census_msa  \n",
       "count  26707.000000  \n",
       "mean       0.833489  \n",
       "std        0.823313  \n",
       "min        0.000000  \n",
       "25%        0.000000  \n",
       "50%        1.000000  \n",
       "75%        2.000000  \n",
       "max        2.000000  "
      ]
     },
     "execution_count": 18,
     "metadata": {},
     "output_type": "execute_result"
    }
   ],
   "source": [
    "data_categorical_encoded.describe()"
   ]
  },
  {
   "cell_type": "code",
   "execution_count": 19,
   "metadata": {},
   "outputs": [],
   "source": [
    "knn_imputer_categorical = KNNImputer(n_neighbors=10, weights=\"uniform\")\n",
    "data_categorical_encoded_array = knn_imputer_categorical.fit_transform(data_categorical_encoded)"
   ]
  },
  {
   "cell_type": "code",
   "execution_count": 20,
   "metadata": {},
   "outputs": [],
   "source": [
    "data_categorical_encoded = pd.DataFrame(data_categorical_encoded_array, columns=data_categorical_encoded.columns)"
   ]
  },
  {
   "cell_type": "code",
   "execution_count": 21,
   "metadata": {},
   "outputs": [
    {
     "data": {
      "text/html": [
       "<div>\n",
       "<style scoped>\n",
       "    .dataframe tbody tr th:only-of-type {\n",
       "        vertical-align: middle;\n",
       "    }\n",
       "\n",
       "    .dataframe tbody tr th {\n",
       "        vertical-align: top;\n",
       "    }\n",
       "\n",
       "    .dataframe thead th {\n",
       "        text-align: right;\n",
       "    }\n",
       "</style>\n",
       "<table border=\"1\" class=\"dataframe\">\n",
       "  <thead>\n",
       "    <tr style=\"text-align: right;\">\n",
       "      <th></th>\n",
       "      <th>age_group</th>\n",
       "      <th>education</th>\n",
       "      <th>race</th>\n",
       "      <th>sex</th>\n",
       "      <th>income_poverty</th>\n",
       "      <th>marital_status</th>\n",
       "      <th>rent_or_own</th>\n",
       "      <th>employment_status</th>\n",
       "      <th>hhs_geo_region</th>\n",
       "      <th>census_msa</th>\n",
       "    </tr>\n",
       "  </thead>\n",
       "  <tbody>\n",
       "    <tr>\n",
       "      <th>count</th>\n",
       "      <td>26707</td>\n",
       "      <td>26707</td>\n",
       "      <td>26707</td>\n",
       "      <td>26707</td>\n",
       "      <td>26707</td>\n",
       "      <td>26707</td>\n",
       "      <td>26707</td>\n",
       "      <td>26707</td>\n",
       "      <td>26707</td>\n",
       "      <td>26707</td>\n",
       "    </tr>\n",
       "    <tr>\n",
       "      <th>unique</th>\n",
       "      <td>1</td>\n",
       "      <td>1</td>\n",
       "      <td>1</td>\n",
       "      <td>1</td>\n",
       "      <td>1</td>\n",
       "      <td>1</td>\n",
       "      <td>1</td>\n",
       "      <td>1</td>\n",
       "      <td>1</td>\n",
       "      <td>1</td>\n",
       "    </tr>\n",
       "    <tr>\n",
       "      <th>top</th>\n",
       "      <td>False</td>\n",
       "      <td>False</td>\n",
       "      <td>False</td>\n",
       "      <td>False</td>\n",
       "      <td>False</td>\n",
       "      <td>False</td>\n",
       "      <td>False</td>\n",
       "      <td>False</td>\n",
       "      <td>False</td>\n",
       "      <td>False</td>\n",
       "    </tr>\n",
       "    <tr>\n",
       "      <th>freq</th>\n",
       "      <td>26707</td>\n",
       "      <td>26707</td>\n",
       "      <td>26707</td>\n",
       "      <td>26707</td>\n",
       "      <td>26707</td>\n",
       "      <td>26707</td>\n",
       "      <td>26707</td>\n",
       "      <td>26707</td>\n",
       "      <td>26707</td>\n",
       "      <td>26707</td>\n",
       "    </tr>\n",
       "  </tbody>\n",
       "</table>\n",
       "</div>"
      ],
      "text/plain": [
       "       age_group education   race    sex income_poverty marital_status  \\\n",
       "count      26707     26707  26707  26707          26707          26707   \n",
       "unique         1         1      1      1              1              1   \n",
       "top        False     False  False  False          False          False   \n",
       "freq       26707     26707  26707  26707          26707          26707   \n",
       "\n",
       "       rent_or_own employment_status hhs_geo_region census_msa  \n",
       "count        26707             26707          26707      26707  \n",
       "unique           1                 1              1          1  \n",
       "top          False             False          False      False  \n",
       "freq         26707             26707          26707      26707  "
      ]
     },
     "execution_count": 21,
     "metadata": {},
     "output_type": "execute_result"
    }
   ],
   "source": [
    "data_categorical_encoded.isna().describe()"
   ]
  },
  {
   "cell_type": "code",
   "execution_count": 22,
   "metadata": {},
   "outputs": [
    {
     "data": {
      "text/plain": [
       "(26707, 10)"
      ]
     },
     "execution_count": 22,
     "metadata": {},
     "output_type": "execute_result"
    }
   ],
   "source": [
    "data_categorical_encoded.shape"
   ]
  },
  {
   "cell_type": "markdown",
   "metadata": {},
   "source": [
    "Données numériques\n",
    "--------------------"
   ]
  },
  {
   "cell_type": "markdown",
   "metadata": {},
   "source": [
    "On va essayer de remplir les valeurs manquantes avec le KNNImputer mais on peut aussi utiliser le simpleImputer et la médiane"
   ]
  },
  {
   "cell_type": "code",
   "execution_count": 23,
   "metadata": {},
   "outputs": [],
   "source": [
    "data_numerical = data.loc[:, numerical_list + labels_list]"
   ]
  },
  {
   "cell_type": "code",
   "execution_count": 24,
   "metadata": {},
   "outputs": [],
   "source": [
    "knn_imputer_numerical = KNNImputer(n_neighbors=10, weights=\"uniform\")\n",
    "data_numerical_array = knn_imputer_numerical.fit_transform(data_numerical)\n",
    "data_numerical = pd.DataFrame(data_numerical_array, columns=data_numerical.columns)"
   ]
  },
  {
   "cell_type": "code",
   "execution_count": 25,
   "metadata": {},
   "outputs": [
    {
     "data": {
      "text/html": [
       "<div>\n",
       "<style scoped>\n",
       "    .dataframe tbody tr th:only-of-type {\n",
       "        vertical-align: middle;\n",
       "    }\n",
       "\n",
       "    .dataframe tbody tr th {\n",
       "        vertical-align: top;\n",
       "    }\n",
       "\n",
       "    .dataframe thead th {\n",
       "        text-align: right;\n",
       "    }\n",
       "</style>\n",
       "<table border=\"1\" class=\"dataframe\">\n",
       "  <thead>\n",
       "    <tr style=\"text-align: right;\">\n",
       "      <th></th>\n",
       "      <th>h1n1_concern</th>\n",
       "      <th>h1n1_knowledge</th>\n",
       "      <th>behavioral_antiviral_meds</th>\n",
       "      <th>behavioral_avoidance</th>\n",
       "      <th>behavioral_face_mask</th>\n",
       "      <th>behavioral_wash_hands</th>\n",
       "      <th>behavioral_large_gatherings</th>\n",
       "      <th>behavioral_outside_home</th>\n",
       "      <th>behavioral_touch_face</th>\n",
       "      <th>doctor_recc_h1n1</th>\n",
       "      <th>...</th>\n",
       "      <th>opinion_h1n1_vacc_effective</th>\n",
       "      <th>opinion_h1n1_risk</th>\n",
       "      <th>opinion_h1n1_sick_from_vacc</th>\n",
       "      <th>opinion_seas_vacc_effective</th>\n",
       "      <th>opinion_seas_risk</th>\n",
       "      <th>opinion_seas_sick_from_vacc</th>\n",
       "      <th>household_adults</th>\n",
       "      <th>household_children</th>\n",
       "      <th>h1n1_vaccine</th>\n",
       "      <th>seasonal_vaccine</th>\n",
       "    </tr>\n",
       "  </thead>\n",
       "  <tbody>\n",
       "    <tr>\n",
       "      <th>count</th>\n",
       "      <td>26707</td>\n",
       "      <td>26707</td>\n",
       "      <td>26707</td>\n",
       "      <td>26707</td>\n",
       "      <td>26707</td>\n",
       "      <td>26707</td>\n",
       "      <td>26707</td>\n",
       "      <td>26707</td>\n",
       "      <td>26707</td>\n",
       "      <td>26707</td>\n",
       "      <td>...</td>\n",
       "      <td>26707</td>\n",
       "      <td>26707</td>\n",
       "      <td>26707</td>\n",
       "      <td>26707</td>\n",
       "      <td>26707</td>\n",
       "      <td>26707</td>\n",
       "      <td>26707</td>\n",
       "      <td>26707</td>\n",
       "      <td>26707</td>\n",
       "      <td>26707</td>\n",
       "    </tr>\n",
       "    <tr>\n",
       "      <th>unique</th>\n",
       "      <td>1</td>\n",
       "      <td>1</td>\n",
       "      <td>1</td>\n",
       "      <td>1</td>\n",
       "      <td>1</td>\n",
       "      <td>1</td>\n",
       "      <td>1</td>\n",
       "      <td>1</td>\n",
       "      <td>1</td>\n",
       "      <td>1</td>\n",
       "      <td>...</td>\n",
       "      <td>1</td>\n",
       "      <td>1</td>\n",
       "      <td>1</td>\n",
       "      <td>1</td>\n",
       "      <td>1</td>\n",
       "      <td>1</td>\n",
       "      <td>1</td>\n",
       "      <td>1</td>\n",
       "      <td>1</td>\n",
       "      <td>1</td>\n",
       "    </tr>\n",
       "    <tr>\n",
       "      <th>top</th>\n",
       "      <td>False</td>\n",
       "      <td>False</td>\n",
       "      <td>False</td>\n",
       "      <td>False</td>\n",
       "      <td>False</td>\n",
       "      <td>False</td>\n",
       "      <td>False</td>\n",
       "      <td>False</td>\n",
       "      <td>False</td>\n",
       "      <td>False</td>\n",
       "      <td>...</td>\n",
       "      <td>False</td>\n",
       "      <td>False</td>\n",
       "      <td>False</td>\n",
       "      <td>False</td>\n",
       "      <td>False</td>\n",
       "      <td>False</td>\n",
       "      <td>False</td>\n",
       "      <td>False</td>\n",
       "      <td>False</td>\n",
       "      <td>False</td>\n",
       "    </tr>\n",
       "    <tr>\n",
       "      <th>freq</th>\n",
       "      <td>26707</td>\n",
       "      <td>26707</td>\n",
       "      <td>26707</td>\n",
       "      <td>26707</td>\n",
       "      <td>26707</td>\n",
       "      <td>26707</td>\n",
       "      <td>26707</td>\n",
       "      <td>26707</td>\n",
       "      <td>26707</td>\n",
       "      <td>26707</td>\n",
       "      <td>...</td>\n",
       "      <td>26707</td>\n",
       "      <td>26707</td>\n",
       "      <td>26707</td>\n",
       "      <td>26707</td>\n",
       "      <td>26707</td>\n",
       "      <td>26707</td>\n",
       "      <td>26707</td>\n",
       "      <td>26707</td>\n",
       "      <td>26707</td>\n",
       "      <td>26707</td>\n",
       "    </tr>\n",
       "  </tbody>\n",
       "</table>\n",
       "<p>4 rows × 25 columns</p>\n",
       "</div>"
      ],
      "text/plain": [
       "       h1n1_concern h1n1_knowledge behavioral_antiviral_meds  \\\n",
       "count         26707          26707                     26707   \n",
       "unique            1              1                         1   \n",
       "top           False          False                     False   \n",
       "freq          26707          26707                     26707   \n",
       "\n",
       "       behavioral_avoidance behavioral_face_mask behavioral_wash_hands  \\\n",
       "count                 26707                26707                 26707   \n",
       "unique                    1                    1                     1   \n",
       "top                   False                False                 False   \n",
       "freq                  26707                26707                 26707   \n",
       "\n",
       "       behavioral_large_gatherings behavioral_outside_home  \\\n",
       "count                        26707                   26707   \n",
       "unique                           1                       1   \n",
       "top                          False                   False   \n",
       "freq                         26707                   26707   \n",
       "\n",
       "       behavioral_touch_face doctor_recc_h1n1  ...  \\\n",
       "count                  26707            26707  ...   \n",
       "unique                     1                1  ...   \n",
       "top                    False            False  ...   \n",
       "freq                   26707            26707  ...   \n",
       "\n",
       "       opinion_h1n1_vacc_effective opinion_h1n1_risk  \\\n",
       "count                        26707             26707   \n",
       "unique                           1                 1   \n",
       "top                          False             False   \n",
       "freq                         26707             26707   \n",
       "\n",
       "       opinion_h1n1_sick_from_vacc opinion_seas_vacc_effective  \\\n",
       "count                        26707                       26707   \n",
       "unique                           1                           1   \n",
       "top                          False                       False   \n",
       "freq                         26707                       26707   \n",
       "\n",
       "       opinion_seas_risk opinion_seas_sick_from_vacc household_adults  \\\n",
       "count              26707                       26707            26707   \n",
       "unique                 1                           1                1   \n",
       "top                False                       False            False   \n",
       "freq               26707                       26707            26707   \n",
       "\n",
       "       household_children h1n1_vaccine seasonal_vaccine  \n",
       "count               26707        26707            26707  \n",
       "unique                  1            1                1  \n",
       "top                 False        False            False  \n",
       "freq                26707        26707            26707  \n",
       "\n",
       "[4 rows x 25 columns]"
      ]
     },
     "execution_count": 25,
     "metadata": {},
     "output_type": "execute_result"
    }
   ],
   "source": [
    "data_numerical.isna().describe()"
   ]
  },
  {
   "cell_type": "code",
   "execution_count": 26,
   "metadata": {},
   "outputs": [
    {
     "data": {
      "text/plain": [
       "(26707, 25)"
      ]
     },
     "execution_count": 26,
     "metadata": {},
     "output_type": "execute_result"
    }
   ],
   "source": [
    "data_numerical.shape"
   ]
  },
  {
   "cell_type": "markdown",
   "metadata": {},
   "source": [
    "On refusionne les données catégorielles avec les données numériques"
   ]
  },
  {
   "cell_type": "code",
   "execution_count": 27,
   "metadata": {},
   "outputs": [
    {
     "name": "stdout",
     "output_type": "stream",
     "text": [
      "<class 'pandas.core.frame.DataFrame'>\n",
      "RangeIndex: 26707 entries, 0 to 26706\n",
      "Data columns (total 35 columns):\n",
      " #   Column                       Non-Null Count  Dtype  \n",
      "---  ------                       --------------  -----  \n",
      " 0   h1n1_concern                 26707 non-null  float64\n",
      " 1   h1n1_knowledge               26707 non-null  float64\n",
      " 2   behavioral_antiviral_meds    26707 non-null  float64\n",
      " 3   behavioral_avoidance         26707 non-null  float64\n",
      " 4   behavioral_face_mask         26707 non-null  float64\n",
      " 5   behavioral_wash_hands        26707 non-null  float64\n",
      " 6   behavioral_large_gatherings  26707 non-null  float64\n",
      " 7   behavioral_outside_home      26707 non-null  float64\n",
      " 8   behavioral_touch_face        26707 non-null  float64\n",
      " 9   doctor_recc_h1n1             26707 non-null  float64\n",
      " 10  doctor_recc_seasonal         26707 non-null  float64\n",
      " 11  chronic_med_condition        26707 non-null  float64\n",
      " 12  child_under_6_months         26707 non-null  float64\n",
      " 13  health_worker                26707 non-null  float64\n",
      " 14  health_insurance             26707 non-null  float64\n",
      " 15  opinion_h1n1_vacc_effective  26707 non-null  float64\n",
      " 16  opinion_h1n1_risk            26707 non-null  float64\n",
      " 17  opinion_h1n1_sick_from_vacc  26707 non-null  float64\n",
      " 18  opinion_seas_vacc_effective  26707 non-null  float64\n",
      " 19  opinion_seas_risk            26707 non-null  float64\n",
      " 20  opinion_seas_sick_from_vacc  26707 non-null  float64\n",
      " 21  household_adults             26707 non-null  float64\n",
      " 22  household_children           26707 non-null  float64\n",
      " 23  h1n1_vaccine                 26707 non-null  float64\n",
      " 24  seasonal_vaccine             26707 non-null  float64\n",
      " 25  age_group                    26707 non-null  float64\n",
      " 26  education                    26707 non-null  float64\n",
      " 27  race                         26707 non-null  float64\n",
      " 28  sex                          26707 non-null  float64\n",
      " 29  income_poverty               26707 non-null  float64\n",
      " 30  marital_status               26707 non-null  float64\n",
      " 31  rent_or_own                  26707 non-null  float64\n",
      " 32  employment_status            26707 non-null  float64\n",
      " 33  hhs_geo_region               26707 non-null  float64\n",
      " 34  census_msa                   26707 non-null  float64\n",
      "dtypes: float64(35)\n",
      "memory usage: 7.1 MB\n"
     ]
    }
   ],
   "source": [
    "data_encoded = pd.merge(data_numerical, data_categorical_encoded, left_index=True, right_index=True) # inner join sur les indexes\n",
    "data_encoded.info()"
   ]
  },
  {
   "cell_type": "markdown",
   "metadata": {},
   "source": [
    "On a comblé tous les trous, à voir si les valeurs comblées sont cohérentes : on peut les marquer avec scikit-learn"
   ]
  },
  {
   "cell_type": "markdown",
   "metadata": {},
   "source": [
    "# Training Data"
   ]
  },
  {
   "cell_type": "markdown",
   "metadata": {},
   "source": [
    "Les données ont été comblées par le KNNImputer"
   ]
  },
  {
   "cell_type": "code",
   "execution_count": 28,
   "metadata": {},
   "outputs": [],
   "source": [
    "from sklearn.model_selection import train_test_split"
   ]
  },
  {
   "cell_type": "code",
   "execution_count": 29,
   "metadata": {},
   "outputs": [],
   "source": [
    "Y = data_encoded.loc[:, labels_list].to_numpy()\n",
    "X = data_encoded.drop(labels_list, axis=1).to_numpy()\n",
    "\n",
    "shape_train_data = X.shape[1]\n",
    "\n",
    "X_train, X_test, Y_train, Y_test = train_test_split(X, Y, random_state=1)\n",
    "X_train, X_valid, Y_train, Y_valid = train_test_split(X_train, Y_train, random_state=1)"
   ]
  },
  {
   "cell_type": "markdown",
   "metadata": {},
   "source": [
    "# Machine learning classification"
   ]
  },
  {
   "cell_type": "markdown",
   "metadata": {},
   "source": [
    "Random Forest model\n",
    "============"
   ]
  },
  {
   "cell_type": "markdown",
   "metadata": {},
   "source": [
    "Toutes les données et KNNImputer\n",
    "-----------------------"
   ]
  },
  {
   "cell_type": "code",
   "execution_count": 30,
   "metadata": {},
   "outputs": [],
   "source": [
    "from sklearn.ensemble import RandomForestClassifier\n",
    "from sklearn.metrics import accuracy_score"
   ]
  },
  {
   "cell_type": "code",
   "execution_count": 31,
   "metadata": {},
   "outputs": [
    {
     "data": {
      "text/plain": [
       "RandomForestClassifier(max_leaf_nodes=32, n_estimators=1000, n_jobs=-1)"
      ]
     },
     "execution_count": 31,
     "metadata": {},
     "output_type": "execute_result"
    }
   ],
   "source": [
    "rnd_clf = RandomForestClassifier(n_estimators=1000, max_leaf_nodes=32, n_jobs=-1)\n",
    "rnd_clf.fit(X_train, Y_train)"
   ]
  },
  {
   "cell_type": "code",
   "execution_count": 32,
   "metadata": {},
   "outputs": [
    {
     "data": {
      "text/plain": [
       "0.6660176726074585"
      ]
     },
     "execution_count": 32,
     "metadata": {},
     "output_type": "execute_result"
    }
   ],
   "source": [
    "y_pred = rnd_clf.predict(X_test)\n",
    "accuracy_score(Y_test, y_pred)"
   ]
  },
  {
   "cell_type": "markdown",
   "metadata": {},
   "source": [
    "SimpleImputer et médiane\n",
    "-------------------"
   ]
  },
  {
   "cell_type": "code",
   "execution_count": 33,
   "metadata": {},
   "outputs": [],
   "source": [
    "from sklearn.impute import SimpleImputer"
   ]
  },
  {
   "cell_type": "code",
   "execution_count": 34,
   "metadata": {},
   "outputs": [],
   "source": [
    "only_numerical_data = data.loc[:, numerical_list]\n",
    "only_numerical_labels = data.loc[:, labels_list]"
   ]
  },
  {
   "cell_type": "code",
   "execution_count": 35,
   "metadata": {},
   "outputs": [],
   "source": [
    "simple_imputer = SimpleImputer(strategy=\"median\")\n",
    "X = simple_imputer.fit_transform(only_numerical_data)\n",
    "Y = only_numerical_labels.to_numpy()\n",
    "X_train, X_test, Y_train, Y_test = train_test_split(X, Y, random_state=1)"
   ]
  },
  {
   "cell_type": "code",
   "execution_count": 36,
   "metadata": {},
   "outputs": [
    {
     "data": {
      "text/plain": [
       "(20030, 23)"
      ]
     },
     "execution_count": 36,
     "metadata": {},
     "output_type": "execute_result"
    }
   ],
   "source": [
    "X_train.shape"
   ]
  },
  {
   "cell_type": "code",
   "execution_count": 37,
   "metadata": {},
   "outputs": [
    {
     "data": {
      "text/plain": [
       "(6677, 23)"
      ]
     },
     "execution_count": 37,
     "metadata": {},
     "output_type": "execute_result"
    }
   ],
   "source": [
    "X_test.shape"
   ]
  },
  {
   "cell_type": "code",
   "execution_count": 38,
   "metadata": {},
   "outputs": [
    {
     "data": {
      "text/plain": [
       "RandomForestClassifier(max_leaf_nodes=32, n_estimators=1000, n_jobs=-1)"
      ]
     },
     "execution_count": 38,
     "metadata": {},
     "output_type": "execute_result"
    }
   ],
   "source": [
    "rnd_clf2 = RandomForestClassifier(n_estimators=1000, max_leaf_nodes=32, n_jobs=-1)\n",
    "rnd_clf2.fit(X_train, Y_train)"
   ]
  },
  {
   "cell_type": "code",
   "execution_count": 39,
   "metadata": {},
   "outputs": [
    {
     "data": {
      "text/plain": [
       "0.6463980829713943"
      ]
     },
     "execution_count": 39,
     "metadata": {},
     "output_type": "execute_result"
    }
   ],
   "source": [
    "y_pred = rnd_clf2.predict(X_test)\n",
    "accuracy_score(Y_test, y_pred)"
   ]
  },
  {
   "cell_type": "markdown",
   "metadata": {},
   "source": [
    "Attributs avec meilleur corrélation et médiane\n",
    "----------------------"
   ]
  },
  {
   "cell_type": "code",
   "execution_count": 40,
   "metadata": {},
   "outputs": [],
   "source": [
    "from sklearn.preprocessing import StandardScaler"
   ]
  },
  {
   "cell_type": "code",
   "execution_count": 41,
   "metadata": {},
   "outputs": [],
   "source": [
    "simple_imputer2 = SimpleImputer(strategy=\"median\")\n",
    "X = simple_imputer2.fit_transform(data.loc[:,best_corr_attributes])\n",
    "Y = data.loc[:,labels_list].to_numpy()"
   ]
  },
  {
   "cell_type": "code",
   "execution_count": 1,
   "metadata": {},
   "outputs": [
    {
     "ename": "NameError",
     "evalue": "name 'StandardScaler' is not defined",
     "output_type": "error",
     "traceback": [
      "\u001b[1;31m---------------------------------------------------------------------------\u001b[0m",
      "\u001b[1;31mNameError\u001b[0m                                 Traceback (most recent call last)",
      "\u001b[1;32m~\\AppData\\Local\\Temp/ipykernel_1616/2372471997.py\u001b[0m in \u001b[0;36m<module>\u001b[1;34m\u001b[0m\n\u001b[1;32m----> 1\u001b[1;33m \u001b[0mscaler2\u001b[0m \u001b[1;33m=\u001b[0m \u001b[0mStandardScaler\u001b[0m\u001b[1;33m(\u001b[0m\u001b[1;33m)\u001b[0m\u001b[1;33m\u001b[0m\u001b[1;33m\u001b[0m\u001b[0m\n\u001b[0m\u001b[0;32m      2\u001b[0m \u001b[0mX_scaled\u001b[0m \u001b[1;33m=\u001b[0m \u001b[0mscaler2\u001b[0m\u001b[1;33m.\u001b[0m\u001b[0mfit_transform\u001b[0m\u001b[1;33m(\u001b[0m\u001b[0mX\u001b[0m\u001b[1;33m)\u001b[0m\u001b[1;33m\u001b[0m\u001b[1;33m\u001b[0m\u001b[0m\n",
      "\u001b[1;31mNameError\u001b[0m: name 'StandardScaler' is not defined"
     ]
    }
   ],
   "source": [
    "scaler2 = StandardScaler()\n",
    "X_scaled = scaler2.fit_transform(X)"
   ]
  },
  {
   "cell_type": "markdown",
   "metadata": {},
   "source": [
    "# Deep learning classification"
   ]
  },
  {
   "cell_type": "markdown",
   "metadata": {},
   "source": [
    "* On veut déterminer dles probabilités d'appartenance à une classe : multilabel classification\n"
   ]
  },
  {
   "cell_type": "code",
   "execution_count": 89,
   "metadata": {},
   "outputs": [],
   "source": [
    "import tensorflow as tf\n",
    "from tensorflow import keras\n",
    "from sklearn.preprocessing import StandardScaler"
   ]
  },
  {
   "cell_type": "markdown",
   "metadata": {},
   "source": [
    "On assemble le domaine, pour l'instant structure simple et séquentielle :"
   ]
  },
  {
   "cell_type": "code",
   "execution_count": 29,
   "metadata": {},
   "outputs": [],
   "source": [
    "# modele pas performant : 35 % de réussite en moyenne, on peut modifier la structure en ajoutant une voie annexe par ex\n",
    "input_ = keras.layers.Input(shape=shape_train_data)\n",
    "hidden1 = keras.layers.Dense(35, activation=\"relu\")(input_)\n",
    "dropout1 = keras.layers.Dropout(0.5)(hidden1)\n",
    "hidden2 = keras.layers.Dense(200, activation=\"relu\")(dropout1)\n",
    "dropout2 = keras.layers.Dropout(0.5)(hidden2)\n",
    "hidden3 = keras.layers.Dense(100, activation=\"relu\")(dropout2)\n",
    "dropout3 = keras.layers.Dropout(0.5)(hidden3)\n",
    "hidden4 = keras.layers.Dense(20, activation=\"relu\")(dropout3)\n",
    "output = keras.layers.Dense(2, activation=\"sigmoid\")(hidden4)\n",
    "model = keras.Model(inputs=[input_], outputs=[output])\n",
    "\n",
    "model.compile(loss=\"binary_crossentropy\", optimizer=\"sgd\", metrics=[\"accuracy\"])"
   ]
  },
  {
   "cell_type": "markdown",
   "metadata": {},
   "source": [
    "Le model est assemblé, on sépare les données et on entraine le model :"
   ]
  },
  {
   "cell_type": "code",
   "execution_count": 30,
   "metadata": {},
   "outputs": [],
   "source": [
    "scaler = StandardScaler()\n",
    "X_train_scaled = scaler.fit_transform(X_train)\n",
    "X_valid_scaled = scaler.transform(X_valid)\n",
    "X_test_scaled = scaler.transform(X_test)"
   ]
  },
  {
   "cell_type": "markdown",
   "metadata": {},
   "source": [
    "On set up un callback de checkpoint et un early stopping :"
   ]
  },
  {
   "cell_type": "code",
   "execution_count": 31,
   "metadata": {},
   "outputs": [],
   "source": [
    "checkpoint_cb = keras.callbacks.ModelCheckpoint(\"dl_classification_model.h5\", save_best_only=True)\n",
    "early_stopping_cb = keras.callbacks.EarlyStopping(patience=20, restore_best_weights=True)"
   ]
  },
  {
   "cell_type": "code",
   "execution_count": 32,
   "metadata": {},
   "outputs": [
    {
     "name": "stdout",
     "output_type": "stream",
     "text": [
      "Epoch 1/50\n",
      "470/470 [==============================] - 1s 2ms/step - loss: 0.6471 - accuracy: 0.3507 - val_loss: 0.5913 - val_accuracy: 0.2855\n",
      "Epoch 2/50\n",
      "470/470 [==============================] - 1s 2ms/step - loss: 0.5988 - accuracy: 0.3003 - val_loss: 0.5661 - val_accuracy: 0.2855\n",
      "Epoch 3/50\n",
      "470/470 [==============================] - 1s 2ms/step - loss: 0.5814 - accuracy: 0.2992 - val_loss: 0.5444 - val_accuracy: 0.2855\n",
      "Epoch 4/50\n",
      "470/470 [==============================] - 1s 2ms/step - loss: 0.5642 - accuracy: 0.2990 - val_loss: 0.5244 - val_accuracy: 0.2855\n",
      "Epoch 5/50\n",
      "470/470 [==============================] - 1s 2ms/step - loss: 0.5477 - accuracy: 0.2992 - val_loss: 0.5101 - val_accuracy: 0.2855\n",
      "Epoch 6/50\n",
      "470/470 [==============================] - 1s 2ms/step - loss: 0.5369 - accuracy: 0.2988 - val_loss: 0.5009 - val_accuracy: 0.2855\n",
      "Epoch 7/50\n",
      "470/470 [==============================] - 1s 2ms/step - loss: 0.5294 - accuracy: 0.2987 - val_loss: 0.4940 - val_accuracy: 0.2855\n",
      "Epoch 8/50\n",
      "470/470 [==============================] - 1s 2ms/step - loss: 0.5203 - accuracy: 0.2983 - val_loss: 0.4876 - val_accuracy: 0.2855\n",
      "Epoch 9/50\n",
      "470/470 [==============================] - 1s 2ms/step - loss: 0.5120 - accuracy: 0.2978 - val_loss: 0.4834 - val_accuracy: 0.2855\n",
      "Epoch 10/50\n",
      "470/470 [==============================] - 1s 2ms/step - loss: 0.5120 - accuracy: 0.2990 - val_loss: 0.4811 - val_accuracy: 0.2855\n",
      "Epoch 11/50\n",
      "470/470 [==============================] - 1s 2ms/step - loss: 0.5091 - accuracy: 0.2986 - val_loss: 0.4776 - val_accuracy: 0.2855\n",
      "Epoch 12/50\n",
      "470/470 [==============================] - 1s 2ms/step - loss: 0.5045 - accuracy: 0.2987 - val_loss: 0.4755 - val_accuracy: 0.2855\n",
      "Epoch 13/50\n",
      "470/470 [==============================] - 1s 2ms/step - loss: 0.5032 - accuracy: 0.2984 - val_loss: 0.4740 - val_accuracy: 0.2855\n",
      "Epoch 14/50\n",
      "470/470 [==============================] - 1s 2ms/step - loss: 0.4994 - accuracy: 0.2992 - val_loss: 0.4728 - val_accuracy: 0.2855\n",
      "Epoch 15/50\n",
      "470/470 [==============================] - 1s 2ms/step - loss: 0.4945 - accuracy: 0.3008 - val_loss: 0.4697 - val_accuracy: 0.2855\n",
      "Epoch 16/50\n",
      "470/470 [==============================] - 1s 2ms/step - loss: 0.4945 - accuracy: 0.3000 - val_loss: 0.4689 - val_accuracy: 0.2855\n",
      "Epoch 17/50\n",
      "470/470 [==============================] - 1s 2ms/step - loss: 0.4895 - accuracy: 0.3011 - val_loss: 0.4674 - val_accuracy: 0.2855\n",
      "Epoch 18/50\n",
      "470/470 [==============================] - 1s 2ms/step - loss: 0.4906 - accuracy: 0.3008 - val_loss: 0.4666 - val_accuracy: 0.2855\n",
      "Epoch 19/50\n",
      "470/470 [==============================] - 1s 2ms/step - loss: 0.4868 - accuracy: 0.3010 - val_loss: 0.4651 - val_accuracy: 0.2855\n",
      "Epoch 20/50\n",
      "470/470 [==============================] - 1s 2ms/step - loss: 0.4851 - accuracy: 0.3017 - val_loss: 0.4640 - val_accuracy: 0.2855\n",
      "Epoch 21/50\n",
      "470/470 [==============================] - 1s 2ms/step - loss: 0.4815 - accuracy: 0.3007 - val_loss: 0.4631 - val_accuracy: 0.2855\n",
      "Epoch 22/50\n",
      "470/470 [==============================] - 1s 2ms/step - loss: 0.4826 - accuracy: 0.3012 - val_loss: 0.4624 - val_accuracy: 0.2855\n",
      "Epoch 23/50\n",
      "470/470 [==============================] - 1s 2ms/step - loss: 0.4796 - accuracy: 0.3002 - val_loss: 0.4621 - val_accuracy: 0.2855\n",
      "Epoch 24/50\n",
      "470/470 [==============================] - 1s 2ms/step - loss: 0.4807 - accuracy: 0.3034 - val_loss: 0.4605 - val_accuracy: 0.2855\n",
      "Epoch 25/50\n",
      "470/470 [==============================] - 1s 2ms/step - loss: 0.4766 - accuracy: 0.3023 - val_loss: 0.4603 - val_accuracy: 0.2855\n",
      "Epoch 26/50\n",
      "470/470 [==============================] - 1s 2ms/step - loss: 0.4789 - accuracy: 0.3038 - val_loss: 0.4596 - val_accuracy: 0.2855\n",
      "Epoch 27/50\n",
      "470/470 [==============================] - 1s 2ms/step - loss: 0.4765 - accuracy: 0.3023 - val_loss: 0.4591 - val_accuracy: 0.2855\n",
      "Epoch 28/50\n",
      "470/470 [==============================] - 1s 2ms/step - loss: 0.4771 - accuracy: 0.3041 - val_loss: 0.4599 - val_accuracy: 0.2855\n",
      "Epoch 29/50\n",
      "470/470 [==============================] - 1s 2ms/step - loss: 0.4761 - accuracy: 0.3024 - val_loss: 0.4580 - val_accuracy: 0.2855\n",
      "Epoch 30/50\n",
      "470/470 [==============================] - 1s 2ms/step - loss: 0.4736 - accuracy: 0.3048 - val_loss: 0.4584 - val_accuracy: 0.2855\n",
      "Epoch 31/50\n",
      "470/470 [==============================] - 1s 2ms/step - loss: 0.4735 - accuracy: 0.3030 - val_loss: 0.4578 - val_accuracy: 0.2855\n",
      "Epoch 32/50\n",
      "470/470 [==============================] - 1s 2ms/step - loss: 0.4715 - accuracy: 0.3039 - val_loss: 0.4579 - val_accuracy: 0.2855\n",
      "Epoch 33/50\n",
      "470/470 [==============================] - 1s 2ms/step - loss: 0.4719 - accuracy: 0.3030 - val_loss: 0.4571 - val_accuracy: 0.2855\n",
      "Epoch 34/50\n",
      "470/470 [==============================] - 1s 2ms/step - loss: 0.4703 - accuracy: 0.3025 - val_loss: 0.4557 - val_accuracy: 0.2855\n",
      "Epoch 35/50\n",
      "470/470 [==============================] - 1s 2ms/step - loss: 0.4658 - accuracy: 0.3048 - val_loss: 0.4557 - val_accuracy: 0.2855\n",
      "Epoch 36/50\n",
      "470/470 [==============================] - 1s 2ms/step - loss: 0.4698 - accuracy: 0.3030 - val_loss: 0.4549 - val_accuracy: 0.2855\n",
      "Epoch 37/50\n",
      "470/470 [==============================] - 1s 1ms/step - loss: 0.4667 - accuracy: 0.3064 - val_loss: 0.4545 - val_accuracy: 0.2855\n",
      "Epoch 38/50\n",
      "470/470 [==============================] - 1s 2ms/step - loss: 0.4674 - accuracy: 0.3062 - val_loss: 0.4545 - val_accuracy: 0.2855\n",
      "Epoch 39/50\n",
      "470/470 [==============================] - 1s 2ms/step - loss: 0.4683 - accuracy: 0.3070 - val_loss: 0.4538 - val_accuracy: 0.2855\n",
      "Epoch 40/50\n",
      "470/470 [==============================] - 1s 2ms/step - loss: 0.4649 - accuracy: 0.3042 - val_loss: 0.4527 - val_accuracy: 0.2855\n",
      "Epoch 41/50\n",
      "470/470 [==============================] - 1s 2ms/step - loss: 0.4663 - accuracy: 0.3067 - val_loss: 0.4545 - val_accuracy: 0.2855\n",
      "Epoch 42/50\n",
      "470/470 [==============================] - 1s 2ms/step - loss: 0.4648 - accuracy: 0.3041 - val_loss: 0.4528 - val_accuracy: 0.2855\n",
      "Epoch 43/50\n",
      "470/470 [==============================] - 1s 1ms/step - loss: 0.4635 - accuracy: 0.3029 - val_loss: 0.4529 - val_accuracy: 0.2855\n",
      "Epoch 44/50\n",
      "470/470 [==============================] - 1s 2ms/step - loss: 0.4650 - accuracy: 0.3045 - val_loss: 0.4518 - val_accuracy: 0.2855\n",
      "Epoch 45/50\n",
      "470/470 [==============================] - 1s 1ms/step - loss: 0.4652 - accuracy: 0.3062 - val_loss: 0.4535 - val_accuracy: 0.2855\n",
      "Epoch 46/50\n",
      "470/470 [==============================] - 1s 2ms/step - loss: 0.4627 - accuracy: 0.3051 - val_loss: 0.4526 - val_accuracy: 0.2855\n",
      "Epoch 47/50\n",
      "470/470 [==============================] - 1s 2ms/step - loss: 0.4626 - accuracy: 0.3056 - val_loss: 0.4525 - val_accuracy: 0.2855\n",
      "Epoch 48/50\n",
      "470/470 [==============================] - 1s 2ms/step - loss: 0.4617 - accuracy: 0.3063 - val_loss: 0.4510 - val_accuracy: 0.2855\n",
      "Epoch 49/50\n",
      "470/470 [==============================] - 1s 2ms/step - loss: 0.4608 - accuracy: 0.3049 - val_loss: 0.4509 - val_accuracy: 0.2855\n",
      "Epoch 50/50\n",
      "470/470 [==============================] - 1s 1ms/step - loss: 0.4595 - accuracy: 0.3064 - val_loss: 0.4513 - val_accuracy: 0.2855\n"
     ]
    }
   ],
   "source": [
    "history = model.fit(X_train_scaled, Y_train, epochs=50, validation_data=(X_valid_scaled, Y_valid), callbacks=[checkpoint_cb, early_stopping_cb])"
   ]
  },
  {
   "cell_type": "markdown",
   "metadata": {},
   "source": [
    "On récupère le meilleur model"
   ]
  },
  {
   "cell_type": "code",
   "execution_count": 33,
   "metadata": {},
   "outputs": [],
   "source": [
    "model = keras.models.load_model(\"dl_classification_model.h5\")"
   ]
  },
  {
   "cell_type": "code",
   "execution_count": 34,
   "metadata": {},
   "outputs": [
    {
     "name": "stdout",
     "output_type": "stream",
     "text": [
      "209/209 [==============================] - 0s 809us/step - loss: 0.4389 - accuracy: 0.2802\n"
     ]
    }
   ],
   "source": [
    "mse_test = model.evaluate(X_test_scaled, Y_test)"
   ]
  },
  {
   "cell_type": "code",
   "execution_count": 35,
   "metadata": {},
   "outputs": [
    {
     "data": {
      "text/plain": [
       "array([[0.08599183, 0.8049027 ],\n",
       "       [0.09201509, 0.20507511],\n",
       "       [0.6390015 , 0.754429  ],\n",
       "       [0.4419866 , 0.74805576],\n",
       "       [0.18585879, 0.7486738 ],\n",
       "       [0.49118802, 0.7586717 ],\n",
       "       [0.04188004, 0.09754744],\n",
       "       [0.20724553, 0.5915547 ],\n",
       "       [0.16698137, 0.59147346],\n",
       "       [0.55379516, 0.7165635 ]], dtype=float32)"
      ]
     },
     "execution_count": 35,
     "metadata": {},
     "output_type": "execute_result"
    }
   ],
   "source": [
    "predictions = model.predict(X_test_scaled)"
   ]
  },
  {
   "cell_type": "code",
   "execution_count": 40,
   "metadata": {},
   "outputs": [
    {
     "data": {
      "text/plain": [
       "array([[0., 1.],\n",
       "       [0., 0.],\n",
       "       [1., 1.],\n",
       "       [0., 1.],\n",
       "       [0., 1.],\n",
       "       [0., 1.],\n",
       "       [0., 0.],\n",
       "       [0., 1.],\n",
       "       [0., 1.],\n",
       "       [1., 1.]], dtype=float32)"
      ]
     },
     "execution_count": 40,
     "metadata": {},
     "output_type": "execute_result"
    }
   ],
   "source": [
    "round_predictions = predictions.round()\n",
    "round_predictions[0:10]"
   ]
  },
  {
   "cell_type": "code",
   "execution_count": 38,
   "metadata": {},
   "outputs": [
    {
     "data": {
      "text/plain": [
       "array([[ True,  True],\n",
       "       [ True,  True],\n",
       "       [ True,  True],\n",
       "       [ True,  True],\n",
       "       [ True,  True],\n",
       "       [False,  True],\n",
       "       [ True,  True],\n",
       "       [ True,  True],\n",
       "       [ True, False],\n",
       "       [ True,  True]])"
      ]
     },
     "execution_count": 38,
     "metadata": {},
     "output_type": "execute_result"
    }
   ],
   "source": [
    "round_predictions[0:10] == Y_test[0:10]"
   ]
  },
  {
   "cell_type": "markdown",
   "metadata": {},
   "source": [
    "On se rend compte que l'entrainnement n'est pas fou, soit il overfit soit il n'est pas précis : il faut plus de données. On peut utiliser la médiane pour compler les trous !\n",
    "* SimpleImputer ?\n",
    "* Pour des données catégorielles ?\n",
    "* KNN imputer : pas particulièrement de gains\n",
    "\n",
    "--> Faire des tests et voir quel imputer fonctionne le mieux"
   ]
  },
  {
   "cell_type": "markdown",
   "metadata": {},
   "source": [
    "Autre approche : supprimer les données inutiles ? (voir matrice de corrélation)"
   ]
  }
 ],
 "metadata": {
  "interpreter": {
   "hash": "88b22dca2824d609b93780823578fec25c709e92ed87a3b4977ff37edccce9e0"
  },
  "kernelspec": {
   "display_name": "Python 3 (ipykernel)",
   "language": "python",
   "name": "python3"
  },
  "language_info": {
   "codemirror_mode": {
    "name": "ipython",
    "version": 3
   },
   "file_extension": ".py",
   "mimetype": "text/x-python",
   "name": "python",
   "nbconvert_exporter": "python",
   "pygments_lexer": "ipython3",
   "version": "3.9.7"
  }
 },
 "nbformat": 4,
 "nbformat_minor": 2
}
